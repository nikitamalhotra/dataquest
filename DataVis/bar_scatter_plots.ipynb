{
 "cells": [
  {
   "cell_type": "markdown",
   "metadata": {
    "collapsed": true
   },
   "source": [
    "To investigate how different movie review sites the potential bias that movie reviews site has, FiveThirtyEight compiled data for 147 films from 2015 that have substantive reviews from both critics and consumers. Every time Hollywood releases a movie, critics from Metacritic, Fandango, Rotten Tomatoes, and IMDB review and rate the film. They also ask the users in their respective communities to review and rate the film. Then, they calculate the average rating from both critics and users and display them on their site. Here are screenshots from each site:\n",
    "\n",
    "FiveThirtyEight compiled this dataset to investigate if there was any bias to Fandango's ratings. In addition to aggregating ratings for films, Fandango is unique in that it also sells movie tickets, and so it has a direct commercial interest in showing higher ratings. After discovering that a few films that weren't good were still rated highly on Fandango, the team investigated and published an article about bias in movie ratings.\n",
    "\n",
    "We'll be working with the fandango_scores.csv file, which can be downloaded from the FiveThirtEight Github repo. Here are the columns we'll be working with in this mission:\n",
    "\n",
    "- FILM - film name\n",
    "- RT_user_norm - average user rating from Rotten Tomatoes, normalized to a 1 to 5 point scale\n",
    "- Metacritic_user_nom - average user rating from Metacritc, normalized to a 1 to 5 point scale\n",
    "- IMDB_norm - average user rating from IMDB, normalized to a 1 to 5 point scale\n",
    "- Fandango_Ratingvalue - average user rating from Fandango, normalized to a 1 to 5 point scale\n",
    "- Fandango_Stars - the rating displayed on the Fandango website (rounded to nearest star, 1 to 5 point scale)\n",
    "- Instead of displaying the raw rating, the writer discovered that Fandango usually rounded the average rating to the next highest half star (next highest 0.5 value). The Fandango_Ratingvalue column reflects the true average rating while the Fandango_Stars column reflects the displayed, rounded rating.\n",
    "\n",
    "Let's read in this dataset, which allows us to compare how a movie fared across all 4 review sites.\n",
    "\n",
    "Instructions\n",
    "\n",
    "- Read fandango_scores.csv into a Dataframe named reviews.\n",
    "- Select the following columns and assign the resulting Dataframe to norm_reviews:\n",
    "    - FILM\n",
    "    - RT_user_norm\n",
    "    - Metacritic_user_nom (note the misspelling of norm)\n",
    "    - IMDB_norm\n",
    "    - Fandango_Ratingvalue\n",
    "    - Fandango_Stars\n",
    "- Display the first row in norm_reviews"
   ]
  },
  {
   "cell_type": "code",
   "execution_count": 1,
   "metadata": {},
   "outputs": [
    {
     "data": {
      "text/html": [
       "<div>\n",
       "<style scoped>\n",
       "    .dataframe tbody tr th:only-of-type {\n",
       "        vertical-align: middle;\n",
       "    }\n",
       "\n",
       "    .dataframe tbody tr th {\n",
       "        vertical-align: top;\n",
       "    }\n",
       "\n",
       "    .dataframe thead th {\n",
       "        text-align: right;\n",
       "    }\n",
       "</style>\n",
       "<table border=\"1\" class=\"dataframe\">\n",
       "  <thead>\n",
       "    <tr style=\"text-align: right;\">\n",
       "      <th></th>\n",
       "      <th>FILM</th>\n",
       "      <th>RT_user_norm</th>\n",
       "      <th>Metacritic_user_nom</th>\n",
       "      <th>IMDB_norm</th>\n",
       "      <th>Fandango_Ratingvalue</th>\n",
       "      <th>Fandango_Stars</th>\n",
       "    </tr>\n",
       "  </thead>\n",
       "  <tbody>\n",
       "    <tr>\n",
       "      <th>0</th>\n",
       "      <td>Avengers: Age of Ultron (2015)</td>\n",
       "      <td>4.3</td>\n",
       "      <td>3.55</td>\n",
       "      <td>3.90</td>\n",
       "      <td>4.5</td>\n",
       "      <td>5.0</td>\n",
       "    </tr>\n",
       "    <tr>\n",
       "      <th>1</th>\n",
       "      <td>Cinderella (2015)</td>\n",
       "      <td>4.0</td>\n",
       "      <td>3.75</td>\n",
       "      <td>3.55</td>\n",
       "      <td>4.5</td>\n",
       "      <td>5.0</td>\n",
       "    </tr>\n",
       "    <tr>\n",
       "      <th>2</th>\n",
       "      <td>Ant-Man (2015)</td>\n",
       "      <td>4.5</td>\n",
       "      <td>4.05</td>\n",
       "      <td>3.90</td>\n",
       "      <td>4.5</td>\n",
       "      <td>5.0</td>\n",
       "    </tr>\n",
       "  </tbody>\n",
       "</table>\n",
       "</div>"
      ],
      "text/plain": [
       "                             FILM  RT_user_norm  Metacritic_user_nom  \\\n",
       "0  Avengers: Age of Ultron (2015)           4.3                 3.55   \n",
       "1               Cinderella (2015)           4.0                 3.75   \n",
       "2                  Ant-Man (2015)           4.5                 4.05   \n",
       "\n",
       "   IMDB_norm  Fandango_Ratingvalue  Fandango_Stars  \n",
       "0       3.90                   4.5             5.0  \n",
       "1       3.55                   4.5             5.0  \n",
       "2       3.90                   4.5             5.0  "
      ]
     },
     "execution_count": 1,
     "metadata": {},
     "output_type": "execute_result"
    }
   ],
   "source": [
    "import pandas as pd\n",
    "\n",
    "reviews = pd.read_csv('fandango_scores.csv')\n",
    "columns_to_keep = ['FILM', \n",
    "                   'RT_user_norm', \n",
    "                   'Metacritic_user_nom', \n",
    "                   'IMDB_norm',\n",
    "                   'Fandango_Ratingvalue',\n",
    "                   'Fandango_Stars']\n",
    "\n",
    "norm_reviews = reviews[columns_to_keep]\n",
    "norm_reviews.head(3)"
   ]
  },
  {
   "cell_type": "markdown",
   "metadata": {},
   "source": [
    "When we generated line charts, we passed in the data to pyplot.plot() and matplotlib took care of the rest. Because the markers and lines in a line chart correspond directly with x-axis and y-axis coordinates, all matplotlib needed was the data we wanted plotted. To create a useful bar plot, however, we need to specify the positions of the bars, the widths of the bars, and the positions of the axis labels. Here's a diagram that shows the various values we need to specify:\n",
    "\n",
    "<img src='figures/matplotlib_barplot_positioning.png'>\n",
    "\n",
    "We'll focus on positioning the bars on the x-axis in this step and on positioning the x-axis labels in the next step. We can generate a vertical bar plot using either pyplot.bar() or Axes.bar(). We'll use Axes.bar() so we can extensively customize the bar plot more easily. We can use pyplot.subplots() to first generate a single subplot and return both the Figure and Axes object. This is a shortcut from the technique we used in the previous mission:\n",
    "\n",
    "- fig, ax = plt.subplots()\n",
    "\n",
    "The Axes.bar() method has 2 required parameters, left and height. We use the left parameter to specify the x coordinates of the left sides of the bar (marked in blue on the above image). We use the height parameter to specify the height of each bar. Both of these parameters accept a list-like object.\n",
    "\n",
    "The np.arange() function returns evenly spaced values. We use arange() to generate the positions of the left side of our bars. This function requires a paramater that specifies the number of values we want to generate. We'll also want to add space between our bars for better readability:\n",
    "\n",
    "#Positions of the left sides of the 5 bars. [0.75, 1.75, 2.75, 3.75, 4.75]\n",
    "\n",
    "- from numpy import arange\n",
    "- bar_positions = arange(5) + 0.75\n",
    "\n",
    "#Heights of the bars. In our case, the average rating for the first movie in the dataset.\n",
    "\n",
    "- num_cols = ['RT_user_norm', 'Metacritic_user_nom', 'IMDB_norm', 'Fandango_Ratingvalue', 'Fandango_Stars']\n",
    "- bar_heights = norm_reviews[num_cols].iloc[0].values\n",
    "- ax.bar(bar_positions, bar_heights)\n",
    "\n",
    "We can also use the width parameter to specify the width of each bar. This is an optional parameter and the width of each bar is set to 0.8 by default. The following code sets the width parameter to 1.5:\n",
    "\n",
    "- ax.bar(bar_positions, bar_heights, 1.5)\n",
    "\n",
    "Instructions\n",
    "- Create a single subplot and assign the returned Figure object to fig and the returned Axes object to ax.\n",
    "- Generate a bar plot with:\n",
    "    - left set to bar_positions\n",
    "    - height set to bar_heights\n",
    "    - width set to 0.5\n",
    "- Use plt.show() to display the bar plot."
   ]
  },
  {
   "cell_type": "code",
   "execution_count": 2,
   "metadata": {},
   "outputs": [
    {
     "data": {
      "image/png": "[encoded data removed]",
      "text/plain": [
       "<matplotlib.figure.Figure at 0x109bdeba8>"
      ]
     },
     "metadata": {},
     "output_type": "display_data"
    }
   ],
   "source": [
    "import matplotlib.pyplot as plt\n",
    "import numpy as np\n",
    "%matplotlib inline\n",
    "\n",
    "fig, ax = plt.subplots()\n",
    "bar_positions = np.arange(5) + 0.75\n",
    "num_cols = ['RT_user_norm', 'Metacritic_user_nom', 'IMDB_norm', 'Fandango_Ratingvalue', 'Fandango_Stars']\n",
    "bar_heights = norm_reviews[num_cols].iloc[0]\n",
    "\n",
    "ax.bar(bar_positions, bar_heights, width=0.5)\n",
    "plt.show()"
   ]
  },
  {
   "cell_type": "markdown",
   "metadata": {},
   "source": [
    "By default, matplotlib sets the x-axis tick labels to the integer values the bars spanned on the x-axis (from 0 to 6). We only need tick labels on the x-axis where the bars are positioned. We can use Axes.set_xticks() to change the positions of the ticks to [1, 2, 3, 4, 5]:\n",
    "\n",
    "- tick_positions = range(1,6)\n",
    "- ax.set_xticks(tick_positions)\n",
    "\n",
    "Then, we can use Axes.set_xticklabels() to specify the tick labels:\n",
    "\n",
    "- num_cols = ['RT_user_norm', 'Metacritic_user_nom', 'IMDB_norm', 'Fandango_Ratingvalue', 'Fandango_Stars']\n",
    "- ax.set_xticklabels(num_cols)\n",
    "\n",
    "If you look at the documentation for the method, you'll notice that we can specify the orientation for the labels using the rotation parameter:\n",
    "\n",
    "- ax.set_xticklabels(num_cols, rotation=90)\n",
    "\n",
    "Rotating the labels by 90 degrees keeps them readable. In addition to modifying the x-axis tick positions and labels, let's also set the x-axis label, y-axis label, and the plot title.\n",
    "\n",
    "Instructions\n",
    "- Create a single subplot and assign the returned Figure object to fig and the returned Axes object to ax.\n",
    "- Generate a bar plot with:\n",
    "    - left set to bar_positions\n",
    "    - height set to bar_heights\n",
    "    - width set to 0.5\n",
    "- Set the x-axis tick positions to tick_positions.\n",
    "- Set the x-axis tick labels to num_cols and rotate by 90 degrees.\n",
    "- Set the x-axis label to \"Rating Source\".\n",
    "- Set the y-axis label to \"Average Rating\".\n",
    "- Set the plot title to \"Average User Rating For Avengers: Age of Ultron (2015)\".\n",
    "- Use plt.show() to display the bar plot."
   ]
  },
  {
   "cell_type": "code",
   "execution_count": 1,
   "metadata": {},
   "outputs": [
    {
     "ename": "NameError",
     "evalue": "name 'plt' is not defined",
     "output_type": "error",
     "traceback": [
      "\u001b[0;31m---------------------------------------------------------------------------\u001b[0m",
      "\u001b[0;31mNameError\u001b[0m                                 Traceback (most recent call last)",
      "\u001b[0;32m<ipython-input-1-e856bb066b84>\u001b[0m in \u001b[0;36m<module>\u001b[0;34m()\u001b[0m\n\u001b[0;32m----> 1\u001b[0;31m \u001b[0mfig\u001b[0m\u001b[0;34m,\u001b[0m \u001b[0max\u001b[0m \u001b[0;34m=\u001b[0m \u001b[0mplt\u001b[0m\u001b[0;34m.\u001b[0m\u001b[0msubplots\u001b[0m\u001b[0;34m(\u001b[0m\u001b[0;34m)\u001b[0m\u001b[0;34m\u001b[0m\u001b[0m\n\u001b[0m\u001b[1;32m      2\u001b[0m \u001b[0max\u001b[0m\u001b[0;34m.\u001b[0m\u001b[0mbar\u001b[0m\u001b[0;34m(\u001b[0m\u001b[0mbar_positions\u001b[0m\u001b[0;34m,\u001b[0m \u001b[0mbar_heights\u001b[0m\u001b[0;34m,\u001b[0m \u001b[0mwidth\u001b[0m\u001b[0;34m=\u001b[0m\u001b[0;36m0.5\u001b[0m\u001b[0;34m,\u001b[0m \u001b[0medgecolor\u001b[0m\u001b[0;34m=\u001b[0m\u001b[0;34m'black'\u001b[0m\u001b[0;34m)\u001b[0m\u001b[0;34m\u001b[0m\u001b[0m\n\u001b[1;32m      3\u001b[0m \u001b[0max\u001b[0m\u001b[0;34m.\u001b[0m\u001b[0mset_xticklabels\u001b[0m\u001b[0;34m(\u001b[0m\u001b[0mnum_cols\u001b[0m\u001b[0;34m,\u001b[0m \u001b[0mrotation\u001b[0m\u001b[0;34m=\u001b[0m\u001b[0;36m90\u001b[0m\u001b[0;34m)\u001b[0m\u001b[0;34m\u001b[0m\u001b[0m\n\u001b[1;32m      4\u001b[0m \u001b[0max\u001b[0m\u001b[0;34m.\u001b[0m\u001b[0mset_xticks\u001b[0m\u001b[0;34m(\u001b[0m\u001b[0mnp\u001b[0m\u001b[0;34m.\u001b[0m\u001b[0marange\u001b[0m\u001b[0;34m(\u001b[0m\u001b[0;36m5\u001b[0m\u001b[0;34m)\u001b[0m \u001b[0;34m+\u001b[0m \u001b[0;36m0.75\u001b[0m\u001b[0;34m)\u001b[0m\u001b[0;34m\u001b[0m\u001b[0m\n\u001b[1;32m      5\u001b[0m \u001b[0max\u001b[0m\u001b[0;34m.\u001b[0m\u001b[0mtick_params\u001b[0m\u001b[0;34m(\u001b[0m\u001b[0maxis\u001b[0m\u001b[0;34m=\u001b[0m\u001b[0;34m'x'\u001b[0m\u001b[0;34m,\u001b[0m \u001b[0mbottom\u001b[0m\u001b[0;34m=\u001b[0m\u001b[0;34m'off'\u001b[0m\u001b[0;34m)\u001b[0m\u001b[0;34m\u001b[0m\u001b[0m\n",
      "\u001b[0;31mNameError\u001b[0m: name 'plt' is not defined"
     ]
    }
   ],
   "source": [
    "fig, ax = plt.subplots()\n",
    "ax.bar(bar_positions, bar_heights, width=0.5)\n",
    "ax.set_xticklabels(num_cols, rotation=90)\n",
    "ax.set_xticks(np.arange(5) + 0.75)\n",
    "ax.tick_params(axis='x', bottom='off')\n",
    "ax.set_xlabel('Rating Source')\n",
    "ax.set_ylabel('Average Rating')\n",
    "ax.set_title('Average User Rating For Avengers: Age of Ultron (2015)')\n",
    "\n",
    "plt.show()"
   ]
  },
  {
   "cell_type": "markdown",
   "metadata": {},
   "source": [
    "We can create a horizontal bar plot in matplotlib in a similar fashion. Instead of using Axes.bar(), we use Axes.barh(). This method has 2 required parameters, bottom and width. We use the bottom parameter to specify the y coordinate for the bottom sides for the bars and the width parameter to specify the lengths of the bars:\n",
    "\n",
    "- bar_widths = norm_reviews[num_cols].iloc[0].values\n",
    "- bar_positions = arange(5) + 0.75\n",
    "- ax.barh(bar_positions, bar_widths, 0.5)\n",
    "\n",
    "To recreate the bar plot from the last step as horizontal bar plot, we essentially need to map the properties we set for the y-axis instead of the x-axis. We use Axes.set_yticks() to set the y-axis tick positions to [1, 2, 3, 4, 5] and Axes.set_yticklabels() to set the tick labels to the column names:\n",
    "\n",
    "- tick_positions = range(5) + 1\n",
    "- num_cols = ['RT_user_norm', 'Metacritic_user_nom', 'IMDB_norm', 'Fandango_Ratingvalue', 'Fandango_Stars']\n",
    "- ax.set_yticks(tick_positions)\n",
    "- ax.set_yticklabels(num_cols)\n",
    "\n",
    "Instructions\n",
    "- Create a single subplot and assign the returned Figure object to fig and the returned Axes object to ax.\n",
    "- Generate a bar plot with:\n",
    "    - bottom set to bar_positions\n",
    "    - width set to bar_widths\n",
    "    - height set to 0.5\n",
    "- Set the y-axis tick positions to tick_positions.\n",
    "- Set the y-axis tick labels to num_cols.\n",
    "- Set the y-axis label to \"Rating Source\".\n",
    "- Set the x-axis label to \"Average Rating\".\n",
    "- Set the plot title to \"Average User Rating For Avengers: Age of Ultron (2015)\".\n",
    "- Use plt.show() to display the bar plot."
   ]
  },
  {
   "cell_type": "code",
   "execution_count": 4,
   "metadata": {},
   "outputs": [
    {
     "data": {
      "image/png": "[encoded data removed]",
      "text/plain": [
       "<matplotlib.figure.Figure at 0x10b556128>"
      ]
     },
     "metadata": {},
     "output_type": "display_data"
    }
   ],
   "source": [
    "fig, ax = plt.subplots()\n",
    "\n",
    "bar_widths = norm_reviews[num_cols].iloc[0]\n",
    "ax.barh(bar_positions, bar_widths, height=0.5)\n",
    "ax.set_yticks(np.arange(5) + 0.8)\n",
    "ax.tick_params(axis='y', left='off')\n",
    "ax.set_yticklabels(num_cols)\n",
    "ax.set_ylabel('Rating Source')\n",
    "ax.set_xlabel('Average Rating')\n",
    "ax.set_title('Average User Rating For Avengers: Age of Ultron (2015)')\n",
    "\n",
    "plt.show()"
   ]
  },
  {
   "cell_type": "markdown",
   "metadata": {},
   "source": [
    "From the horizontal bar plot, we can more easily determine that the 2 average scores from Fandango users are higher than those from the other sites. While bar plots help us visualize a few data points to quickly compare them, they aren't good at helping us visualize many data points. Let's look at a plot that can help us visualize many points.\n",
    "\n",
    "In the previous mission, the line charts we generated always connected points from left to right. This helped us show the trend, up or down, between each point as we scanned visually from left to right. Instead, we can avoid using lines to connect markers and just use the underlying markers. A plot containing just the markers is known as a scatter plot.\n",
    "\n",
    "<img src='figures/scatter_plot_intro.png'>\n",
    "\n",
    "A scatter plot helps us determine if 2 columns are weakly or strongly correlated. While calculating the correlation coefficient will give us a precise number, a scatter plot helps us find outliers, gain a more intuitive sense of how spread out the data is, and compare more easily.\n",
    "\n",
    "To generate a scatter plot, we use Axes.scatter(). The scatter() method has 2 required parameters, x and y, which matches the parameters of the plot() method. The values for these parameters need to be iterable objects of matching lengths (lists, NumPy arrays, or pandas series).\n",
    "\n",
    "Let's start by creating a scatter plot that visualizes the relationship between the Fandango_Ratingvalue and RT_user_norm columns. We're looking for at least a weak correlation between the columns.\n",
    "\n",
    "Instructions\n",
    "- Create a single subplot and assign the returned Figure object to fig and the returned Axes object to ax.\n",
    "- Generate a scatter plot with the Fandango_Ratingvalue column on the x-axis and the RT_user_norm column on the y-axis.\n",
    "- Set the x-axis label to \"Fandango\" and the y-axis label to \"Rotten Tomatoes\".\n",
    "- Use plt.show() to display the resulting plot."
   ]
  },
  {
   "cell_type": "code",
   "execution_count": 5,
   "metadata": {},
   "outputs": [
    {
     "data": {
      "image/png": "[encoded data removed]",
      "text/plain": [
       "<matplotlib.figure.Figure at 0x109bde7b8>"
      ]
     },
     "metadata": {},
     "output_type": "display_data"
    }
   ],
   "source": [
    "xvals = norm_reviews['Fandango_Ratingvalue']\n",
    "yvals = norm_reviews['RT_user_norm']\n",
    "\n",
    "fig, ax = plt.subplots()\n",
    "\n",
    "ax.scatter(xvals, yvals)\n",
    "ax.set_xlabel('Fandango')\n",
    "ax.set_ylabel('Rotten Tomatoes')\n",
    "\n",
    "plt.show()"
   ]
  },
  {
   "cell_type": "markdown",
   "metadata": {},
   "source": [
    "The scatter plot suggests that there's a weak, positive correlation between the user ratings on Fandango and the user ratings on Rotten Tomatoes. The correlation is weak because for many x values, there are multiple corresponding y values. The correlation is positive because, in general, as x increases, y also increases.\n",
    "\n",
    "When using scatter plots to understand how 2 variables are correlated, it's usually not important which one is on the x-axis and which one is on the y-axis. This is because the relationship is still captured either way, even if the plots look a little different. If you want to instead understand how an independent variable affects a dependent variables, you want to put the independent one on the x-axis and the dependent one on the y-axis. Doing so helps emphasize the potential cause and effect relation.\n",
    "\n",
    "In our case, we're not exploring if the ratings from Fandango influence those on Rotten Tomatoes and we're instead looking to understand how much they agree. Let's see what happens when we flip the columns.\n",
    "\n",
    "Instructions\n",
    "- For the subplot associated with ax1:\n",
    "    - Generate a scatter plot with the Fandango_Ratingvalue column on the x-axis and the RT_user_norm column on the y-axis.\n",
    "    - Set the x-axis label to \"Fandango\" and the y-axis label to \"Rotten Tomatoes\".\n",
    "- For the subplot associated with ax2:\n",
    "    - Generate a scatter plot with the RT_user_norm column on the x-axis and the Fandango_Ratingvalue column on the y-axis.\n",
    "    - Set the x-axis label to \"Rotten Tomatoes\" and the y-axis label to \"Fandango\".\n",
    "- Use plt.show() to display the resulting plot."
   ]
  },
  {
   "cell_type": "code",
   "execution_count": 6,
   "metadata": {},
   "outputs": [
    {
     "data": {
      "image/png": "[encoded data removed]",
      "text/plain": [
       "<matplotlib.figure.Figure at 0x10b526860>"
      ]
     },
     "metadata": {},
     "output_type": "display_data"
    }
   ],
   "source": [
    "xvals = [norm_reviews['Fandango_Ratingvalue'], norm_reviews['RT_user_norm']]\n",
    "yvals = [norm_reviews['RT_user_norm'], norm_reviews['Fandango_Ratingvalue']]\n",
    "xlabels = ['Fandango', 'Rotten Tomatoes']\n",
    "ylabels = ['Rotten Tomatoes', 'Fandango']\n",
    "\n",
    "fig = plt.figure(figsize=(10, 10))\n",
    "\n",
    "for i in range(2):\n",
    "    ax = fig.add_subplot(2, 2, i + 1)\n",
    "    ax.scatter(xvals[i], yvals[i])\n",
    "    ax.set_xlabel(xlabels[i])\n",
    "    ax.set_ylabel(ylabels[i])"
   ]
  },
  {
   "cell_type": "markdown",
   "metadata": {},
   "source": [
    "The second scatter plot is a mirror reflection of the first scatter plot. The nature of the correlation is still reflected, however, which is the important thing. Let's now generate scatter plots to see how Fandango ratings correlate with all 3 of the other review sites.\n",
    "\n",
    "When generating multiple scatter plots for the purpose of comparison, it's important that all plots share the same ranges in the x-axis and y-axis. In the 2 plots we generated in the last step, the ranges for both axes didn't match. We can use Axes.set_xlim() and Axes.set_ylim() to set the data limits for both axes:\n",
    "\n",
    "- ax.set_xlim(0, 5)\n",
    "- ax.set_ylim(0, 5)\n",
    "\n",
    "By default, matplotlib uses the minimal ranges for the data limits necessary to display all of the data we specify. By manually setting the data limits ranges to specific ranges for all plots, we're ensuring that we can accurately compare. We can even use the methods we just mentioned to zoom in on a part of the plots. For example, the following code will constrained the axes to the 4 to 5 range:\n",
    "\n",
    "- ax.set_xlim(4, 5)\n",
    "- ax.set_ylim(4, 5)\n",
    "\n",
    "This makes small changes in the actual values in the data appear larger in the plot. A difference of 0.1 in a plot that ranges from 0 to 5 is hard to visually observe. A difference of 0.1 in a plot that only ranges from 4 to 5 is easily visible since the difference is 1/10th of the range.\n",
    "\n",
    "Instructions\n",
    "- For the Subplot associated with ax1:\n",
    "    - Generate a scatter plot with the Fandango_Ratingvalue column on the x-axis and the RT_user_norm column on the y-axis.\n",
    "    - Set the x-axis label to \"Fandango\" and the y-axis label to \"Rotten Tomatoes\".\n",
    "    - Set the x-axis and y-axis data limits to range from 0 and 5.\n",
    "- For the Subplot associated with ax2:\n",
    "    - Generate a scatter plot with the Fandango_Ratingvalue column on the x-axis and the Metacritic_user_nom column on the y-axis.\n",
    "    - Set the x-axis label to \"Fandango\" and the y-axis label to \"Metacritic\".\n",
    "    - Set the x-axis and y-axis data limits to range from 0 and 5.\n",
    "- For the Subplot associated with ax3:\n",
    "    - Generate a scatter plot with the Fandango_Ratingvalue column on the x-axis and the IMDB_norm column on the y-axis.\n",
    "    - Set the x-axis label to \"Fandango\" and the y-axis label to \"IMDB\".\n",
    "    - Set the x-axis and y-axis data limits to range from 0 and 5.\n",
    "- Use plt.show() to display the plots."
   ]
  },
  {
   "cell_type": "code",
   "execution_count": 7,
   "metadata": {},
   "outputs": [
    {
     "data": {
      "image/png": "[encoded data removed]",
      "text/plain": [
       "<matplotlib.figure.Figure at 0x10b7ff0f0>"
      ]
     },
     "metadata": {},
     "output_type": "display_data"
    }
   ],
   "source": [
    "fig = plt.figure(figsize=(10,3))\n",
    "\n",
    "xvals = norm_reviews['Fandango_Ratingvalue']\n",
    "yvals = [norm_reviews['RT_user_norm'], norm_reviews['Metacritic_user_nom'], norm_reviews['IMDB_norm']]\n",
    "ylabels = ['Rotten Tomatoes', 'Metacritic', 'IMDB']\n",
    "\n",
    "for i in range(3):\n",
    "    ax = fig.add_subplot(1, 3, i + 1)\n",
    "    ax.scatter(xvals, yvals[i])\n",
    "    ax.set_xlim(0, 5)\n",
    "    ax.set_ylim(0, 5)\n",
    "    ax.set_xlabel('Fandango')\n",
    "    ax.set_ylabel(ylabels[i])"
   ]
  },
  {
   "cell_type": "markdown",
   "metadata": {},
   "source": [
    "From the scatter plots, we can conclude that user ratings from IMDB and Fandango are the most similar. In addition, user ratings from Metacritic and Rotten Tomatoes have positive but weak correlations with user ratings from Fandango. We can also notice that user ratings from Metacritic and Rotten Tomatoes span a larger range of values than those from IMDB or Fandango. User ratings from Metacritic and Rotten Tomatoes range from 1 to 5. User ratings from Fandango range approximately from 2.5 to 5 while those from IMDB range approximately from 2 to 4.5.\n",
    "\n",
    "The scatter plots unfortunately only give us a cursory understanding of the distributions of user ratings from each review site. For example, if a hundred movies had the same average user rating from IMDB and Fandango in the dataset, we would only see a single marker in the scatter plot. In the next mission, we'll learn about two types of plots that help us understand distributions of values."
   ]
  },
  {
   "cell_type": "code",
   "execution_count": null,
   "metadata": {},
   "outputs": [],
   "source": []
  }
 ],
 "metadata": {
  "kernelspec": {
   "display_name": "Python 3",
   "language": "python",
   "name": "python3"
  },
  "language_info": {
   "codemirror_mode": {
    "name": "ipython",
    "version": 3
   },
   "file_extension": ".py",
   "mimetype": "text/x-python",
   "name": "python",
   "nbconvert_exporter": "python",
   "pygments_lexer": "ipython3",
   "version": "3.6.3"
  }
 },
 "nbformat": 4,
 "nbformat_minor": 1
}
