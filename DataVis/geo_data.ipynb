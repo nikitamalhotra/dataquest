{
 "cells": [
  {
   "cell_type": "code",
   "execution_count": 1,
   "metadata": {
    "collapsed": true
   },
   "outputs": [],
   "source": [
    "import pandas as pd"
   ]
  },
  {
   "cell_type": "code",
   "execution_count": 2,
   "metadata": {},
   "outputs": [
    {
     "name": "stdout",
     "output_type": "stream",
     "text": [
      "id                       1\nname        Private flight\nalias                   \\N\niata                     -\nicao                   NaN\ncallsign               NaN\ncountry                NaN\nactive                   Y\nName: 0, dtype: object\nid                              1\nname                       Goroka\ncity                       Goroka\ncountry          Papua New Guinea\ncode                          GKA\nicao                         AYGA\nlatitude                 -6.08169\nlongitude                 145.392\naltitude                     5282\noffset                         10\ndst                             U\ntimezone     Pacific/Port_Moresby\nName: 0, dtype: object\nairline         2B\nairline_id     410\nsource         AER\nsource_id     2965\ndest           KZN\ndest_id       2990\ncodeshare      NaN\nstops            0\nequipment      CR2\nName: 0, dtype: object\n"
     ]
    }
   ],
   "source": [
    "# airlines.csv - data on each airline.\n",
    "# \n",
    "# country - where the airline is headquartered.\n",
    "# active - if the airline is still active.\n",
    "\n",
    "# airports.csv - data on each airport.\n",
    "# \n",
    "# name - name of the airport.\n",
    "# city - city the airport is located.\n",
    "# country - country the airport is located.\n",
    "# code - unique airport code.\n",
    "# latitude - latitude value.\n",
    "# longitude - longitude value.\n",
    "\n",
    "# routes.csv - data on each flight route.\n",
    "# \n",
    "# airline - airline for the route.\n",
    "# source - starting city for the route.\n",
    "# dest - destination city for the route.\n",
    "\n",
    "airlines = pd.read_csv('Dataquest/DataVis/airlines.csv')\n",
    "airports = pd.read_csv('Dataquest/DataVis/airports.csv')\n",
    "routes = pd.read_csv('Dataquest/DataVis/routes.csv')\n",
    "\n",
    "print(airlines.iloc[0])\n",
    "print(airports.iloc[0])\n",
    "print(routes.iloc[0])"
   ]
  },
  {
   "cell_type": "code",
   "execution_count": null,
   "metadata": {},
   "outputs": [],
   "source": [
    "geo_routes = pd.read_csv('Dataquest/DataVis/geo_routes.csv')"
   ]
  }
 ],
 "metadata": {
  "kernelspec": {
   "display_name": "Python 2",
   "language": "python",
   "name": "python2"
  },
  "language_info": {
   "codemirror_mode": {
    "name": "ipython",
    "version": 2
   },
   "file_extension": ".py",
   "mimetype": "text/x-python",
   "name": "python",
   "nbconvert_exporter": "python",
   "pygments_lexer": "ipython2",
   "version": "2.7.6"
  }
 },
 "nbformat": 4,
 "nbformat_minor": 0
}
