{
 "cells": [
  {
   "cell_type": "markdown",
   "metadata": {},
   "source": [
    "In this mission, we'll learn how to visualize the distributions of user ratings using histograms and box plots. We'll continue working with the same dataset from the last mission. Recall that you can download the dataset fandango_scores.csv from the FiveThirtEight Github repo. We've read the dataset into pandas, selected the columns we're going to work with, and assigned the new Dataframe to norm_reviews."
   ]
  },
  {
   "cell_type": "code",
   "execution_count": 1,
   "metadata": {},
   "outputs": [
    {
     "data": {
      "text/html": [
       "<div>\n",
       "<style scoped>\n",
       "    .dataframe tbody tr th:only-of-type {\n",
       "        vertical-align: middle;\n",
       "    }\n",
       "\n",
       "    .dataframe tbody tr th {\n",
       "        vertical-align: top;\n",
       "    }\n",
       "\n",
       "    .dataframe thead th {\n",
       "        text-align: right;\n",
       "    }\n",
       "</style>\n",
       "<table border=\"1\" class=\"dataframe\">\n",
       "  <thead>\n",
       "    <tr style=\"text-align: right;\">\n",
       "      <th></th>\n",
       "      <th>FILM</th>\n",
       "      <th>RT_user_norm</th>\n",
       "      <th>Metacritic_user_nom</th>\n",
       "      <th>IMDB_norm</th>\n",
       "      <th>Fandango_Ratingvalue</th>\n",
       "    </tr>\n",
       "  </thead>\n",
       "  <tbody>\n",
       "    <tr>\n",
       "      <th>0</th>\n",
       "      <td>Avengers: Age of Ultron (2015)</td>\n",
       "      <td>4.3</td>\n",
       "      <td>3.55</td>\n",
       "      <td>3.90</td>\n",
       "      <td>4.5</td>\n",
       "    </tr>\n",
       "    <tr>\n",
       "      <th>1</th>\n",
       "      <td>Cinderella (2015)</td>\n",
       "      <td>4.0</td>\n",
       "      <td>3.75</td>\n",
       "      <td>3.55</td>\n",
       "      <td>4.5</td>\n",
       "    </tr>\n",
       "    <tr>\n",
       "      <th>2</th>\n",
       "      <td>Ant-Man (2015)</td>\n",
       "      <td>4.5</td>\n",
       "      <td>4.05</td>\n",
       "      <td>3.90</td>\n",
       "      <td>4.5</td>\n",
       "    </tr>\n",
       "    <tr>\n",
       "      <th>3</th>\n",
       "      <td>Do You Believe? (2015)</td>\n",
       "      <td>4.2</td>\n",
       "      <td>2.35</td>\n",
       "      <td>2.70</td>\n",
       "      <td>4.5</td>\n",
       "    </tr>\n",
       "    <tr>\n",
       "      <th>4</th>\n",
       "      <td>Hot Tub Time Machine 2 (2015)</td>\n",
       "      <td>1.4</td>\n",
       "      <td>1.70</td>\n",
       "      <td>2.55</td>\n",
       "      <td>3.0</td>\n",
       "    </tr>\n",
       "  </tbody>\n",
       "</table>\n",
       "</div>"
      ],
      "text/plain": [
       "                             FILM  RT_user_norm  Metacritic_user_nom  \\\n",
       "0  Avengers: Age of Ultron (2015)           4.3                 3.55   \n",
       "1               Cinderella (2015)           4.0                 3.75   \n",
       "2                  Ant-Man (2015)           4.5                 4.05   \n",
       "3          Do You Believe? (2015)           4.2                 2.35   \n",
       "4   Hot Tub Time Machine 2 (2015)           1.4                 1.70   \n",
       "\n",
       "   IMDB_norm  Fandango_Ratingvalue  \n",
       "0       3.90                   4.5  \n",
       "1       3.55                   4.5  \n",
       "2       3.90                   4.5  \n",
       "3       2.70                   4.5  \n",
       "4       2.55                   3.0  "
      ]
     },
     "execution_count": 1,
     "metadata": {},
     "output_type": "execute_result"
    }
   ],
   "source": [
    "import pandas as pd\n",
    "import matplotlib.pyplot as plt\n",
    "\n",
    "reviews = pd.read_csv('fandango_scores.csv')\n",
    "cols = ['FILM', 'RT_user_norm', 'Metacritic_user_nom', 'IMDB_norm', 'Fandango_Ratingvalue']\n",
    "norm_reviews = reviews[cols]\n",
    "\n",
    "norm_reviews.head()"
   ]
  },
  {
   "cell_type": "markdown",
   "metadata": {},
   "source": [
    "Let's first compare the frequency distributions of user ratings from Fandango with those from IMDB using tables. A column's frequency distribution consists of the unique values in that column along with the count for each of those values (or their frequency). We can use Series.value_counts() to return the frequency distribution as Series object:\n",
    "\n",
    "\n",
    "freq_counts = df['Fandango_Ratingvalue'].value_counts()\n",
    "\n",
    "The resulting Series object will be sorted by frequency in descending order:\n",
    "\n",
    "<img src='figures/fandango_frequency_distribution.png'>\n",
    "\n",
    "While this ordering is helpful when we're looking to quickly find the most common values in a given column, it's not helpful when trying to understand the range that the values in the column span. We can use Series.sort_index() to sort the frequency distribution in ascending order by the values in the column (which make up the index for the Series object):\n",
    "\n",
    "\n",
    "freq_counts = df['Fandango_Ratingvalue'].value_counts()<br>\n",
    "sorted_freq_counts = freq_counts.sort_index()\n",
    "\n",
    "Here's what both frequency distributions look like side-by-side:\n",
    "\n",
    "<img src='figures/both_fandango_distributions.png'>\n",
    "\n",
    "Instructions\n",
    "\n",
    "- Use the value_counts() method to return the frequency counts for the Fandango_Ratingvalue column. Sort the resulting Series object by the index and assign to fandango_distribution.\n",
    "- Use the value_counts() method to return frequency counts the IMDB_norm column. Sort the resulting Series object by the index and assign to imdb_distribution.\n",
    "- Use the print() function to display fandango_distribution and imdb_distribution."
   ]
  },
  {
   "cell_type": "code",
   "execution_count": 2,
   "metadata": {},
   "outputs": [],
   "source": [
    "fandango_distribution = norm_reviews['Fandango_Ratingvalue'].value_counts().sort_index()\n",
    "imdb_distribution = norm_reviews['IMDB_norm'].value_counts().sort_index()"
   ]
  },
  {
   "cell_type": "code",
   "execution_count": 3,
   "metadata": {},
   "outputs": [
    {
     "name": "stdout",
     "output_type": "stream",
     "text": [
      "2.7     2\n",
      "2.8     2\n",
      "2.9     5\n",
      "3.0     4\n",
      "3.1     3\n",
      "3.2     5\n",
      "3.3     4\n",
      "3.4     9\n",
      "3.5     9\n",
      "3.6     8\n",
      "3.7     9\n",
      "3.8     5\n",
      "3.9    12\n",
      "4.0     7\n",
      "4.1    16\n",
      "4.2    12\n",
      "4.3    11\n",
      "4.4     7\n",
      "4.5     9\n",
      "4.6     4\n",
      "4.8     3\n",
      "Name: Fandango_Ratingvalue, dtype: int64\n",
      "\n",
      "2.00     1\n",
      "2.10     1\n",
      "2.15     1\n",
      "2.20     1\n",
      "2.30     2\n",
      "2.45     2\n",
      "2.50     1\n",
      "2.55     1\n",
      "2.60     2\n",
      "2.70     4\n",
      "2.75     5\n",
      "2.80     2\n",
      "2.85     1\n",
      "2.90     1\n",
      "2.95     3\n",
      "3.00     2\n",
      "3.05     4\n",
      "3.10     1\n",
      "3.15     9\n",
      "3.20     6\n",
      "3.25     4\n",
      "3.30     9\n",
      "3.35     7\n",
      "3.40     1\n",
      "3.45     7\n",
      "3.50     4\n",
      "3.55     7\n",
      "3.60    10\n",
      "3.65     5\n",
      "3.70     8\n",
      "3.75     6\n",
      "3.80     3\n",
      "3.85     4\n",
      "3.90     9\n",
      "3.95     2\n",
      "4.00     1\n",
      "4.05     1\n",
      "4.10     4\n",
      "4.15     1\n",
      "4.20     2\n",
      "4.30     1\n",
      "Name: IMDB_norm, dtype: int64\n"
     ]
    }
   ],
   "source": [
    "print(fandango_distribution)\n",
    "print()\n",
    "print(imdb_distribution)"
   ]
  },
  {
   "cell_type": "markdown",
   "metadata": {},
   "source": [
    "Because there are only a few unique values, we can quickly scan the frequency counts and confirm that the Fandango_Ratingvalue column ranges from 2.7 to 4.8 while the IMDB_norm column ranges from 2 to 4.3. While we can quickly determine the minimum and maximum values, we struggle to answer the following questions about a column:\n",
    "\n",
    "- What percent of the ratings are contained in the 2.0 to 4.0 range?\n",
    "    - How does this compare with other sites?\n",
    "- Which values represent the top 25% of the ratings? The bottom 25%?\n",
    "    - How does this compare with other sites?\n",
    "    \n",
    "Comparing frequency distributions is also challenging because the Fandango_Ratingvalue column contains 21 unique values while IMDB_norm contains 41 unique values. We need a way to compare frequencies across a shared set of values. Because all ratings have been normalized to a range of 0 to 5, we can start by dividing the range of possible values into a series of fixed length intervals, called bins. We can then sum the frequencies for the values that fall into each bin. Here's a diagram that makes binning easier to understand:\n",
    "\n",
    "<img src='figures/histogram_binning.png'>\n",
    "\n",
    "The distributions for both of these columns are now easier to compare because of the shared x-axis (the bins). We can now plot the bins along with the frequency sums as a bar plot. This type of plot is called a histogram. Let's dive right into creating a histogram in matplotlib.\n",
    "\n",
    "We can generate a histogram using Axes.hist(). This method has only 1 required parameter, an iterable object containing the values we want a histogram for. By default, matplotlib will:\n",
    "\n",
    "- calculate the minimum and maximum value from the sequence of values we passed in\n",
    "- create 10 bins of equal length that span the range from the minimum to the maximum value\n",
    "- group unique values into the bins\n",
    "- sum up the associated unique values\n",
    "- generate a bar for the frequency sum for each bin\n",
    "\n",
    "The default behavior of Axes.hist() is problematic for the use case of comparing distributions for multiple columns using the same binning strategy. This is because the binning strategy for each column would depend on the minimum and maximum values, instead of a shared binning strategy. We can use the range parameter to specify the range we want matplotlib to use as a tuple:\n",
    "\n",
    "ax.hist(norm_reviews['Fandango_Ratingvalue'], range=(0, 5))\n",
    "\n",
    "While histograms use bars whose lengths are scaled to the values they're representing, they differ from bar plots in a few ways. Histograms help us visualize continuous values using bins while bar plots help us visualize discrete values. The locations of the bars on the x-axis matter in a histogram but they don't in a simple bar plot. Lastly, bar plots also have gaps between the bars, to emphasize that the values are discrete.\n",
    "\n",
    "Instructions\n",
    "- Create a single subplot and assign the returned Figure object to fig and the returned Axes object to ax.\n",
    "- Generate a histogram from the values in the Fandango_Ratingvalue column using a range of 0 to 5.\n",
    "- Use plt.show() to display the plot."
   ]
  },
  {
   "cell_type": "code",
   "execution_count": 4,
   "metadata": {},
   "outputs": [
    {
     "data": {
      "image/png": "[encoded data removed]",
      "text/plain": [
       "<matplotlib.figure.Figure at 0x10e9e8630>"
      ]
     },
     "metadata": {},
     "output_type": "display_data"
    }
   ],
   "source": [
    "fig, ax = plt.subplots()\n",
    "ax.hist(norm_reviews['Fandango_Ratingvalue'], range=(0, 5))\n",
    "plt.show()"
   ]
  },
  {
   "cell_type": "markdown",
   "metadata": {},
   "source": [
    "If you recall, one of the questions we were looking to answer was:\n",
    "\n",
    "- What percent of the ratings are contained in the 2.0 to 4.0 range?\n",
    "\n",
    "We can visually examine the proportional area that the bars in the 2.0 to 4.0 range take up and determine that more than 50% of the movies on Fandango fall in this range. We can increase the number of bins from 10 to 20 for improved resolution of the distribution. The length of each bin will be 0.25 (5 / 20) instead of 0.5 (5 / 10). The bins parameter for Axes.hist() is the 2nd positional parameter, but can also be specified as a named parameter:\n",
    "\n",
    "\n",
    "% Either of these will work.\n",
    "ax.hist(norm_reviews['Fandango_Ratingvalue'], 20, range=(0, 5))<br>\n",
    "ax.hist(norm_reviews['Fandango_Ratingvalue'], bins=20, range=(0, 5))\n",
    "\n",
    "Let's now generate histograms using 20 bins for all four columns. To ensure that the scales for the y-axis are the same for all histograms, let's set them manually using Axes.set_ylim().\n",
    "\n",
    "Instructions\n",
    "- For the subplot associated with ax1:\n",
    "    - Generate a histogram of the values in the Fandango_Ratingvalue column using 20 bins and a range of 0 to 5.\n",
    "    - Set the title to Distribution of Fandango Ratings.\n",
    "- For the subplot associated with ax2:\n",
    "    - Generate a histogram of the values in the RT_user_norm column using 20 bins and a range of 0 to 5.\n",
    "    - Set the title to Distribution of Rotten Tomatoes Ratings.\n",
    "- For the subplot associated with ax3:\n",
    "    - Generate a histogram of the values in the Metacritic_user_nom column using 20 bins and a range of 0 to 5.\n",
    "    - Set the title to Distribution of Metacritic Ratings.\n",
    "- For the subplot associated with ax4:\n",
    "    - Generate a histogram of the values in the IMDB_norm column using 20 bins and a range of 0 to 5.\n",
    "    - Set the title to Distribution of IMDB Ratings.\n",
    "- For all subplots:\n",
    "    - Set the y-axis range to 0 to 50 using Axes.set_ylim().\n",
    "- Use plt.show() to display the plots."
   ]
  },
  {
   "cell_type": "code",
   "execution_count": 5,
   "metadata": {},
   "outputs": [
    {
     "data": {
      "image/png": "[encoded data removed]",
      "text/plain": [
       "<matplotlib.figure.Figure at 0x10eb0d550>"
      ]
     },
     "metadata": {},
     "output_type": "display_data"
    }
   ],
   "source": [
    "fig, ((ax1, ax2), (ax3, ax4)) = plt.subplots(2, 2, sharey=True, sharex=True, figsize=(10, 10))\n",
    "axs = [ax1, ax2, ax3, ax4]\n",
    "hists = ['Fandango_Ratingvalue', 'RT_user_norm', 'Metacritic_user_nom', 'IMDB_norm']\n",
    "titles = ['Fandango', 'Rotten Tomatoes', 'Metacritic', 'IMDB']\n",
    "\n",
    "for i in range(len(axs)):\n",
    "    axs[i].hist(norm_reviews[hists[i]], bins=20, range=(0, 5), color=(162/255, 200/255, 236/255))\n",
    "    axs[i].set_title('Distribution of {} Ratings'.format(titles[i]))\n",
    "    if i == 2 or i == 3:\n",
    "        axs[i].set_xlabel('Rating', fontsize=12)\n",
    "    if i == 0 or i == 1:\n",
    "        axs[i].tick_params(axis='x', bottom='off')\n",
    "    if i ==1 or i == 3:\n",
    "        axs[i].tick_params(axis='y', left='off')"
   ]
  },
  {
   "cell_type": "markdown",
   "metadata": {},
   "source": [
    "From the histograms, we can make the following observations:\n",
    "\n",
    "- Around 50% of user ratings from Fandango fall in the 2 to 4 score range\n",
    "- Around 50% of user ratings from Rotten Tomatoes fall in the 2 to 4 score range\n",
    "- Around 75% of the user ratings from Metacritic fall in the 2 to 4 score range\n",
    "- Around 90% of the user ratings from IMDB fall in the 2 to 4 score range\n",
    "\n",
    "While histograms allow us to visually estimate the percentage of ratings that fall into a range of bins, they don't allow us to easily understand how the top 25% or the bottom 25% of the ratings differ across the sites. The bottom 25% of values and top 25% of values both represent quartiles. The four quartiles divide the range of values into four regions where each region contains 1/4th of the total values.\n",
    "\n",
    "While these regions may sound similar to bins, they differ in how values are grouped into each region. Each bin covers an equal proportion of the values in the range. On the other hand, each quantile covers an equal number of values (1/4th of the total values). To visualize quartiles, we need to use a box plot, also referred to as a box-and-whisker plot."
   ]
  },
  {
   "cell_type": "markdown",
   "metadata": {},
   "source": [
    "A box plot consists of box-and-whisker diagrams, which represents the different quartiles in a visual way. Here's a box plot of the values in the RT_user_norm column:\n",
    "\n",
    "<img src='figures/boxplot_intro.png'>\n",
    "\n",
    "The two regions contained within the box in the middle make up the interquartile range, or IQR. The IQR is used to measure dispersion of the values. The ratio of the length of the box to the whiskers around the box helps us understand how values in the distribution are spread out.\n",
    "\n",
    "We can generate a boxplot using Axes.boxplot().\n",
    "\n",
    "ax.boxplot(norm_reviews['RT_user_norm'])\n",
    "\n",
    "Matplotlib will sort the values, calculate the quartiles that divide the values into four equal regions, and generate the box and whisker diagram.\n",
    "\n",
    "Instructions\n",
    "- Create a single subplot and assign the returned Figure object to fig and the returned Axes object to ax.\n",
    "- Generate a box plot from the values in the RT_user_norm column.\n",
    "    - Set the y-axis limit to range from 0 to 5.\n",
    "    - Set the x-axis tick label to Rotten Tomatoes.\n",
    "- Use plt.show() to display the plot."
   ]
  },
  {
   "cell_type": "code",
   "execution_count": 6,
   "metadata": {},
   "outputs": [
    {
     "data": {
      "image/png": "[encoded data removed]",
      "text/plain": [
       "<matplotlib.figure.Figure at 0x10e9e8c18>"
      ]
     },
     "metadata": {},
     "output_type": "display_data"
    }
   ],
   "source": [
    "fig, ax = plt.subplots()\n",
    "\n",
    "ax.boxplot(norm_reviews['RT_user_norm'])\n",
    "ax.set_ylim(0, 5)\n",
    "ax.set_xticklabels(['Rotten Tomatoes'])\n",
    "\n",
    "plt.show()"
   ]
  },
  {
   "cell_type": "markdown",
   "metadata": {},
   "source": [
    "From the box plot we generated using Rotten Tomatoes ratings, we can conclude that:\n",
    "\n",
    "- the bottom 25% of user ratings range from around 1 to 2.5\n",
    "- the top 25% of of user ratings range from around 4 to 4.6\n",
    "\n",
    "To compare the lower and upper ranges with those for the other columns, we need to generate multiple box-and-whisker diagrams in the same box plot. When selecting multiple columns to pass in to Axes.boxplot(), we need to use the values accessor to return a multi-dimensional numpy array:\n",
    "\n",
    "num_cols = ['RT_user_norm', 'Metacritic_user_nom', 'IMDB_norm', 'Fandango_Ratingvalue', 'Fandango_Stars']<br>\n",
    "ax.boxplot(norm_reviews[num_cols].values)\n",
    "\n",
    "Instructions\n",
    "- Create a single subplot and assign the returned Figure object to fig and the returned Axes object to ax.\n",
    "- Generate a box plot containing a box-and-whisker diagram for each column in num_cols.\n",
    "- Set the x-axis tick labels to the column names in num_cols and rotate the ticks by 90 degrees.\n",
    "- Set the y-axis limit to range from 0 to 5.\n",
    "- Use plt.show() to display the plot."
   ]
  },
  {
   "cell_type": "code",
   "execution_count": 7,
   "metadata": {},
   "outputs": [
    {
     "data": {
      "image/png": "[encoded data removed]",
      "text/plain": [
       "<matplotlib.figure.Figure at 0x10ead06a0>"
      ]
     },
     "metadata": {},
     "output_type": "display_data"
    }
   ],
   "source": [
    "cols = ['RT_user_norm', 'Metacritic_user_nom', 'IMDB_norm', 'Fandango_Ratingvalue']\n",
    "\n",
    "fig, ax = plt.subplots(figsize=(8, 8))\n",
    "\n",
    "ax.boxplot(norm_reviews[cols].values)\n",
    "ax.set_xticklabels(cols, rotation=45)\n",
    "ax.set_ylim(0, 5)\n",
    "\n",
    "plt.show()"
   ]
  },
  {
   "cell_type": "markdown",
   "metadata": {},
   "source": [
    "From the boxplot, we can reach the following conclusions:\n",
    "\n",
    "- user ratings from Rotten Tomatoes and Metacritic span a larger range of values\n",
    "- user ratings from IMDB and Fandango are both skewed in the positive direction and span a more constrained range of values\n",
    "\n",
    "In this mission, we learned how to use histograms and box plots to visualize and compare the distributions of the ratings from the four movie review sites. Next in this course is a guided project, where we'll explore how to use pandas with matplotlib effectively and create more complex plots."
   ]
  },
  {
   "cell_type": "code",
   "execution_count": null,
   "metadata": {},
   "outputs": [],
   "source": []
  }
 ],
 "metadata": {
  "kernelspec": {
   "display_name": "Python 3",
   "language": "python",
   "name": "python3"
  },
  "language_info": {
   "codemirror_mode": {
    "name": "ipython",
    "version": 3
   },
   "file_extension": ".py",
   "mimetype": "text/x-python",
   "name": "python",
   "nbconvert_exporter": "python",
   "pygments_lexer": "ipython3",
   "version": "3.6.3"
  }
 },
 "nbformat": 4,
 "nbformat_minor": 2
}
