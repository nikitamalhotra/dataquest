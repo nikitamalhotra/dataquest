{
 "cells": [
  {
   "cell_type": "markdown",
   "metadata": {},
   "source": [
    "# Getting started"
   ]
  },
  {
   "cell_type": "markdown",
   "metadata": {},
   "source": [
    "When you're working on a team, everyone will generally be making changes to the same files. Imagine you're working on a project to write a Python script, and have a folder with the following two files:\n",
    "\n",
    "script.py<br>\n",
    "README.md\n",
    "\n",
    "Here are the contents of script.py:\n",
    "\n",
    "\n",
    "if \\__name\\__ == \"\\__main\\__\":<br>\n",
    "&nbsp;&nbsp;&nbsp;&nbsp;    print(\"Welcome to a script!\")\n",
    "\n",
    "Imagine that you and a coworker are both working on the project at the same time. You modify script.py like this:\n",
    "\n",
    "if \\__name\\__ == \"\\__main\\__\":<br>\n",
    "&nbsp;&nbsp;&nbsp;&nbsp;    print(\"Welcome to a script!\")<br>\n",
    "&nbsp;&nbsp;&nbsp;&nbsp;    print(\"Here's my amazing contribution to this project!\")\n",
    "\n",
    "And your coworker does this:\n",
    "\n",
    "import math<br>\n",
    "print(10 + 10)<br>\n",
    "if \\__name\\__ == \"\\__main\\__\":<br>\n",
    "&nbsp;&nbsp;&nbsp;&nbsp;    print(\"Welcome to a script!\")\n",
    "\n",
    "Imagine that you both have the folder on your local machine. To modify files, you make changes, then upload the entire folder to a centralized location like Dropbox or Google Drive to enable collaboration. If you didn't have a distributed version control system, whoever changed the file last would overwrite the changes of the other person.\n",
    "\n",
    "This approach becomes extremely frustrating and impossible to manage as you start dealing with larger and larger chunks of code. What if the folder had 100 files, you modified 10 of them, and your coworker modified 30 at the same time? You don't want to lose your changes every time your coworker uploads his version of the folder. Now, imagine that instead of just you and a coworker, it's a project with 10 or 100 contributors.\n",
    "\n",
    "Companies face this problem every day, which is why distributed version control systems exist. These systems will \"merge\" changes together intelligently, enabling multiple developers to work on a project at the same time.\n",
    "\n",
    "Going back to the script.py file, if we intelligently merged the two versions, the end result would look like this:\n",
    "\n",
    "import math<br>\n",
    "print(10 + 10)<br>\n",
    "if \\__name\\__ == \"\\__main\\__\":<br>\n",
    "&nbsp;&nbsp;&nbsp;&nbsp;    print(\"Welcome to a script!\")<br>\n",
    "&nbsp;&nbsp;&nbsp;&nbsp;    print(\"Here's my amazing contribution to this project!\")\n",
    "\n",
    "There are a few distributed version control systems, including Mercurial and Subversion. Git is by far the most popular, however.\n",
    "\n",
    "Git is a command-line tool we can access by typing git in the shell. The first step in using Git is to initialize a folder as a repository. A repository (or \"repo\") tracks multiple versions of the files in the folder, enabling collaboration.\n",
    "\n",
    "We can initialize a repository by typing <font color=\"red\">git init</font> inside the folder we want to use for our project.\n",
    "\n",
    "<b>Instructions</b>\n",
    "- Create a folder named random_numbers.\n",
    "- Navigate into this folder and initialize a Git repository."
   ]
  },
  {
   "cell_type": "code",
   "execution_count": 1,
   "metadata": {},
   "outputs": [],
   "source": [
    "# mkdir random_numbers\n",
    "# cd random_numbers\n",
    "# git init"
   ]
  },
  {
   "cell_type": "markdown",
   "metadata": {},
   "source": [
    "Initializing a Git repository will create a folder called .git inside the repository folder. That means there should now be a folder named .git inside of our random_numbers folder. Files and folders with a period prefix (.) are typically private, and don't show up by default when we list the files in a folder.\n",
    "\n",
    "Let's verify that the file is there with ls -al. As you may recall, the -a flag will show everything in a folder, even if it starts with a period.\n",
    "\n",
    "Instructions\n",
    "- Run ls -al to check the contents of the random_numbers folder."
   ]
  },
  {
   "cell_type": "code",
   "execution_count": 2,
   "metadata": {},
   "outputs": [],
   "source": [
    "# ls -al"
   ]
  },
  {
   "cell_type": "markdown",
   "metadata": {},
   "source": [
    "The typical Git workflow involves adding files, making changes, and then storing a checkpoint (or \"snapshot\") of those changes. These checkpoints are called commits. Instead of storing every file in every commit, Git stores the diff, or the things that change between commits. For example, imagine that we created a file called README.md with this content:\n",
    "\n",
    "<b> Welcome to my readme! </b>\n",
    "\n",
    "When we commit it, Git would store the file. Let's say we added another line to the file later on and made another commit:\n",
    "\n",
    "<b>Welcome to my readme! <br>\n",
    "    <font color=\"red\">Here's another line.</font></b>\n",
    "\n",
    "Git would only store the part of the file that changed since the last commit, which is <b><font color=\"red\">Here's another line</font></b>.\n",
    "\n",
    "Every project is a sequence of commits. Commits give us a powerful way to merge the changes of multiple team members together. We can even restore the repository to an earlier checkpoint, or moment in time. Before we make a commit, let's add some files to our folder.\n",
    "\n",
    "<b>Instructions</b>\n",
    "- Create a file named README.md with the following content:\n",
    "\n",
    "Random number generator\n",
    "\n",
    "Create a file named script.py with this content:\n",
    "\n",
    "if \\__name\\__ == \"\\__main\\__\":<br>\n",
    "&nbsp;&nbsp;&nbsp;&nbsp;    print(\"10\")"
   ]
  },
  {
   "cell_type": "code",
   "execution_count": 3,
   "metadata": {},
   "outputs": [],
   "source": [
    "# touch README.md (or mv README.md)\n",
    "# echo \"Random number generator\" > README.md (or emacs README.md and edit)\n",
    "# touch script.py (or mv script.py)\n",
    "# nano script.py and edit (emacs script.py)"
   ]
  },
  {
   "cell_type": "markdown",
   "metadata": {},
   "source": [
    "Files can have one of three states in Git:\n",
    "\n",
    "- <font color=\"red\">committed</font> - The current version of the file has been added to a commit, and Git has stored it.\n",
    "- <font color=\"red\">staged</font> - The file has been marked for inclusion in the next commit, but hasn't been committed yet (and Git hasn't stored it yet). You might stage one file before working on a second file, for example, then commit both files at the same time when you're done.\n",
    "- <font color=\"red\">modified</font> - The file has been modified since the last commit, but isn't staged yet.\n",
    "\n",
    "After we make changes to a Git repository, we can run the <font color=\"red\">git status</font> command to check the state of each file within it. Any files that don't show up in <font color=\"red\">git status</font> are in the committed state (i.e., don't have unsaved changes).\n",
    "\n",
    "Git will automatically show us which files have been modified since the last commit. If we're ready to commit the files we've modified, we can add them to the staging area using <font color=\"red\">git add</font>. Typing <font color=\"red\">git add script.py</font> will add script.py to the staging area, where it will be staged for the next commit.\n",
    "\n",
    "<b>Instructions</b>\n",
    "- Check the status of the repo.\n",
    "- Add script.py to the staging area.\n",
    "- Add README.md to the staging area."
   ]
  },
  {
   "cell_type": "code",
   "execution_count": 4,
   "metadata": {},
   "outputs": [],
   "source": [
    "# git status\n",
    "# git add script.py\n",
    "# git add README.md"
   ]
  },
  {
   "cell_type": "markdown",
   "metadata": {},
   "source": [
    "Before we can make our first commit, we need to tell Git who we are so it can store that information along with the commit. This step ensures that all of the members on a team can tell who made a certain commit. We can do this by running <font color=\"red\">git config</font>. We only need to run this command once per computer, because Git will save the information. Git needs two pieces of information about you -- your email address and your name. You can configure your email with:\n",
    "\n",
    "git config --global user.email \"your.email@domain.com\"\n",
    "\n",
    "You can configure your name with:\n",
    "\n",
    "git config --global user.name \"Your name\"\n",
    "\n",
    "<b>Instructions</b>\n",
    "- Configure Git with your email address and name."
   ]
  },
  {
   "cell_type": "code",
   "execution_count": 5,
   "metadata": {},
   "outputs": [],
   "source": [
    "# git config --global user.email \"user@domain.com\"\n",
    "# git config --global user.name \"Your Name\""
   ]
  },
  {
   "cell_type": "markdown",
   "metadata": {},
   "source": [
    "Now that we've staged some files, we can make our first commit. A commit stores a snapshot of the files in the repository at a certain point in time. By building a history of these snapshots, we can rewind to an earlier point in time, or merge someone else's changes with our own.\n",
    "\n",
    "To make a commit, we use <font color=\"red\">git commit -m \"Commit message here\"</font>. The <font color=\"red\">-m</font> flag indicates that we're adding a message, and the text in quotes that comes after it is the commit message itself. It's customary to make the commit message something informative, so if we do have to rewind or merge code, it's obvious what changes we made and when.\n",
    "\n",
    "<b> Instructions </b>\n",
    "\n",
    "Type git commit -m \"Initial commit. Added script.py and README.md\" to make the first commit to the repository with an informative message."
   ]
  },
  {
   "cell_type": "code",
   "execution_count": 6,
   "metadata": {},
   "outputs": [],
   "source": [
    "# git commit -m \"Initial commit. Added script.py and README.md\""
   ]
  },
  {
   "cell_type": "markdown",
   "metadata": {},
   "source": [
    "Let's modify our files and make another commit to see how the process works. Before we place a file in the staging area, we can use <font color=\"red\">git diff</font> to see all of the line differences between the current and previous version. We can scroll up and down with the arrow keys, and exit <font color=\"red\">git diff</font> with the <font color=\"red\">q</font> key. If we want to see the differences after we stage a file, we can use <font color=\"red\">git diff --staged</font>.\n",
    "\n",
    "<b>Instructions</b>\n",
    "\n",
    "script.py isn't exactly a random number generator right now.\n",
    "\n",
    "- Modify it so that it prints a random integer from 0 to 10. You can import and use random.randint for this.\n",
    "\n",
    "- Afterwards, type git diff to see how Git is tracking modifications.\n",
    "\n",
    "- Finally, type git status to see the status of the file you modified."
   ]
  },
  {
   "cell_type": "code",
   "execution_count": 7,
   "metadata": {},
   "outputs": [
    {
     "data": {
      "text/plain": [
       "\"\\nimport random\\nif __name__ == '__main__':\\n    print(random.randint(0, 10))\\n\""
      ]
     },
     "execution_count": 7,
     "metadata": {},
     "output_type": "execute_result"
    }
   ],
   "source": [
    "# edit script.py so that it says (use emacs or nano)\n",
    "\n",
    "\"\"\"\n",
    "import random\n",
    "if __name__ == '__main__':\n",
    "    print(random.randint(0, 10))\n",
    "\"\"\"\n",
    "\n",
    "# git diff\n",
    "# git status"
   ]
  },
  {
   "cell_type": "markdown",
   "metadata": {},
   "source": [
    "Now that we've modified a file, we can add the changes to the staging area using <font color=\"red\">git add script.py</font>, and then commit them using <font color=\"red\">git commit</font>.\n",
    "\n",
    "<b>Instructions</b><br>\n",
    "Add the script.py file to the staging area, then make a new commit with an informative message."
   ]
  },
  {
   "cell_type": "code",
   "execution_count": 8,
   "metadata": {},
   "outputs": [],
   "source": [
    "# git add script.py\n",
    "# git commit -m \"Added random number generator\""
   ]
  },
  {
   "cell_type": "markdown",
   "metadata": {},
   "source": [
    "# Git log history"
   ]
  },
  {
   "cell_type": "markdown",
   "metadata": {},
   "source": [
    "We can pull up a repository's commit history using the <font color=\"red\">git log</font> command. This command will show us a list of all of the commits to the repository, in descending order by creation date. If the output is very long, it will allow us to scroll. We can scroll through the log with the up and down arrows, and use the <font color=\"red\">q</font> key to exit.\n",
    "\n",
    "<b>Instructions</b><br>\n",
    "Run git log to explore the commit history of the repository."
   ]
  },
  {
   "cell_type": "code",
   "execution_count": 9,
   "metadata": {},
   "outputs": [],
   "source": [
    "# git log"
   ]
  },
  {
   "cell_type": "markdown",
   "metadata": {},
   "source": [
    "We can use <font color='red'>git log --stat</font> to see more details about the commits in the <font color='red'>git log</font> output.\n",
    "\n",
    "<b>Instructions</b><br>\n",
    "Run git log --stat to explore the commit history of the repository.\n",
    "Press q to exit the screen once you've finished exploring."
   ]
  },
  {
   "cell_type": "code",
   "execution_count": 10,
   "metadata": {},
   "outputs": [],
   "source": [
    "# git log --stat"
   ]
  },
  {
   "cell_type": "markdown",
   "metadata": {},
   "source": [
    "# Cloning a repo"
   ]
  },
  {
   "cell_type": "markdown",
   "metadata": {},
   "source": [
    "One of the most useful ways to use Git is in conjunction with GitHub, a website built on Git, but with a familiar GUI interface. Using Git with GitHub allows us to push our code to remote repositories. This enables us to:\n",
    "\n",
    "- Share our code with others and build a portfolio.\n",
    "- Collaborate with others on a project and build code together.\n",
    "- Download and use code others have created.\n",
    "\n",
    "Remote repositories aren't just useful for building a portfolio. Pushing to GitHub also allows us to collaborate with others on code. For example, thousands of different contributors are developing Linux on GitHub. Many companies, including Google and Facebook, also use GitHub to work on code projects across teams.\n",
    "\n",
    "Remote repositories also enable us to access and use code we didn't write. For instance, <a href='https://github.com/amznlabs/amazon-dsstne'> this repo</a> will let us download Amazon's Deep Learning tools and start training models. Because the reposistory is public, anyone can download and use it. Repositories on GitHub can also be private, in which case they're hidden, and not accessible to others. To download a remote repository to your own computer, you'll need to clone it. cloning copies a repository from one location (in this case, a remote one) to a folder on your computer. The repository retains all of its Git history, and you can work with it just like you would with a Git repository you created yourself.\n",
    "\n",
    "We use the <font color='red'>git clone</font> command to clone a remote repository. If we were cloning a repository we found on GitHub, we'd specify the GitHub URL for that repository. Here's how we'd typically clone the Amazon Deep Learning repo from GitHub:\n",
    "\n",
    "git clone https://github.com/amznlabs/amazon-dsstne.git\n",
    "\n",
    "https://github.com/amznlabs/amazon-dsstne.git is the URL for the Git repository we're cloning. Our clone command will automatically create a folder named amazon-dsstne in our current folder, and place the repository there. However, because we're working with a simplified remote repository for the purposes of this mission, we'll clone it a bit differently:\n",
    "\n",
    "git clone /dataquest/user/git/chatbot\n",
    "\n",
    "This will clone the repository from /dataquest/user/git/chatbot, a path on our local computer, to our current folder, and place it in a subfolder named chatbot. If we specify a second argument to git clone, we can change the folder the repository saves to:\n",
    "\n",
    "git clone /dataquest/user/git/chatbot silentbot\n",
    "\n",
    "This command will place the chatbot repository in a folder called silentbot.\n",
    "\n",
    "<b>Instructions</b>\n",
    "- Clone the /dataquest/user/git/chatbot repository into the home folder of the current user. This should create a folder called chatbot in /home/dq."
   ]
  },
  {
   "cell_type": "code",
   "execution_count": 11,
   "metadata": {},
   "outputs": [],
   "source": [
    "# git clone /dataquest/user/git/chatbot"
   ]
  },
  {
   "cell_type": "markdown",
   "metadata": {},
   "source": [
    "# Commits and pushes"
   ]
  },
  {
   "cell_type": "markdown",
   "metadata": {},
   "source": [
    "Now that we've cloned a repository, we can makes changes to it, just like we did in the last mission. We'll be able to edit files, add them to the staging area, and then commit the changes. The local version of the repo will then reflect the changes, but the remote version won't.\n",
    "\n",
    "Review the following diagram carefully. It illustrates the relationship between the local repo and the remote repo, and how they're separate:\n",
    "\n",
    "<img src='figures/01.jpg' width=\"500\" height=\"500\">\n",
    "\n",
    "After making the commit in the diagram, the local repo will have one more commit than the remote repo, and the file README.md will be different.\n",
    "\n",
    "Most GitHub projects include a README.md file, which helps people understand what the project is about and how to install it. It's common to write the README file in Markdown format, which allows us to create lists and other complex but useful structures in plain text. The Markdown format has an .md file extension.\n",
    "\n",
    "Similar to the diagram above, we'll edit the README.md file to add a line, then commit it to the repository. It's important to add informative messages when comitting to shared repositories, so that other people can figure out what each commit is doing without having to read through the code. This is very important when debugging code that multiple people are working on.\n",
    "\n",
    "<b>Instructions</b>\n",
    "- cd into the /home/dq/chatbot folder to navigate to the chatbot repo.\n",
    "- Add the line This project needs no installation to the bottom of README.md.\n",
    "- Add your changes to the staging area using git add.\n",
    "- Commit your changes using git commit, with the commit message Updated README.md.\n",
    "- Run git status to see the status of the repo."
   ]
  },
  {
   "cell_type": "code",
   "execution_count": 12,
   "metadata": {},
   "outputs": [],
   "source": [
    "# cd chatbot\n",
    "# echo \"This project needs no installation\" >> README.md\n",
    "# git add README.md\n",
    "# git commit -m \"Updated README.md\"\n",
    "# git status"
   ]
  },
  {
   "cell_type": "markdown",
   "metadata": {},
   "source": [
    "When you ran git status on the last screen, your output looked something like this:\n",
    "\n",
    "<img src='figures/02.jpg' width=400, height=400>\n",
    "\n",
    "The first two lines mention the terms <font color='red'>branch</font>, <font color='red'>master</font>, and <font color='red'>origin</font>, all of which may be unfamiliar.\n",
    "\n",
    "Every Git repository consists of one or more branches. Each branch contains a slightly different version of the code. We'll discuss branches and how they work in greater detail in the next mission. For now, the important fact to know is that the main branch of a Git repo is typically called <font color='red'>master</font>. Developers create separate branches when they want to work on new features for a project, then add the commits in those branches back into master</font> when the features are ready.\n",
    "\n",
    "All of the changes we've made so far have been on the <font color='red'>master</font> branch of the <font color='red'>chatbot</font> repo. The <font color='red'>master</font> branch is usually the most up-to-date shared version of any code project.\n",
    "\n",
    "We can check which branch we're on with the <font color='red'>git branch</font> command. This command will list all of the branches in the repo. It will also highlight the currently active branch, and add an asterisk next to its name.\n",
    "\n",
    "<b>Instructions</b><br>\n",
    "Use <font color='red'>git branch</font> to see all of the branches that exist in the chatbot repo."
   ]
  },
  {
   "cell_type": "code",
   "execution_count": 13,
   "metadata": {},
   "outputs": [],
   "source": [
    "# git branch"
   ]
  },
  {
   "cell_type": "markdown",
   "metadata": {},
   "source": [
    "Once we've made changes to the local version of a repo, we can push those changes to the remote repo so that everyone can see them. Edits we make locally are only reflected in our local repo. Unless we push them to the remote, the remote repo doesn't change.\n",
    "\n",
    "To do this, we'll need to use the <font color='red'>git push</font> command, which pushes commits from our local repo to the remote repo. Here's a diagram showing what happens when we run <font color='red'>git push</font>:\n",
    "\n",
    "<img src='figures/03.jpg', height=400, width=400>\n",
    "\n",
    "As the diagram shows, until we push the branch to the remote repo, the changes are only in our local repo. Pushing to the remote will update the remote with our latest changes. Anyone else who pulls from the remote repo will then have access to the same two commits that we have in our local repo.\n",
    "\n",
    "When we run <font color='red'>git push</font>, we need to specify both the name of the remote repo to push to, and the name of the branch we're pushing. When we clone a repo, Git automatically names the remote repo origin. This means that <font color='red'>git push origin master</font> will push the master branch to the remote repo.\n",
    "\n",
    "It's possible, but rare, that a remote will have a name other than origin. If we're unsure, we can list the remote(s) associated with our local repo using <font color='red'>git remote</font>. The <font color='red'>git remote</font> command will list all of the repo's remotes. If we specify the <font color='red'>-v</font> option, we'll get additional information about where the remote repos are located.\n",
    "\n",
    "<b>Instructions</b><br>\n",
    "Push the master branch of the local chatbot repo to the remote origin."
   ]
  },
  {
   "cell_type": "code",
   "execution_count": 14,
   "metadata": {},
   "outputs": [],
   "source": [
    "# git push origin master"
   ]
  },
  {
   "cell_type": "markdown",
   "metadata": {},
   "source": [
    "As you may recall from the previous mission, Git stores a repo's history as a series of commits. Each commit contains anything that changed since the previous commit. This allows Git to store history very efficiently, and replay that history to reconstruct the working directory -- the folder on your computer where you edit files, add the changes, and then make commits. Commits are separate from the working directory. They're essentially snapshots of all of the files in the working directory at specific points in time.\n",
    "\n",
    "You can see the full commit history of the master branch of the local chatbot repo with <font color='red'>git log</font>. Here's the output you might get from <font color='red'>git log</font>:\n",
    "\n",
    "<img src='figures/04.jpg', height=400, width=400>\n",
    "\n",
    "This history shows two commits -- the first one with the message Add the initial version of README.md, and the second with the message Updated README.md. The great thing about Git is that it stores both commits, so we can quickly revert back to a previous commit if we want to.\n",
    "\n",
    "To do this, we'd need to use the commit's hash, or unique identifier. Hashes allow us to perform operations like revert to a specific commit. We can find the hash for a commit in the output from <font color='red'>git log</font>. In the output we generated above, the first commit has the ID 8a1ca35dd5c5de8f93aa6cbbd153caa40233386c, and the second commit has the ID 6a95e94ea10caa28013b767510d4bc59369d83fa.\n",
    "\n",
    "We can use the <font color='red'>git show</font> command with a hash to see what changed in a specific commit. For example, running <font color='red'>git show 6a95e94ea10caa28013b767510d4bc59369d83fa</font> would return:\n",
    "\n",
    "<img src='figures/05.jpg', height=400, width=400>\n",
    "\n",
    "This output indicates that someone changed the README.md file in this commit, and added the line This project needs no installation! a/README.md is the file state before the commit, and b/README.md is the file state after the commit.\n",
    "\n",
    "<font color='red'>git show</font> will allow us to scroll up and down and side to side. We can exit by typing q.\n",
    "\n",
    "<b>Instructions</b>\n",
    "- Use the git log command to find the commit hash corresponding to the most recent commit in the chatbot repo.\n",
    "- Use the commit hash along with git show to see what the commit did."
   ]
  },
  {
   "cell_type": "code",
   "execution_count": 15,
   "metadata": {},
   "outputs": [],
   "source": [
    "# git log\n",
    "# git f5dd (only first four numbers of hash are typically necessary)"
   ]
  },
  {
   "cell_type": "markdown",
   "metadata": {},
   "source": [
    "Before we explore commits further, let's take a closer look at the working directory and how it interacts with commits. As you may recall from the previous mission, the Git commit workflow has three main components:\n",
    "\n",
    "- The working directory\n",
    "- The staging area\n",
    "- Commits\n",
    "\n",
    "The working directory is the folder we're version controlling with Git, and the contents of the working directory are what we see when we list the contents of the folder with ls. In our case, /home/dq/chatbot is the working directory. We can edit the working directory by changing or adding files.\n",
    "\n",
    "So let's say our working directory looks like this:\n",
    "\n",
    "<img src='figures/06.jpg', height=230, width=600>\n",
    "\n",
    "In this example, we have one file named README.md in the working directory. There are no files in the staging area, and no commits. When we run <font color='red'>git add</font>, Git adds the difference between the most recent commit and the current status of our working directory to the staging area, like this:\n",
    "\n",
    "<img src='figures/07.jpg', height=230, width=600>\n",
    "\n",
    "When we run <font color='red'>git commit</font>, we create a commit that contains all of the changes Git added to the staging area. The commit has a unique commit hash, so we can refer to it later. Note how making a commit removes all changes from the staging area:\n",
    "\n",
    "<img src='figures/08.jpg', height=230, width=600>\n",
    "\n",
    "We now have a commit with the hash 53d. This commit is a snapshot of the working directory at the moment it contained a file called README.md that had the text This is a README!. Next, we can add a new file to the working directory, and edit README.md. This will only affect the working directory, where we're making changes -- not the remote:\n",
    "\n",
    "<img src='figures/09.jpg', height=236, width=594>\n",
    "\n",
    "Then we can use <font color='red'>git add</font> to stage our changes:\n",
    "\n",
    "<img src='figures/10.jpg', height=236, width=594>\n",
    "\n",
    "In this case, Git adds both the new file (bot.py) and the changed file to the staging area. Then we can commit the changes:\n",
    "\n",
    "<img src='figures/11.jpg', height=236, width=594>\n",
    "\n",
    "We now have two commits, each storing a snapshot of our working directory at a different point in time. On the next screen, we'll cover how to switch between commits to change the files in our working directory.\n",
    "\n",
    "We can pull up the difference between two commits with the <font color='red'>git diff</font> command -- we just pass the two commit hashes as arguments to <font color='red'>git diff</font>. To save typing time, we can also just write the first few characters of the hash to uniquely identify the commit (four is usually enough). The order in which we pass the two hashes to git diff influences whether changes appear as deletions or additions.\n",
    "\n",
    "We need to use q to exit <font color='red'>git diff</font> when we're done.\n",
    "\n",
    "<b>Instructions</b><br>\n",
    "Use git diff to find the difference between your two commits."
   ]
  },
  {
   "cell_type": "code",
   "execution_count": 16,
   "metadata": {},
   "outputs": [],
   "source": [
    "# git diff 81cf f5dd (older newer)"
   ]
  },
  {
   "cell_type": "markdown",
   "metadata": {},
   "source": [
    "# Resets and pulls"
   ]
  },
  {
   "cell_type": "markdown",
   "metadata": {},
   "source": [
    "Now that we know about commit hashes, we can use them to switch to a specific commit. Switching between commits allows us to quickly move between different historical versions of a project. If we introduce a change that causes issues and want to revert to an earlier version, for example, switching between commits will let us do so.\n",
    "\n",
    "Commit hashes are permanent; Git preserves them and includes them in transfers between the local repo and the remote repo. For instance, let's say we have two commits, c12 and c53. The following diagram shows what happens to them as we clone, commit, and push.\n",
    "\n",
    "<img src='figures/12.jpg', height=520, width=600>\n",
    "\n",
    "c12 originally existed on the remote, but when we pulled it locally, the commit kept the same hash. This is because the commit is the same in the remote and our local repo -- the same changes were made to the same files.\n",
    "\n",
    "When we changed a file and made a commit locally, Git gave it the hash c53. When we pushed this commit to the remote later on, it kept the same hash because it was still the same commit. In the diagram above, both the local repo and the remote repo have two commits, c12 and c53. We can switch between commits in the local repo without changing what commits are in the remote repo. We can do this with the git reset command:\n",
    "\n",
    "<img src='figures/13.jpg', height=826, width=540>\n",
    "\n",
    "The diagram shows the commit on the left, and a representation of our working directory on the right. If we type git reset --hard c12, Git switches back to the commit with the hash c12, and changes all of the files in the working directory so that they're exactly the same as the files in the commit. This will essentially let us rewind the repo to past commits if there are problems with more recent ones, or if we want to see what the project looked like at an earlier point in time.\n",
    "\n",
    "The --hard flag resets both the working directory and the Git history to a specific state. If we omitted the flag, or used the --soft flag instead, it would skip making changes to the working directory, and only reset the Git history.\n",
    "\n",
    "<b>Instructions</b>\n",
    "- Use the git log command to find the commit hash corresponding to the oldest commit in the chatbot repo.\n",
    "- Use git reset to reset the chatbot repo to the oldest commit.\n",
    "- Explore README.md and see what text it contains."
   ]
  },
  {
   "cell_type": "code",
   "execution_count": 17,
   "metadata": {},
   "outputs": [],
   "source": [
    "# git log\n",
    "# git reset --hard 81cf\n",
    "# head -n 5 README.md"
   ]
  },
  {
   "cell_type": "markdown",
   "metadata": {},
   "source": [
    "Now that we've reverted our local chatbot repo to an older version, the remote repo actually has a newer commit that our local repo doesn't have. This often happens when other people make changes to a project's code, and then push those changes to a remote repo. Here's a diagram showing which commits exist in which locations:\n",
    "\n",
    "<img src='figures/14.jpg' width=430, height=600>\n",
    "\n",
    "When the latest commit in our local repo is older than the latest commit in the remote repo, we can use <font color='red'> git pull </font> to update the current branch with the latest commits. The git pull command will also update our working directory so that it has the same files as the latest commit.\n",
    "\n",
    "In our case, we'll be updating the master branch, because the chatbot repo only has a single branch.\n",
    "\n",
    "<b>Instructions</b>\n",
    "- Pull the latest commits from the chatbot remote repo.\n",
    "- Inspect the working directory and Git history to see what happened."
   ]
  },
  {
   "cell_type": "code",
   "execution_count": 18,
   "metadata": {},
   "outputs": [],
   "source": [
    "# git pull"
   ]
  },
  {
   "cell_type": "markdown",
   "metadata": {},
   "source": [
    "When using Git, we'll often want to refer to the most recent commit. While we can use the full commit hash, that approach can be cumbersome. Fortunately, Git has a special variable called HEAD that always refers to the most recent commit in the current branch.\n",
    "\n",
    "We can use the HEAD variable to switch to the most recent commit more easily. Let's say we modify a file and then want to undo our changes; using HEAD will revert the working directory to the state of the most recent commit.\n",
    "\n",
    "We can also use shortcuts to get older commit hashes. HEAD~1 will get the second newest commit in the local repo, HEAD~2 will get the third newest commit, and so on. Here's a diagram of a local repo where 646 is the newest hash on the master branch, and c12 is the oldest:\n",
    "\n",
    "<img src='figures/15.jpg', height=189, width=374>\n",
    "\n",
    "We can use <font color='red'>git rev-parse</font> along with the <font color='red'>HEAD</font> variable to find the commit hash corresponding to a particular commit number. In the diagram above, <font color='red'>git rev-parse HEAD</font> will return 646, and <font color='red'>git rev-parse HEAD~3</font> will return c53.\n",
    "\n",
    "<b>Instructions</b>\n",
    "- Use git reset with the HEAD variable to reset the chatbot repo to the second most recent commit."
   ]
  },
  {
   "cell_type": "code",
   "execution_count": 19,
   "metadata": {},
   "outputs": [],
   "source": [
    "# git reset HEAD~1"
   ]
  },
  {
   "cell_type": "markdown",
   "metadata": {},
   "source": [
    "# Branches"
   ]
  },
  {
   "cell_type": "markdown",
   "metadata": {},
   "source": [
    "As you may recall from the last mission, it's very common for large teams to use Git. That's because Git enables smooth collaboration between many programmers who are all making changes to a repo at the same time.\n",
    "\n",
    "Even so, this type of situation makes it difficult for everyone to work off of the master branch. To understand why, let's imagine that we start out with two files, bot.py and README.md:\n",
    "\n",
    "<img src='figures/16.jpg', height=151, width=270>\n",
    "\n",
    "Let's say we have three people working on a team -- Seashell Sally, Rocky Raccoon, and Superman. Each person makes the following changes:\n",
    "\n",
    "<img src='figures/17.jpg', height=587, width=280>\n",
    "\n",
    "Each person commits their changes. Because they're all working on the master branch, the commit history will end up looking like this:\n",
    "\n",
    "<img src='figures/18.jpg', height=95, width=370>\n",
    "\n",
    "Notice that the most recent commit is different for each person. What's even worse is that all of the commits make changes to the same files. There's no way for Git to determine which changes are the \"correct\" ones, so the team members will have issues if they all try to push to the remote. Let's see what happens when Superman pushes his changes:\n",
    "\n",
    "<img src='figures/19.jpg', height=100, width=370>\n",
    "\n",
    "Now Rocky and Sally can't push to the remote, because commits 456 and 765 conflict with Superman's commit b53. Rocky, Sally, and Superman edited the same lines in the same files. This results in something called a merge conflict, which is painful to fix, and something we'll talk about in the next mission.\n",
    "\n",
    "Luckily, Git gives us a few ways to avoid merge conflicts. The best method involves using branches. Similar to the way tree branches diverge from the trunk, Git branches allow us to create several different work areas within the same repo. It's common to create a new branch whenever we want to make a change to a project, and then merge that branch back into the master branch when we're done.\n",
    "\n",
    "Here's an example where Superman, Rocky, and Sally each make their own branches:\n",
    "\n",
    "<img src='figures/20.jpg', height=130, width=570>\n",
    "\n",
    "Each of them originally pulled the master branch, which has the commit f34. Then they created separate branches; Superman created enchancement, Rocky created rocky, and Sally created shells. They each made a commit on their own branch.\n",
    "\n",
    "When each person pushes their branch to the remote, Git stores it separately so that it doesn't conflict with everyone else's changes. Afterwards, the remote will have the branches master, enhancement, rocky, and shells. While the team will eventually want to merge all of the branches into master, using branches allows them to make changes to the repo separately while avoiding conflicts.\n",
    "\n",
    "There are also other benefits to using branches. Imagine that Sally wants to make 10 more commits before merging, and Rocky wants to make 2. Working on different branches will make their software development process go much faster.\n",
    "\n",
    "We can create a branch with the <font color='red'>git branch</font> command. For example, <font color='red'>git branch rocky</font> will create a branch called rocky.\n",
    "\n",
    "Afterwards, we can switch to the new branch using the <font color='red'>git checkout</font> command. To do this, we'd type <font color='red'>git checkout rocky</font>. Alternatively, we can create a shortcut by combining the two commands with <font color='red'>git checkout -b rocky</font>. This will create a branch named rocky and then switch to it right away, without our having to type a second, separate command.\n",
    "\n",
    "<b>Instructions</b>\n",
    "- Clone the repo chatbot from /dataquest/user/git/chatbot to /home/dq/chatbot.\n",
    "- Create a branch called more-speech in the repo chatbot.\n",
    "- Switch to the branch more-speech.\n",
    "- Run bot.py using python to see what happens."
   ]
  },
  {
   "cell_type": "code",
   "execution_count": 20,
   "metadata": {},
   "outputs": [],
   "source": [
    "# git clone /dataquest/user/git/chatbot\n",
    "# cd chatbot\n",
    "# git checkout -b more-speech\n",
    "# python bot.py"
   ]
  },
  {
   "cell_type": "markdown",
   "metadata": {},
   "source": [
    "Once we create a new branch, we can make changes to it the same way we change the master branch. We just have to alter the files, add them to the staging area, and then commit them.\n",
    "\n",
    "The main wrinkles come into play when we switch branches. Switching to a different branch will change the working directory to reflect the latest commit in that branch. Switching to a new branch, making a new commit, then switching back to master will switch our working directory back to the state of the latest commit in master. Here's a diagram that illustrates what happens:\n",
    "\n",
    "<img src='figures/21.jpg', height=500, width=435>\n",
    "\n",
    "In the example above, the branch enhancement has one commit more than master. When we switch to the enhancement branch, the working directory will contain a file called bot.py that contains the code print('2'). If we switch to the master branch, Git will alter the working directory to contain a file called bot.py that contains the code print('1').\n",
    "\n",
    "Switching between branches is very useful when we want to work on changes to a project that require different amounts of testing or development time. By putting them in separate branches, we can save the state of each addition, without them conflicting with each other.\n",
    "\n",
    "The <font color='red'>git checkout</font> command allows us to switch branches. If we still have changes in the working directory we haven't committed yet, though, Git will check whether there's a potential merge conflict with the branch we're switching to. If there is, Git won't let us change branches.\n",
    "\n",
    "<b>Instructions</b>\n",
    "- Switch to the more-speech branch.\n",
    "- Edit bot.py so that it will print more output when it runs.\n",
    "- Make a commit with the message Added more output."
   ]
  },
  {
   "cell_type": "code",
   "execution_count": 21,
   "metadata": {},
   "outputs": [],
   "source": [
    "# should alerady be in more-speech\n",
    "# nano bot.py (add anything)\n",
    "# git add bot.py\n",
    "# git commit bot.py -m \"Added some output.\""
   ]
  },
  {
   "cell_type": "markdown",
   "metadata": {},
   "source": [
    "Once we've created a branch and added a commit, we can push the branch to the remote repo. This allows other people to see our changes and collaborate with us.\n",
    "\n",
    "As you'll recall from the previous mission, we push a branch to a remote using <font color='red'>git push</font>. Afterwards, we can use <font color='red'>git branch -r</font> to show all of the branches on the remote and confirm that ours is there. In contrast, <font color='red'>git branch -a</font> will show all of the branches available locally.\n",
    "\n",
    "<font color='red'>git branch -r</font> might result in the following output:\n",
    "\n",
    "\n",
    "origin/HEAD -> origin/master<br>\n",
    "origin/master<br>\n",
    "origin/more-speech\n",
    "\n",
    "The output shows that there are two branches (master and more-speech) on the remote called origin, and that the current branch (the HEAD branch) is master. Git uses HEAD to refer to the current branch, as well as the latest commit in that branch.\n",
    "\n",
    "<b> Instructions</b>\n",
    "- Push the more-speech branch to the remote origin.\n",
    "- List the branches available on the remote."
   ]
  },
  {
   "cell_type": "code",
   "execution_count": 22,
   "metadata": {},
   "outputs": [],
   "source": [
    "# git push origin more-speech\n",
    "# git branch -r"
   ]
  },
  {
   "cell_type": "markdown",
   "metadata": {},
   "source": [
    "When someone downloads a project, they typically download and use a single version, or branch. Let's take Django as an example. Django is a popular Web framework for Python that programmers develop using Git and GitHub.\n",
    "\n",
    "When a user installs Django, he or she install a single version -- not dozens or hundreds of separate branches. If we look at the GitHub repo for Django, however, there are lots of different branches people have used to develop features. Here's an example of a separate branch a programmer used to develop a feature.\n",
    "\n",
    "The release a user downloads and works with is typically from the master branch. This means that all of the changes programmers made in other branches need to be pulled into the master branch. We do this through a Git concept called merging. Merging allows us to copy commits from one branch into another. This enables us to efficiently develop features for projects on their own branches without conflicts, then merge them into master so that end users will have access to them.\n",
    "\n",
    "We use the <font color='red'>git merge</font> command to merge a branch into another branch. Here's a diagram illustrating what happens in a merge:\n",
    "\n",
    "<img src='figures/22.jpg', height=514, width=444>\n",
    "\n",
    "As you can see, merging the branch enhancement into the branch master will pull the commit b53 into master, and make b53 the latest commit in master. Whenever anyone switches to the master branch, their working directory will contain the file bot.py, which has the contents print(2).\n",
    "\n",
    "In order to merge branch b into branch a, we first have to switch to branch a, then run <font color='red'>git merge</font>.\n",
    "\n",
    "Merging allows us to efficiently combine changes from multiple branches together, so that we have a working directory that reflects all of the changes in all of the branches.\n",
    "\n",
    "<b>Instructions</b>\n",
    "- Switch to the master branch of the chatbot repo.\n",
    "- Merge more-speech into master.\n",
    "- Push master to the remote repo."
   ]
  },
  {
   "cell_type": "code",
   "execution_count": 23,
   "metadata": {},
   "outputs": [],
   "source": [
    "# git checkout master\n",
    "# git merge more-speech\n",
    "# git push origin master"
   ]
  },
  {
   "cell_type": "markdown",
   "metadata": {},
   "source": [
    "It's helpful to think of a branch as a collection of commits. Here's an example:\n",
    "\n",
    "<img src='figures/23.jpg', height=370, width=440>\n",
    "\n",
    "In the example above, both master and enhancement have b53 as the latest commit. In fact, both branches have identical commits. This isn't necessarily bad, but it does mean that the original, separate branch is redundant -- it no longer contains any unique commits. It's typical to use a branch to develop a single feature, merge that branch into master, and then delete the branch.\n",
    "\n",
    "To delete a branch once we've merged all of its commits into another branch, we use the <font color='red'>git branch -d command</font>. <font color='red'>git branch -d</font> requires us to specify the name of a branch when we call it. Git will completely remove the branch from our local repo. If a branch has unmerged commits inside it, Git will prevent it from being deleted, so its generally safe to delete branches we think are old or unnecessary.\n",
    "\n",
    "Having too many branches can make the repo hard to use, so most software teams tend to delete branches once they've merged them. If we have many branches, for example, listing all of them can print hundreds or thousands of lines, making it hard to find the ones we want. It also makes cloning or updating the repo more difficult, because Git needs to download information on all of the branches.\n",
    "\n",
    "<b>Instructions</b><br>\n",
    "Delete the more-speech branch."
   ]
  },
  {
   "cell_type": "code",
   "execution_count": 24,
   "metadata": {},
   "outputs": [],
   "source": [
    "# git branch -d more-speech"
   ]
  },
  {
   "cell_type": "markdown",
   "metadata": {},
   "source": [
    "In order to see what other collaborators in the remote repo are working on, we can check out their branches. This will automatically create a local branch with the same name, and copy any commits from the remote branch to the local branch.\n",
    "\n",
    "Let's say we want to check out a branch called angry-bot from the remote. We'll need to use two different commands:\n",
    "\n",
    "<font color='red'>git fetch</font> will fetch all of the current branches and commits from the remote. This won't make any changes to the working directory, but will update Git's list of branch names and commits.\n",
    "<font color='red'>git checkout angry-bot</font> will look for the angry-bot branch in the local repo and remote repo. Because it only exists in the remote repo, Git will copy it into the local repo. Git will also make angry-bot the current branch.\n",
    "\n",
    "<b>Instructions</b>\n",
    "- Simulate a second collaborator working on the remote:\n",
    "    - Clone /dataquest/user/git/chatbot into /home/dq/chatbot2.\n",
    "    - cd into chatbot2.\n",
    "    - Create a new branch called happy-bot.\n",
    "    - Edit bot.py to output happy messages.\n",
    "    - Commit your changes with the message Made the bot 20% happier!.\n",
    "    - Push the happy-bot branch to the remote.\n",
    "- In your local repo /home/dq/chatbot, check out the branch.\n",
    "    - Run git fetch to update the Git history.\n",
    "    - Check out the happy-bot branch.\n",
    "    - Run bot.py to make sure the file changed."
   ]
  },
  {
   "cell_type": "code",
   "execution_count": 25,
   "metadata": {},
   "outputs": [],
   "source": [
    "# git clone /dataquest/user/git/chatbot chatbot2\n",
    "# cd chatbot2\n",
    "# git checkout -b happy-bot\n",
    "# nano bot.py (make any changes)\n",
    "# git add bot.py\n",
    "# git commit -m \"Made the bot 20% happier!\"\n",
    "# git push origin happy-bot\n",
    "\n",
    "# git fetch\n",
    "# git checkout happy-bot (this will update the branch)\n",
    "# python bot.py"
   ]
  },
  {
   "cell_type": "markdown",
   "metadata": {},
   "source": [
    "The typical Git workflow looks like this:\n",
    "\n",
    "- Create a branch off of master with the name of your feature. Let's say feature/better-algo.\n",
    "- Make your changes on the branch and create commits.\n",
    "- Push the branch to the remote repo.\n",
    "- Ask others to review and evaluate your branch.\n",
    "- Merge the branch into master once everyone thinks it looks okay.\n",
    "- Delete the branch.\n",
    "\n",
    "This is how most teams of developers work. In order to review a team member's changes, though, it's critical to be able to see the differences between the feature branch and master. We refer to these differences as \"the diff.\"\n",
    "\n",
    "When we use GitHub as our remote repo, pull requests will show us the differences between branches in an attractive interface, and allow other developers to add comments.\n",
    "\n",
    "If we're not using GitHub, we can type <font color='red'>git diff</font> on the command line to see the differences between branches. This command shows line-by-line changes to the code. If the changes are additions, Git will display them in green and prefix them with a plus sign <font color='green'>(+)</font>. If they're deletions, Git will display them in red and prefix them with a minus sign <font color='red'>(-)</font>. It shows new files as additions.\n",
    "\n",
    "The order in which we specify the two branches as arguments to <font color='red'>git diff</font> influences whether Git sees the changes as additions or deletions. It's generally preferable to put the \"older\" branch first.\n",
    "\n",
    "<b>Instructions</b><br>\n",
    "Use <font color='red'>git diff</font> to see the differences between happy-bot and master."
   ]
  },
  {
   "cell_type": "code",
   "execution_count": 26,
   "metadata": {},
   "outputs": [],
   "source": [
    "# git diff master happy-bot"
   ]
  },
  {
   "cell_type": "markdown",
   "metadata": {},
   "source": [
    "When naming branches, it's common to use a prefix that describes the type of branch, then a slash, then the name of the feature or fix we're making. Here are some typical prefixes, along with example branch names:\n",
    "\n",
    "- Feature - feature/happy-bot\n",
    "- Fix - fix/remove-error\n",
    "- Chore - chore/add-analytics\n",
    "\n",
    "Features tend to be commits that add functionality to a project, while fixes resolve bugs and other issues. Chores are things that end users won't necessarily notice, but help us reorganize the project or make the code more efficient. These naming conventions make it easier to organize branches, and figure out what each one does without having to look at the full diff.\n",
    "\n",
    "<b>Instructions</b>\n",
    "- Create a new branch called feature/random-messages.\n",
    "- Edit bot.py to output one of several possible messages, based on a random number generator.\n",
    "- Commit and push your branch to the remote."
   ]
  },
  {
   "cell_type": "code",
   "execution_count": 27,
   "metadata": {},
   "outputs": [],
   "source": [
    "# git checkout -b feature/random-messages\n",
    "# nano bot.py (edit as necessary)\n",
    "# git add bot.py\n",
    "# git commit -m \"Added random messaging\"\n",
    "# git push origin feature/random-messages"
   ]
  },
  {
   "cell_type": "markdown",
   "metadata": {},
   "source": [
    "When we create a branch, it takes on the commit history of the branch we started from. Here's an example:\n",
    "\n",
    "<img src='figures/24.jpg', height=540, width=330>\n",
    "\n",
    "There are two branches in this example, master and feature/new-interface. feature/new-interface has one more commit than master -- 45g. If our current branch is feature/new-interface and we create a new branch, the most recent commit in the branch we create will be 45g. If our current branch is master and we create a new branch off of it, the most recent commit in the new branch will be 67f.\n",
    "\n",
    "<b>Instructions</b>\n",
    "- Check out the feature/random-messages branch.\n",
    "- Create a new branch called feature/spam-messages.\n",
    "- Verify that the histories for feature/random-messages and feature/spam-messages are the same, and different from master."
   ]
  },
  {
   "cell_type": "code",
   "execution_count": 28,
   "metadata": {},
   "outputs": [],
   "source": [
    "# git checkout feature/random-messages\n",
    "# git checkout -b feature/spam-messages\n",
    "# git log\n",
    "# git checkout feature/random-messages\n",
    "# git log\n",
    "# git checkout master\n",
    "# git log"
   ]
  },
  {
   "cell_type": "markdown",
   "metadata": {},
   "source": [
    "# Merge conflicts"
   ]
  },
  {
   "cell_type": "markdown",
   "metadata": {},
   "source": [
    "When we merge a branch into another one, our changes can sometimes conflict with other people's commits. Let's say that you're working on a project with another developer named Ninja Jane. You both edit the same file on your own branches, then Jane pushes her branch to the remote and merges it into master:\n",
    "\n",
    "<img src='figures/25.jpg', height=300, width=732>\n",
    "\n",
    "This chain of events results in the following situation:\n",
    "\n",
    "<img src='figures/26.jpg', height=300, width=732>\n",
    "\n",
    "At this point, the commit history for each branch looks like this:\n",
    "\n",
    "<img src='figures/27.jpg', height=158, width=270>\n",
    "\n",
    "Because you and Jane branched off of master at the same time and you both made one commit, the histories for the two branches are almost identical. However, the latest commit for master and shuriken is 45g, and the latest commit for superbot is 782.\n",
    "\n",
    "When you try to merge superbot into master, Git will notice that 45g and 782 both come immediately after 67f, and both edit the same lines in the same files. Because both commits are based on 67f, they're equally valid, and this causes a merge conflict. Git can't overwrite the changes in master with the changes from superbot because it doesn't know which changes are the \"correct\" ones. Git is designed to preserve everyone's work, so it won't cause a loss of effort by intentionally overwriting one person's commit with another's.\n",
    "\n",
    "It's not possible for Git to just layer the commits on top of each other, because 782 and 45g both come immediately after commit 67f. If Git layered the changes on top of each other and applied commit 782 from superbot, Jane's changes in commit 45g would be overwritten and lost. If commit 782 in superbot came after commit 45g in the Git history instead, there would be no conflict.\n",
    "\n",
    "When Git can't merge commits automatically, it informs the user of a merge conflict and asks them to sort it out. Sorting out a merge conflict involves editing the code that conflicts to create the \"correct\" version. This way, the person who wrote the code is in charge of resolving the issue, and Git isn't intentionally overwriting anyone's changes.\n",
    "\n",
    "<b>Instructions</b>\n",
    "- Clone the repo chatbot from /dataquest/user/git/chatbot to /home/dq/chatbot.\n",
    "- Create a branch.\n",
    "    - Create a branch called feature/king-bot in the repo chatbot.\n",
    "    - Switch to the branch feature/king-bot.\n",
    "    - Edit bot.py and add an appropriately kingly print statement at the end of the file.\n",
    "    - Commit your changes.\n",
    "- Create another branch with conflicts.\n",
    "    - Switch to the master branch.\n",
    "    - Create a branch called feature/queen-bot in the repo chatbot.\n",
    "    - Switch to the branch feature/queen-bot.\n",
    "    - Edit bot.py and add an appropriately queenly print statement at the end at the end of the file.\n",
    "    - Commit your changes.\n",
    "- Create a merge conflict.\n",
    "    - Merge feature/king-bot into master.\n",
    "    - Try merging feature/queen-bot into master.\n",
    "    - At this point, you should trigger a conflict."
   ]
  },
  {
   "cell_type": "code",
   "execution_count": 29,
   "metadata": {},
   "outputs": [],
   "source": [
    "# git clone /dataquest/user/git/chatbot\n",
    "# cd chatbot\n",
    "# git checkout -b feature/king-bot\n",
    "# nano bot.py (edit as desired)\n",
    "# git add bot.py\n",
    "# git commit -m \"Added kingly message\"\n",
    "\n",
    "# git checkout master\n",
    "# git checkout -b feature/queen-bot\n",
    "# nano bot.py (edit as desired)\n",
    "# git add bot.py\n",
    "# git commit -m \"Added queenly message\"\n",
    "\n",
    "# git checkout master\n",
    "# git merge feature/king-bot\n",
    "# git merge feature/queen-bot"
   ]
  },
  {
   "cell_type": "markdown",
   "metadata": {},
   "source": [
    "When a merge conflict occurs, Git adds markup lines to the problem files to identify where the conflicts are. These lines can prevent code from executing properly, because the Python interpreter doesn't understand them. It's important to resolve conflicts and remove the markup immediately for this reason.\n",
    "\n",
    "One way to resolve a conflict is to abort the merge altogether. We can do this with git merge --abort.\n",
    "\n",
    "We'd typically do an abort if we merged one branch into another by accident, or wanted to deal with large merge conflicts in another way. When we abort a merge, Git resets the working directory and Git history to the state they were in before we tried to merge.\n",
    "\n",
    "<b>Instructions</b><br>\n",
    "Abort the merge from the last screen, which had conflicts."
   ]
  },
  {
   "cell_type": "code",
   "execution_count": 30,
   "metadata": {},
   "outputs": [],
   "source": [
    "# git merge --abort"
   ]
  },
  {
   "cell_type": "markdown",
   "metadata": {},
   "source": [
    "When a merge conflict occurs, Git will edit the problematic file to add markup indicating where the conflicts are. Here's the markup Git added to our bot.py file from the first screen, when we tried to merge feature/queen-bot into master:\n",
    "\n",
    "<img src='figures/28.jpg', height=200, width=700>\n",
    "\n",
    "This conflict markup indicates that the current branch (or HEAD branch) contains the line print('I am the king'), but the branch we're trying to merge, feature/queen-bot, contains the line print('I am the queen'). Because the last commit in each branch is exclusive to that branch, Git can't automatically determine which line is the most recent edit. This means we have to manually edit the file to remove the lines that Git added, and leave only the code we want.\n",
    "\n",
    "Here's how we might edit the bot.py file to address the conflict:\n",
    "\n",
    "print('I am the queen')\n",
    "\n",
    "We removed all of the Git confict markup and the alternate code so that only the version we want, print('I am the queen), remains. After doing this for each section of conflict markup (if there are multiple conflicts), we would then commit the file, which would resolve the merge.\n",
    "\n",
    "<b>Instructions</b>\n",
    "- Swich to the master branch of the chatbot repo.\n",
    "- Merge feature/queen-bot into master.\n",
    "- Fix the merge markup so the lines from feature/queen-bot are the ones Git retains.\n",
    "- Add the changes to the staging area and commit them with the commit message Fixed conflicts.\n",
    "- Push master to the remote."
   ]
  },
  {
   "cell_type": "code",
   "execution_count": 31,
   "metadata": {},
   "outputs": [],
   "source": [
    "# git merge feature/queen-bot\n",
    "# nano bot.py (edit as necessary)\n",
    "# git add bot.py\n",
    "# git commit -m \"Fixed conflicts.\"\n",
    "# git push origin master"
   ]
  },
  {
   "cell_type": "markdown",
   "metadata": {},
   "source": [
    "In the previous example, only one line conflicted. When we're working with larger teams and bigger features, however, it's possible to have a conflict across multiple lines.\n",
    "\n",
    "Let's say bot.py in the master branch contains the following code:\n",
    "\n",
    "for i in range(4,20):<br>\n",
    "&nbsp;&nbsp;&nbsp;&nbsp;    print(\"This is the {0}th time I've complimented you!\".format(i))<br>\n",
    "\n",
    "bot.py in the feature/king-bot branch contains this code:\n",
    "\n",
    "for i in range(0,3):<br>\n",
    "&nbsp;&nbsp;&nbsp;&nbsp;    print(\"Off with his head!\")<br>\n",
    "for i in range(4,20):<br>\n",
    "&nbsp;&nbsp;&nbsp;&nbsp;    print(\"This is the {0}th time I've complimented you!\".format(i))<br>\n",
    "\n",
    "Finally, bot.py in the feature/queen-bot branch contains this code:\n",
    "\n",
    "print(\"Hello\")<br>\n",
    "print(\"Off with your head!\")<br>\n",
    "for i in range(4,20):<br>\n",
    "&nbsp;&nbsp;&nbsp;&nbsp;    print(\"This is the {0}th time I've complimented you!\".format(i))<br>\n",
    "\n",
    "In this case, the first two lines of bot.py would conflict if we tried to merge both feature/king-bot and feature/queen-bot into master. We'd get conflict markup that looks like this:\n",
    "\n",
    "<img src='figures/29.jpg', height=250, width=660>\n",
    "\n",
    "When Git detects a multi-line conflict, it places the entire block into a single merge conflict. This makes it much easier to handle large conflicts, like ones that involve entire functions. The process for addressing them is the same as what we did before; we just need to remove the markup and any conflicting lines we don't want to keep.\n",
    "\n",
    "<b>Instructions</b>\n",
    "- Switch into the /home/dq/chatbot repo.\n",
    "- Switch to the master branch.\n",
    "- Create a branch that randomly prints statements.\n",
    "    - Create a branch called feature/random-printing in the repo chatbot.\n",
    "    - Switch to the branch feature/random-printing.\n",
    "    - Edit bot.py to add a block that prints one of three random messages at the end.\n",
    "    - Commit your changes.\n",
    "- Create another branch with conflicts.\n",
    "    - Switch to the master branch.\n",
    "    - Create a branch called feature/dice-roller in the repo chatbot.\n",
    "    - Switch to the branch feature/dice-roller.\n",
    "    - Edit bot.py to add a block that generates and displays two random numbers at the end.\n",
    "    - Commit your changes.\n",
    "- Create a merge conflict.\n",
    "    - Merge feature/random-printing into master.\n",
    "    - Try merging feature/dice-roller into master.\n",
    "    - At this point, you should trigger a conflict.\n",
    "- Resolve the merge conflict.\n",
    "    - Resolve the conflict by editing bot.py.\n",
    "        - Remove the merge conflict markup.\n",
    "        - Keep whatever lines of code you'd like.\n",
    "    - Commit bot.py with the message Resolved multi-line conflict.\n",
    "- Push the master branch of chatbot to the remote repo."
   ]
  },
  {
   "cell_type": "code",
   "execution_count": 32,
   "metadata": {},
   "outputs": [],
   "source": [
    "# git checkout master\n",
    "# git checkout -b feature/random-printing\n",
    "# nano bot.py (edit as necessary)\n",
    "# git add bot.py\n",
    "# git commit -m \"Added random printing\"\n",
    "\n",
    "# git checkout master\n",
    "# git checkout -b feature/dice-roller\n",
    "# nano bot.py (edit as necessary)\n",
    "# git add bot.py\n",
    "# git commit -m \"Added random dice rolling\"\n",
    "\n",
    "# git checkout master\n",
    "# git merge feature/random-printing\n",
    "# git merge feature/dice-roller\n",
    "\n",
    "# git checkout master\n",
    "# nano bot.py (edit as necessary)\n",
    "# git add bot.py\n",
    "# git commit -m \"Resolved multi-line conflict\n",
    "\n",
    "# git push origin master"
   ]
  },
  {
   "cell_type": "markdown",
   "metadata": {},
   "source": [
    "With larger teams, it's possible to have multiple merge conflicts. That can mean several conflicts within a single file, or individual conflicts spread out across different files. When working on large projects involving many files, it's common for a single branch to alter dozens of files. When this happens, you may face merge conflicts that are tricky to resolve.\n",
    "\n",
    "Although we won't be using them here, this is where Git's graphical merge tools can be helpful. To use them, we'd need to run the git mergetool command, along with the --tool option flag to specify which graphical tool to use. We can pull up a full list of available tools by running git mergetool --tool-help.\n",
    "\n",
    "A graphical merge tool will show us the branches side by side and highlight the differences visually, like this:\n",
    "\n",
    "<img src='figures/30.jpg', height=400, width=730>\n",
    "\n",
    "This particular tool displays the HEAD branch on the right and calls it the REMOTE branch. It displays the branch we're merging on the left and calls it the LOCAL branch. The final version is in the center. We need to edit the center version to get the result we want, then save it.\n",
    "\n",
    "In the absence of a graphical tool, it's still possible to sort through multiple merge conflicts -- it's just a bit more work. That's because we have to remove all of the merge conflict markup for each individual conflict manually.\n",
    "\n",
    "<b>Instructions</b>\n",
    "- Switch into the /home/dq/chatbot repo.\n",
    "- Switch to the master branch.\n",
    "- Create a branch that inserts print statements into bot.py.\n",
    "    - Create a branch called feature/more-printing in the repo chatbot.\n",
    "    - Switch to the branch feature/more-printing.\n",
    "    - Edit bot.py and add multiple lines that print some text (whatever you'd like).\n",
    "    - Commit your changes.\n",
    "- Create another branch that inserts print statements into bot.py.\n",
    "    - Switch to the master branch.\n",
    "    - Create a branch called feature/more-printing-2 in the repo chatbot.\n",
    "    - Switch to the branch feature/more-printing-2.\n",
    "    - Edit bot.py and add different print statements to the same lines you edited in feature/more-printing.\n",
    "    - Commit your changes.\n",
    "- Create a merge conflict.\n",
    "    - Merge feature/more-printing into master.\n",
    "    - Try merging feature/more-printing-2 into master.\n",
    "    - At this point, you should trigger multiple conflicts.\n",
    "- Resolve the merge conflict.\n",
    "    - Resolve the conflicts by editing bot.py and keeping the lines you want.\n",
    "    - Commit bot.py with the message Resolved multiple conflicts.\n",
    "- Push the master branch of chatbot to the remote repo."
   ]
  },
  {
   "cell_type": "code",
   "execution_count": 33,
   "metadata": {},
   "outputs": [],
   "source": [
    "# git checkout master\n",
    "# git checkout -b feature/more-printing\n",
    "# nano bot.py (edit as necessary)\n",
    "# git add bot.py\n",
    "# git commit -m \"Added multiple printing lines\"\n",
    "\n",
    "# git checkout master\n",
    "# git checkout -b feature/more-printing-2\n",
    "# nano bot.py (edit as necessary)\n",
    "# git add bot.py\n",
    "# git commit -m \"Added multiple printing lines\"\n",
    "\n",
    "# git checkout master\n",
    "# git merge feature/more-printing\n",
    "# git merge feature/more-printing-2\n",
    "\n",
    "# git checkout master\n",
    "# nano bot.py (edit as necessary)\n",
    "# git add bot.py\n",
    "# git commit -m \"Resolved multiple conflicts\"\n",
    "\n",
    "# git push origin master"
   ]
  },
  {
   "cell_type": "markdown",
   "metadata": {},
   "source": [
    "With some merges, we know that one branch has the \"correct\" changes, and want to ignore the other branch. We can keep files from one of the conflicting branches only by using <font color='red'>git checkout</font> with the <font color='red'>--ours</font> and <font color='red'>--theirs</font> options when we run into a merge conflict.\n",
    "\n",
    "For example, if we were trying to merge files from feature/queen-bot into master, we could use <font color='red'>git checkout --ours .</font> to only keep the files from master, and <font color='red'>git checkout --theirs .</font> to only keep files from feature/queen-bot. In general, <font color='red'>--ours</font> will keep files from the current branch, and <font color='red'>--theirs</font> will keep files from the branch we're merging in.\n",
    "\n",
    "Note that in these examples we used <font color='red'>.</font> at the end of each of these commands, which acts as a wildcard that means all files (similar to the command <font color='red'>git add .</font> ). You can also perform this on a file by file basis by using <font color='red'>git checkout --ours [filename].</font>\n",
    "\n",
    "<img src='figures/31.jpg', height=356, width=500>\n",
    "\n",
    "After running git checkout, we'll need to commit the files to complete the merge.\n",
    "\n",
    "<b>Instructions</b>\n",
    "- Switch into the /home/dq/chatbot repo.\n",
    "- Switch to the master branch.\n",
    "- Create a branch.\n",
    "    - Create a branch called feature/remove-bot in the repo chatbot.\n",
    "    - Switch to the branch feature/remove-bot.\n",
    "    - Delete bot.py.\n",
    "    - Stage the deleted file using the command git rm bot.py.\n",
    "    - Commit your changes with the commit message Remove bot.\n",
    "- Create another branch with conflicts.\n",
    "    - Switch to the master branch.\n",
    "    - Create a branch called feature/keep-bot in the repo chatbot.\n",
    "    - Switch to the branch feature/keep-bot.\n",
    "    - Edit bot.py and add a print statement to the end of the file.\n",
    "    - Commit your changes with the message Keeping bot.py.\n",
    "- Create a merge conflict.\n",
    "    - Merge feature/remove-bot into master.\n",
    "    - Try merging feature/keep-bot into master.\n",
    "    - At this point, you should trigger a conflict.\n",
    "- Keep only the files from feature/keep-bot.\n",
    "- Finish the merge by committing with the message Keeping bot.py.\n",
    "- Push the branch master to the remote."
   ]
  },
  {
   "cell_type": "code",
   "execution_count": 34,
   "metadata": {},
   "outputs": [],
   "source": [
    "# git checkout -b feature/remove-bot\n",
    "# git rm bot.py\n",
    "# git commit -m \"Remove bot\"\n",
    "\n",
    "# git checkout master\n",
    "# git checkout -b feature/keep-bot\n",
    "# nano bot.py (edit as necessary)\n",
    "# git add bot.py\n",
    "# git commit -m \"Keeping bot.py\"\n",
    "\n",
    "# git checkout master\n",
    "# git merge feature/remove-bot\n",
    "# git merge feature/keep-bot\n",
    "\n",
    "# git checkout --theirs .\n",
    "# git add bot.py\n",
    "# git push origin master"
   ]
  },
  {
   "cell_type": "markdown",
   "metadata": {},
   "source": [
    "# Ignoring files"
   ]
  },
  {
   "cell_type": "markdown",
   "metadata": {},
   "source": [
    "There are some files that change very often, and aren't particularly useful to a project. One example is the .DS_Store file OS X puts in directories. Another is the .pyc files that Python produces when it compiles source files. Neither of these are necessary for the project to work properly, but because they change rapidly, they can create merge conflicts and other problems.\n",
    "\n",
    "The best way to handle these types of files is to tell Git to ignore them. That means Git won't add them to commits or track them, so we won't have to deal with merge conflicts and other issues they may cause.\n",
    "\n",
    "To do this, we create a file called <font color=\"red\">.gitignore</font>. Then, we add lines to it indicating which files Git should ignore when adding to the staging area and committing. These lines accept wildcard characters, so we can ignore all files that have a certain extension in a single line.\n",
    "\n",
    "For example, the following lines in .gitignore instruct Git to ignore all files called .DS_Store, and all files ending with .pyc:\n",
    "\n",
    ".DS_Store<br>\n",
    "*.pyc\n",
    "\n",
    "Once we've included those lines, Git won't add new files named .DS_Store or that end in .pyc to the staging area. It also won't commit them in future commits. It will still track changes to existing files it's already added to a commit, however, and also continue adding them to new commits.\n",
    "\n",
    "You can find default .gitignore configurations for several popular languages <a href=\"https://github.com/github/gitignore\">in this GitHub repo</a>.\n",
    "\n",
    "<b>Instructions</b>\n",
    "- Switch into the /home/dq/chatbot repo.\n",
    "- Switch to the master branch.\n",
    "- Create a file called .gitignore.\n",
    "- Add the following lines to .gitignore:\n",
    "    - .DS_Store\n",
    "    - *.pyc\n",
    "- Commit the changes with the message Added gitignore.\n",
    "- Push the master branch to the remote."
   ]
  },
  {
   "cell_type": "code",
   "execution_count": 35,
   "metadata": {},
   "outputs": [],
   "source": [
    "# touch .gitignore\n",
    "# echo \".DS_Store\" > .gitignore\n",
    "# echo \"*.pyc* >> .gitignore\n",
    "# git add .gitignore\n",
    "# git commit -m \"Added gitignore\"\n",
    "# git push origin master"
   ]
  },
  {
   "cell_type": "markdown",
   "metadata": {},
   "source": [
    "As we mentioned on the previous screen, adding files to .gitignore doesn't remove any files that have already been added to a Git commit. Git will still track changes to these files, and add them to future commits. This can be frustrating, especially when those files cause merge conflicts that require a lot of effort to resolve.\n",
    "\n",
    "Removing files from the Git cache can be helpful in these situations. This will prevent Git from tracking changes to those files, and adding them to future commits.\n",
    "\n",
    "We can remove files from the Git cache with the git rm command and the --cached flag. For example, the command below will remove any file called .DS_Store from the Git cache, and prevent Git from tracking it:\n",
    "\n",
    "git rm --cached .DS_Store\n",
    "\n",
    "This will remove any files called .DS_Store from our Git repo, but not from our working directory. The files will still exist on the computer, but will be invisible to Git for version tracking purposes.\n",
    "\n",
    "<b>Instructions</b>\n",
    "- Switch into the /home/dq/chatbot repo.\n",
    "- Switch to the master branch.\n",
    "- Remove bot.py from the Git cache.\n",
    "- Commit your changes with the message Removed bot.py. Remember not use git add here, because that would add bot.py back in!\n",
    "- Push the master branch to the remote."
   ]
  },
  {
   "cell_type": "code",
   "execution_count": 36,
   "metadata": {},
   "outputs": [],
   "source": [
    "# git rm --cached bot.py\n",
    "# git push origin master"
   ]
  }
 ],
 "metadata": {
  "kernelspec": {
   "display_name": "Python 3",
   "language": "python",
   "name": "python3"
  },
  "language_info": {
   "codemirror_mode": {
    "name": "ipython",
    "version": 3
   },
   "file_extension": ".py",
   "mimetype": "text/x-python",
   "name": "python",
   "nbconvert_exporter": "python",
   "pygments_lexer": "ipython3",
   "version": "3.6.3"
  }
 },
 "nbformat": 4,
 "nbformat_minor": 2
}
