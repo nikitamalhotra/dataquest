{
 "cells": [
  {
   "cell_type": "markdown",
   "metadata": {},
   "source": [
    "# Introduction"
   ]
  },
  {
   "cell_type": "markdown",
   "metadata": {},
   "source": [
    "AirBnB is a marketplace for short term rentals that allows you to list part or all of your living space for others to rent. You can rent everything from a room in an apartment to your entire house on AirBnB. Because most of the listings are on a short-term basis, AirBnB has grown to become a popular alternative to hotels. The company itself has grown from it's founding in 2008 to a 30 billion dollar valuation in 2016 and is currently worth more than any hotel chain in the world.\n",
    "\n",
    "One challenge that hosts looking to rent their living space face is determining the optimal nightly rent price. In many areas, renters are presented with a good selection of listings and can filter on criteria like price, number of bedrooms, room type and more. Since AirBnB is a marketplace, the amount a host can charge on a nightly basis is closely linked to the dynamics of the marketplace. Here's a screenshot of the search experience on AirBnB:\n",
    "\n",
    "<img src='knearest/fig1.png'>\n",
    "\n",
    "As a host, if we try to charge above market price for a living space we'd like to rent, then renters will select more affordable alternatives which are similar to ours.. If we set our nightly rent price too low, we'll miss out on potential revenue.\n",
    "\n",
    "One strategy we could use is to:\n",
    "\n",
    "- find a few listings that are similar to ours,\n",
    "- average the listed price for the ones most similar to ours,\n",
    "- set our listing price to this calculated average price.\n",
    "\n",
    "The process of discovering patterns in existing data to make a prediction is called machine learning. In our case, we want to use data on local listings to predict the optimal price for us to set. In this mission, we'll explore a specific machine learning technique called k-nearest neighbors, which mirrors the strategy we just described. Before we dive further into machine learning and k-nearest neighbors, let's get familiar with the dataset we'll be working with."
   ]
  },
  {
   "cell_type": "markdown",
   "metadata": {},
   "source": [
    "While AirBnB doesn't release any data on the listings in their marketplace, a separate group named Inside AirBnB has extracted data on a sample of the listings for many of the major cities on the website. In this post, we'll be working with their dataset from October 3, 2015 on the listings from Washington, D.C., the capital of the United States. Here's a direct link to that dataset. Each row in the dataset is a specific listing that's available for renting on AirBnB in the Washington, D.C. area\n",
    "\n",
    "To make the dataset less cumbersome to work with, we've removed many of the columns in the original dataset and renamed the file to dc_airbnb.csv. Here are the columns we kept:\n",
    "\n",
    "- host_response_rate: the response rate of the host\n",
    "- host_acceptance_rate: number of requests to the host that convert to rentals\n",
    "- host_listings_count: number of other listings the host has\n",
    "- latitude: latitude dimension of the geographic coordinates\n",
    "- longitude: longitude part of the coordinates\n",
    "- city: the city the living space resides\n",
    "- zipcode: the zip code the living space resides\n",
    "- state: the state the living space resides\n",
    "- accommodates: the number of guests the rental can accommodate\n",
    "- room_type: the type of living space (Private room, Shared room or Entire home/apt\n",
    "- bedrooms: number of bedrooms included in the rental\n",
    "- bathrooms: number of bathrooms included in the rental\n",
    "- beds: number of beds included in the rental\n",
    "- price: nightly price for the rental\n",
    "- cleaning_fee: additional fee used for cleaning the living space after the guest leaves\n",
    "- security_deposit: refundable security deposit, in case of damages\n",
    "- minimum_nights: minimum number of nights a guest can stay for the rental\n",
    "- maximum_nights: maximum number of nights a guest can stay for the rental\n",
    "- number_of_reviews: number of reviews that previous guests have left\n",
    "\n",
    "Let's read the dataset into Pandas and become more familiar with it.\n",
    "\n",
    "<b>Instructions</b>\n",
    "- Read dc_airbnb.csv into a Dataframe named dc_listings.\n",
    "- Use the print function to display the first row in dc_listings."
   ]
  },
  {
   "cell_type": "code",
   "execution_count": 1,
   "metadata": {},
   "outputs": [],
   "source": [
    "import pandas as pd\n",
    "import numpy as np"
   ]
  },
  {
   "cell_type": "code",
   "execution_count": 2,
   "metadata": {},
   "outputs": [
    {
     "name": "stdout",
     "output_type": "stream",
     "text": [
      "host_response_rate                  92%\n",
      "host_acceptance_rate                91%\n",
      "host_listings_count                  26\n",
      "accommodates                          4\n",
      "room_type               Entire home/apt\n",
      "bedrooms                              1\n",
      "bathrooms                             1\n",
      "beds                                  2\n",
      "price                           $160.00\n",
      "cleaning_fee                    $115.00\n",
      "security_deposit                $100.00\n",
      "minimum_nights                        1\n",
      "maximum_nights                     1125\n",
      "number_of_reviews                     0\n",
      "latitude                          38.89\n",
      "longitude                      -77.0028\n",
      "city                         Washington\n",
      "zipcode                           20003\n",
      "state                                DC\n",
      "Name: 0, dtype: object\n"
     ]
    }
   ],
   "source": [
    "dc_listings = pd.read_csv('dc_airbnb.csv')\n",
    "print(dc_listings.iloc[0])"
   ]
  },
  {
   "cell_type": "markdown",
   "metadata": {},
   "source": [
    "Here's the strategy we wanted to use:\n",
    "\n",
    "- Find a few similar listings.\n",
    "- Calculate the average nightly rental price of these listings.\n",
    "- Set the average price as the price for our listing.\n",
    "\n",
    "The k-nearest neighbors algorithm is similar to this strategy. Here's an overview:\n",
    "\n",
    "<img src='knearest/fig2.png'>\n",
    "\n",
    "There are 2 things we need to unpack in more detail:\n",
    "\n",
    "- the similarity metric\n",
    "- how to choose the k value\n",
    "\n",
    "In this mission, we'll define what similarity metric we're going to use. Then, we'll implement the k-nearest neighbors algorithm and use it to suggest a price for a new, unpriced listing. We'll use a k value of 5 in this mission. In later missions, we'll learn how to evaluate how good the suggested prices are, how to choose the optimal k value, and more.\n",
    "\n",
    "The similarity metric works by comparing a fixed set of numerical features, another word for attributes, between 2 observations, or living spaces in our case. When trying to predict a continuous value, like price, the main similarity metric that's used is Euclidean distance. Here's the general formula for Euclidean distance:\n",
    "\n",
    "$d=(q_1−p_1)^2+(q_2−p_2)2+⋯+(q_n−p_n)^2$\n",
    "\n",
    "where $q_1$ to $q_n$ represent the feature values for one observation and $p_1$ to $p_n$ represent the feature values for the other observation. Here's a diagram that breaks down the Euclidean distance between the first 2 observations in the dataset using only the host_listings_count, accommodates, bedrooms, bathrooms, and beds columns:\n",
    "\n",
    "<img src='knearest/fig3.png'>\n",
    "\n",
    "In this mission, we'll use just one feature in this mission to keep things simple as you become familiar with the machine learning workflow. Since we're only using one feature, this is known as the univariate case. Here's how the formula looks like for the univariate case:\n",
    "\n",
    "$d=(q_1−p_1)^2$\n",
    "\n",
    "The square root and the squared power cancel and the formula simplifies to:\n",
    "\n",
    "$d=|q_1−p_1|$\n",
    "\n",
    "The living space that we want to rent can accommodate 3 people. Let's first calculate the distance, using just the accommodates feature, between the first living space in the dataset and our own.\n",
    "\n",
    "<b>Instructions</b>\n",
    "- Calculate the Euclidean distance between our living space, which can accommodate 3 people, and the first living space in the dc_listings Dataframe.\n",
    "- Assign the result to first_distance and display the value using the print function."
   ]
  },
  {
   "cell_type": "code",
   "execution_count": 3,
   "metadata": {},
   "outputs": [
    {
     "name": "stdout",
     "output_type": "stream",
     "text": [
      "Distance: 1\n"
     ]
    }
   ],
   "source": [
    "first_distance = abs(3 - dc_listings['accommodates'].iloc[0])\n",
    "print('Distance:', first_distance)"
   ]
  },
  {
   "cell_type": "markdown",
   "metadata": {},
   "source": [
    "The Euclidean distance between the first row in the dc_listings Dataframe and our own living space is 1. How do we know if this is high or low? If you look at the Euclidean distance equation itself, the lowest value you can achieve is 0. This happens when the value for the feature is exactly the same for both observations you're comparing. If $p_1 = q_1$, then $d = |q_1 - p_1|$, which results in $d = 0$. The closer to 0 the distance the more similar the living spaces are.\n",
    "\n",
    "If we wanted to calculate the Euclidean distance between each living space in the dataset and a living space that accommodates 8 people, here's a preview of what that would look like.\n",
    "\n",
    "<img src='knearest/fig4.png', height=500, width=500>\n",
    "\n",
    "Then, we can rank the existing living spaces by ascending distance values, the proxy for similarity.\n",
    "\n",
    "<b>Instructions</b><br>\n",
    "- Calculate the distance between each value in the accommodates column from dc_listings and the value 3, which is the number of people our listing accommodates:\n",
    "    - Use the apply method to calculate the absolute value between each value in accommodates and 3 and return a new Series containing the distance values.\n",
    "- Assign the distance values to the distance column.\n",
    "- Use the Series method value_counts and the print function to display the unique value counts for the distance column."
   ]
  },
  {
   "cell_type": "code",
   "execution_count": 4,
   "metadata": {},
   "outputs": [
    {
     "name": "stdout",
     "output_type": "stream",
     "text": [
      "0      461\n",
      "1     2294\n",
      "2      503\n",
      "3      279\n",
      "4       35\n",
      "5       73\n",
      "6       17\n",
      "7       22\n",
      "8        7\n",
      "9       12\n",
      "10       2\n",
      "11       4\n",
      "12       6\n",
      "13       8\n",
      "Name: distance, dtype: int64\n"
     ]
    }
   ],
   "source": [
    "dc_listings['distance'] = dc_listings['accommodates'].apply(lambda x: abs(x - 3))\n",
    "\n",
    "print(dc_listings['distance'].value_counts().sort_index())"
   ]
  },
  {
   "cell_type": "markdown",
   "metadata": {},
   "source": [
    "It looks like there are quite a few, 461 to be precise, living spaces that can accommodate 3 people just like ours. This means the 5 \"nearest neighbors\" we select after sorting all will have a distance value of 0. If we sort by the distance column and then just select the first 5 living spaces, we would be biasing the result to the ordering of the dataset.\n",
    "\n",
    "\n",
    "    >> dc_listings[dc_listings[\"distance\"] == 0][\"accommodates\"]\n",
    "    26      3\n",
    "    34      3\n",
    "    36      3\n",
    "    40      3\n",
    "    44      3\n",
    "    45      3\n",
    "    48      3\n",
    "    65      3\n",
    "    66      3\n",
    "    71      3\n",
    "    75      3\n",
    "    86      3\n",
    "    ...\n",
    "\n",
    "Let's instead randomize the ordering of the dataset and then sort the Dataframe by the distance column. This way, all of the living spaces with the same number of bedrooms will still be at the top of the Dataframe but will be in random order across the first 461 rows. We've already done the first step of setting the random seed, so we can perform answer checking on our end.\n",
    "\n",
    "<b>Instructions</b>\n",
    "- Randomize the order of the rows in dc_listings:\n",
    "    - Use the np.random.permutation() function to return a NumPy array of shuffled index values.\n",
    "    - Use the Dataframe method loc[] to return a new Dataframe containing the shuffled order.\n",
    "    - Assign the new Dataframe back to dc_listings.\n",
    "- After randomization, sort dc_listings by the distance column.\n",
    "- Display the first 10 values in the price column using the print function."
   ]
  },
  {
   "cell_type": "code",
   "execution_count": 5,
   "metadata": {},
   "outputs": [
    {
     "data": {
      "text/html": [
       "<div>\n",
       "<style scoped>\n",
       "    .dataframe tbody tr th:only-of-type {\n",
       "        vertical-align: middle;\n",
       "    }\n",
       "\n",
       "    .dataframe tbody tr th {\n",
       "        vertical-align: top;\n",
       "    }\n",
       "\n",
       "    .dataframe thead th {\n",
       "        text-align: right;\n",
       "    }\n",
       "</style>\n",
       "<table border=\"1\" class=\"dataframe\">\n",
       "  <thead>\n",
       "    <tr style=\"text-align: right;\">\n",
       "      <th></th>\n",
       "      <th>host_response_rate</th>\n",
       "      <th>host_acceptance_rate</th>\n",
       "      <th>host_listings_count</th>\n",
       "      <th>accommodates</th>\n",
       "      <th>room_type</th>\n",
       "      <th>bedrooms</th>\n",
       "      <th>bathrooms</th>\n",
       "      <th>beds</th>\n",
       "      <th>price</th>\n",
       "      <th>cleaning_fee</th>\n",
       "      <th>security_deposit</th>\n",
       "      <th>minimum_nights</th>\n",
       "      <th>maximum_nights</th>\n",
       "      <th>number_of_reviews</th>\n",
       "      <th>latitude</th>\n",
       "      <th>longitude</th>\n",
       "      <th>city</th>\n",
       "      <th>zipcode</th>\n",
       "      <th>state</th>\n",
       "      <th>distance</th>\n",
       "    </tr>\n",
       "  </thead>\n",
       "  <tbody>\n",
       "    <tr>\n",
       "      <th>577</th>\n",
       "      <td>98%</td>\n",
       "      <td>52%</td>\n",
       "      <td>49</td>\n",
       "      <td>3</td>\n",
       "      <td>Private room</td>\n",
       "      <td>1.0</td>\n",
       "      <td>1.0</td>\n",
       "      <td>2.0</td>\n",
       "      <td>$185.00</td>\n",
       "      <td>NaN</td>\n",
       "      <td>NaN</td>\n",
       "      <td>2</td>\n",
       "      <td>14</td>\n",
       "      <td>1</td>\n",
       "      <td>38.908356</td>\n",
       "      <td>-77.028146</td>\n",
       "      <td>Washington</td>\n",
       "      <td>20005</td>\n",
       "      <td>DC</td>\n",
       "      <td>0</td>\n",
       "    </tr>\n",
       "    <tr>\n",
       "      <th>2166</th>\n",
       "      <td>100%</td>\n",
       "      <td>89%</td>\n",
       "      <td>2</td>\n",
       "      <td>3</td>\n",
       "      <td>Entire home/apt</td>\n",
       "      <td>1.0</td>\n",
       "      <td>1.0</td>\n",
       "      <td>1.0</td>\n",
       "      <td>$180.00</td>\n",
       "      <td>NaN</td>\n",
       "      <td>$100.00</td>\n",
       "      <td>1</td>\n",
       "      <td>14</td>\n",
       "      <td>10</td>\n",
       "      <td>38.905808</td>\n",
       "      <td>-77.000012</td>\n",
       "      <td>Washington</td>\n",
       "      <td>20002</td>\n",
       "      <td>DC</td>\n",
       "      <td>0</td>\n",
       "    </tr>\n",
       "    <tr>\n",
       "      <th>3631</th>\n",
       "      <td>98%</td>\n",
       "      <td>52%</td>\n",
       "      <td>49</td>\n",
       "      <td>3</td>\n",
       "      <td>Entire home/apt</td>\n",
       "      <td>1.0</td>\n",
       "      <td>1.0</td>\n",
       "      <td>2.0</td>\n",
       "      <td>$175.00</td>\n",
       "      <td>NaN</td>\n",
       "      <td>NaN</td>\n",
       "      <td>3</td>\n",
       "      <td>14</td>\n",
       "      <td>1</td>\n",
       "      <td>38.889065</td>\n",
       "      <td>-76.993576</td>\n",
       "      <td>Washington</td>\n",
       "      <td>20003</td>\n",
       "      <td>DC</td>\n",
       "      <td>0</td>\n",
       "    </tr>\n",
       "    <tr>\n",
       "      <th>71</th>\n",
       "      <td>100%</td>\n",
       "      <td>94%</td>\n",
       "      <td>1</td>\n",
       "      <td>3</td>\n",
       "      <td>Entire home/apt</td>\n",
       "      <td>1.0</td>\n",
       "      <td>1.0</td>\n",
       "      <td>1.0</td>\n",
       "      <td>$128.00</td>\n",
       "      <td>$40.00</td>\n",
       "      <td>NaN</td>\n",
       "      <td>1</td>\n",
       "      <td>1125</td>\n",
       "      <td>9</td>\n",
       "      <td>38.879960</td>\n",
       "      <td>-77.006491</td>\n",
       "      <td>Washington</td>\n",
       "      <td>20003</td>\n",
       "      <td>DC</td>\n",
       "      <td>0</td>\n",
       "    </tr>\n",
       "    <tr>\n",
       "      <th>1011</th>\n",
       "      <td>NaN</td>\n",
       "      <td>NaN</td>\n",
       "      <td>1</td>\n",
       "      <td>3</td>\n",
       "      <td>Entire home/apt</td>\n",
       "      <td>0.0</td>\n",
       "      <td>1.0</td>\n",
       "      <td>1.0</td>\n",
       "      <td>$115.00</td>\n",
       "      <td>NaN</td>\n",
       "      <td>NaN</td>\n",
       "      <td>1</td>\n",
       "      <td>1125</td>\n",
       "      <td>0</td>\n",
       "      <td>38.907382</td>\n",
       "      <td>-77.035075</td>\n",
       "      <td>Washington</td>\n",
       "      <td>20005</td>\n",
       "      <td>DC</td>\n",
       "      <td>0</td>\n",
       "    </tr>\n",
       "    <tr>\n",
       "      <th>380</th>\n",
       "      <td>58%</td>\n",
       "      <td>51%</td>\n",
       "      <td>480</td>\n",
       "      <td>3</td>\n",
       "      <td>Entire home/apt</td>\n",
       "      <td>NaN</td>\n",
       "      <td>1.0</td>\n",
       "      <td>1.0</td>\n",
       "      <td>$219.00</td>\n",
       "      <td>NaN</td>\n",
       "      <td>NaN</td>\n",
       "      <td>4</td>\n",
       "      <td>1125</td>\n",
       "      <td>0</td>\n",
       "      <td>38.900820</td>\n",
       "      <td>-77.052956</td>\n",
       "      <td>Washington</td>\n",
       "      <td>20037</td>\n",
       "      <td>DC</td>\n",
       "      <td>0</td>\n",
       "    </tr>\n",
       "    <tr>\n",
       "      <th>943</th>\n",
       "      <td>NaN</td>\n",
       "      <td>NaN</td>\n",
       "      <td>1</td>\n",
       "      <td>3</td>\n",
       "      <td>Private room</td>\n",
       "      <td>1.0</td>\n",
       "      <td>1.0</td>\n",
       "      <td>1.0</td>\n",
       "      <td>$125.00</td>\n",
       "      <td>$25.00</td>\n",
       "      <td>NaN</td>\n",
       "      <td>1</td>\n",
       "      <td>1125</td>\n",
       "      <td>3</td>\n",
       "      <td>38.913882</td>\n",
       "      <td>-77.038468</td>\n",
       "      <td>Washington</td>\n",
       "      <td>20009</td>\n",
       "      <td>DC</td>\n",
       "      <td>0</td>\n",
       "    </tr>\n",
       "    <tr>\n",
       "      <th>3107</th>\n",
       "      <td>NaN</td>\n",
       "      <td>NaN</td>\n",
       "      <td>1</td>\n",
       "      <td>3</td>\n",
       "      <td>Entire home/apt</td>\n",
       "      <td>1.0</td>\n",
       "      <td>1.0</td>\n",
       "      <td>1.0</td>\n",
       "      <td>$250.00</td>\n",
       "      <td>NaN</td>\n",
       "      <td>NaN</td>\n",
       "      <td>1</td>\n",
       "      <td>1125</td>\n",
       "      <td>0</td>\n",
       "      <td>38.934027</td>\n",
       "      <td>-77.035193</td>\n",
       "      <td>Washington</td>\n",
       "      <td>20010</td>\n",
       "      <td>DC</td>\n",
       "      <td>0</td>\n",
       "    </tr>\n",
       "    <tr>\n",
       "      <th>1499</th>\n",
       "      <td>62%</td>\n",
       "      <td>77%</td>\n",
       "      <td>1</td>\n",
       "      <td>3</td>\n",
       "      <td>Entire home/apt</td>\n",
       "      <td>0.0</td>\n",
       "      <td>1.0</td>\n",
       "      <td>2.0</td>\n",
       "      <td>$94.00</td>\n",
       "      <td>NaN</td>\n",
       "      <td>NaN</td>\n",
       "      <td>1</td>\n",
       "      <td>1125</td>\n",
       "      <td>2</td>\n",
       "      <td>38.878030</td>\n",
       "      <td>-77.019914</td>\n",
       "      <td>Washington</td>\n",
       "      <td>20024</td>\n",
       "      <td>DC</td>\n",
       "      <td>0</td>\n",
       "    </tr>\n",
       "    <tr>\n",
       "      <th>625</th>\n",
       "      <td>100%</td>\n",
       "      <td>0%</td>\n",
       "      <td>1</td>\n",
       "      <td>3</td>\n",
       "      <td>Entire home/apt</td>\n",
       "      <td>1.0</td>\n",
       "      <td>1.0</td>\n",
       "      <td>1.0</td>\n",
       "      <td>$150.00</td>\n",
       "      <td>NaN</td>\n",
       "      <td>NaN</td>\n",
       "      <td>1</td>\n",
       "      <td>1125</td>\n",
       "      <td>5</td>\n",
       "      <td>38.907031</td>\n",
       "      <td>-77.029510</td>\n",
       "      <td>Washington</td>\n",
       "      <td>20005</td>\n",
       "      <td>DC</td>\n",
       "      <td>0</td>\n",
       "    </tr>\n",
       "  </tbody>\n",
       "</table>\n",
       "</div>"
      ],
      "text/plain": [
       "     host_response_rate host_acceptance_rate  host_listings_count  \\\n",
       "577                 98%                  52%                   49   \n",
       "2166               100%                  89%                    2   \n",
       "3631                98%                  52%                   49   \n",
       "71                 100%                  94%                    1   \n",
       "1011                NaN                  NaN                    1   \n",
       "380                 58%                  51%                  480   \n",
       "943                 NaN                  NaN                    1   \n",
       "3107                NaN                  NaN                    1   \n",
       "1499                62%                  77%                    1   \n",
       "625                100%                   0%                    1   \n",
       "\n",
       "      accommodates        room_type  bedrooms  bathrooms  beds    price  \\\n",
       "577              3     Private room       1.0        1.0   2.0  $185.00   \n",
       "2166             3  Entire home/apt       1.0        1.0   1.0  $180.00   \n",
       "3631             3  Entire home/apt       1.0        1.0   2.0  $175.00   \n",
       "71               3  Entire home/apt       1.0        1.0   1.0  $128.00   \n",
       "1011             3  Entire home/apt       0.0        1.0   1.0  $115.00   \n",
       "380              3  Entire home/apt       NaN        1.0   1.0  $219.00   \n",
       "943              3     Private room       1.0        1.0   1.0  $125.00   \n",
       "3107             3  Entire home/apt       1.0        1.0   1.0  $250.00   \n",
       "1499             3  Entire home/apt       0.0        1.0   2.0   $94.00   \n",
       "625              3  Entire home/apt       1.0        1.0   1.0  $150.00   \n",
       "\n",
       "     cleaning_fee security_deposit  minimum_nights  maximum_nights  \\\n",
       "577           NaN              NaN               2              14   \n",
       "2166          NaN          $100.00               1              14   \n",
       "3631          NaN              NaN               3              14   \n",
       "71         $40.00              NaN               1            1125   \n",
       "1011          NaN              NaN               1            1125   \n",
       "380           NaN              NaN               4            1125   \n",
       "943        $25.00              NaN               1            1125   \n",
       "3107          NaN              NaN               1            1125   \n",
       "1499          NaN              NaN               1            1125   \n",
       "625           NaN              NaN               1            1125   \n",
       "\n",
       "      number_of_reviews   latitude  longitude        city zipcode state  \\\n",
       "577                   1  38.908356 -77.028146  Washington   20005    DC   \n",
       "2166                 10  38.905808 -77.000012  Washington   20002    DC   \n",
       "3631                  1  38.889065 -76.993576  Washington   20003    DC   \n",
       "71                    9  38.879960 -77.006491  Washington   20003    DC   \n",
       "1011                  0  38.907382 -77.035075  Washington   20005    DC   \n",
       "380                   0  38.900820 -77.052956  Washington   20037    DC   \n",
       "943                   3  38.913882 -77.038468  Washington   20009    DC   \n",
       "3107                  0  38.934027 -77.035193  Washington   20010    DC   \n",
       "1499                  2  38.878030 -77.019914  Washington   20024    DC   \n",
       "625                   5  38.907031 -77.029510  Washington   20005    DC   \n",
       "\n",
       "      distance  \n",
       "577          0  \n",
       "2166         0  \n",
       "3631         0  \n",
       "71           0  \n",
       "1011         0  \n",
       "380          0  \n",
       "943          0  \n",
       "3107         0  \n",
       "1499         0  \n",
       "625          0  "
      ]
     },
     "execution_count": 5,
     "metadata": {},
     "output_type": "execute_result"
    }
   ],
   "source": [
    "np.random.seed(1)\n",
    "\n",
    "shuffled_indices = np.random.permutation(len(dc_listings))\n",
    "dc_listings = dc_listings.loc[shuffled_indices]\n",
    "dc_listings.sort_values(by='distance', inplace=True)\n",
    "\n",
    "dc_listings.head(10)"
   ]
  },
  {
   "cell_type": "markdown",
   "metadata": {},
   "source": [
    "Before we can select the 5 most similar living spaces and compute the average price, we need to clean the price column. Right now, the price column contains comma characters and dollar sign characters and is formatted as a text column instead of a numeric one. We need to remove these values and convert the entire column to the float datatype. Then, we can calculate the average price.\n",
    "\n",
    "<b>Instructions</b><br>\n",
    "- Remove the commas and dollar sign characters from the price column:\n",
    "    - Use the str accessor so we can apply string methods to each value in the column followed by the string method replace to replace all comma characters with the empty character: stripped_commas = dc_listings['price'].str.replace(',', '')\n",
    "    - Repeat to remove the dollar sign characters as well.\n",
    "- Convert the new Series object containing the cleaned values to the float datatype and assign back to the price column in dc_listings.\n",
    "- Calculate the mean of the first 5 values in the price column and assign to mean_price.\n",
    "- Use the print function or the variable inspector below to display mean_price."
   ]
  },
  {
   "cell_type": "code",
   "execution_count": 6,
   "metadata": {},
   "outputs": [
    {
     "name": "stdout",
     "output_type": "stream",
     "text": [
      "Mean price: 156.6\n"
     ]
    }
   ],
   "source": [
    "stripped = (dc_listings['price'].str.replace(',', '')\n",
    "                                .str.replace('$', '')\n",
    "                                .astype('float'))\n",
    "\n",
    "dc_listings['price'] = stripped\n",
    "mean_price = np.mean(dc_listings['price'].iloc[:5])\n",
    "print('Mean price:', mean_price)"
   ]
  },
  {
   "cell_type": "markdown",
   "metadata": {},
   "source": [
    "Congrats! You've just made your first prediction! Based on the average price of other listings that accommdate 3 people, we should charge 156.6 dollars per night for a guest to stay at our living space. In the next mission, we'll dive into evaluating how good of a prediction this is.\n",
    "\n",
    "Let's write a more general function that can suggest the optimal price for other values of the accommodates column. The dc_listings Dataframe has information specific to our living space, e.g. the distance column. To save you time, we've reset the dc_listings Dataframe to a clean slate and only kept the data cleaning and randomization we did since those weren't unique to the prediction we were making for our living space.\n",
    "\n",
    "<b>Instructions</b><br>\n",
    "- Write a function named predict_price that can use the k-nearest neighbors machine learning technique to calculate the suggested price for any value for accommodates. This function should:\n",
    "    - Take in a single parameter, new_listing, that describes the number of bedrooms.\n",
    "    - We've added code that assigns dc_listings to a new Dataframe named temp_df. We used the pandas.DataFrame.copy() method so the underlying dataframe is assigned to temp_df, instead of just a reference to dc_listings.\n",
    "    - Calculate the distance between each value in the accommodates column and the new_listing value that was passed in. Assign the resulting Series object to the distance column in temp_df.\n",
    "    - Sort temp_df by the distance column and select the first 5 values in the price column. Don't randomize the ordering of temp_df.\n",
    "    - Calculate the mean of these 5 values and use that as the return value for the entire predict_price function.\n",
    "- Use the predict_price function to suggest a price for a living space that:\n",
    "    - accommodates 1 person, assign the suggested price to acc_one.\n",
    "    - accommodates 2 people, assign the suggested price to acc_two.\n",
    "    - accommodates 4 people, assign the suggested price to acc_four."
   ]
  },
  {
   "cell_type": "code",
   "execution_count": 7,
   "metadata": {},
   "outputs": [],
   "source": [
    "def prepare_df(shuffle=False):\n",
    "\n",
    "    dc_listings = pd.read_csv('dc_airbnb.csv')\n",
    "    stripped_commas = dc_listings['price'].str.replace(',', '')\n",
    "    stripped_dollars = stripped_commas.str.replace('$', '')\n",
    "    dc_listings['price'] = stripped_dollars.astype('float')\n",
    "    if shuffle:\n",
    "        np.random.seed(1)\n",
    "        dc_listings = dc_listings.loc[np.random.permutation(len(dc_listings))]\n",
    "    \n",
    "    return dc_listings"
   ]
  },
  {
   "cell_type": "code",
   "execution_count": 8,
   "metadata": {},
   "outputs": [
    {
     "name": "stdout",
     "output_type": "stream",
     "text": [
      "Price for 1: 68.0\n",
      "Price for 2: 112.8\n",
      "Price for 4: 124.8\n"
     ]
    }
   ],
   "source": [
    "dc_listings = prepare_df(shuffle=True)\n",
    "\n",
    "def predict_price(new_listing):\n",
    "    temp_df = dc_listings.copy()\n",
    "    temp_df['distance'] = abs(new_listing - temp_df['accommodates'])\n",
    "    temp_df.sort_values(by='distance', inplace=True)\n",
    "    return temp_df['price'].iloc[:5].mean()\n",
    "\n",
    "acc_one = predict_price(1)\n",
    "acc_two = predict_price(2)\n",
    "acc_four = predict_price(4)\n",
    "\n",
    "print('Price for 1:', acc_one)\n",
    "print('Price for 2:', acc_two)\n",
    "print('Price for 4:', acc_four)"
   ]
  },
  {
   "cell_type": "markdown",
   "metadata": {},
   "source": [
    "In this mission, we explored the problem of predicting the optimal price to list an AirBnB rental for based on the price of similar listings on the site. We stepped through the entire machine learning workflow, from selecting a feature to testing the model. To explore the basics of machine learning, we limited ourselves to only using one feature (the univariate case) and a fixed k value of 5.\n",
    "\n",
    "In the next mission, we'll learn how to evaluate a model's performance."
   ]
  },
  {
   "cell_type": "markdown",
   "metadata": {},
   "source": [
    "# Evaluating Model Performance"
   ]
  },
  {
   "cell_type": "markdown",
   "metadata": {},
   "source": [
    "We now have a function that can predict the price for any living space we want to list as long as we know the number of people it can accommodate. The function we wrote represents a machine learning model, which means that it outputs a prediction based on the input to the model.\n",
    "\n",
    "A simple way to test the quality of your model is to:\n",
    "\n",
    "- split the dataset into 2 partitions:\n",
    "    - the training set: contains the majority of the rows (75%)\n",
    "    - the test set: contains the remaining minority of the rows (25%)\n",
    "- use the rows in the training set to predict the price value for the rows in the test set\n",
    "    - add new column named predicted_price to the test set\n",
    "- compare the predicted_price values with the actual price values in the test set to see how accurate the predicted values were.\n",
    "\n",
    "This validation process, where we use the training set to make predictions and the test set to predict values for, is known as train/test validation. Whenever you're performing machine learning, you want to perform validation of some kind to ensure that your machine learning model can make good predictions on new data. While train/test validation isn't perfect, we'll use it to understand the validation process, to select an error metric, and then we'll dive into a more robust validation process later in this course.\n",
    "\n",
    "Let's modify the predict_price function to use only the rows in the training set, instead of the full dataset, to find the nearest neighbors, average the price values for those rows, and return the predicted price value. Then, we'll use this function to predict the price for just the rows in the test set. Once we have the predicted price values, we can compare with the true price values and start to understand the model's effectiveness in the next screen.\n",
    "\n",
    "To start, we've gone ahead and assigned the first 75% of the rows in dc_listings to train_df and the last 25% of the rows to test_df. Here's a diagram explaining the split:\n",
    "\n",
    "<img src='knearest/fig5.png'>\n",
    "\n",
    "<b>Instructions</b><br>\n",
    "- Within the predict_price function, change the Dataframe that temp_df is assigned to. Change it from dc_listings to train_df, so only the training set is used.\n",
    "- Use the Series method apply to pass all of the values in the accommodates column from test_df through the predict_price function.\n",
    "- Assign the resulting Series object to the predicted_price column in test_df."
   ]
  },
  {
   "cell_type": "code",
   "execution_count": 9,
   "metadata": {},
   "outputs": [],
   "source": [
    "dc_listings = prepare_df()\n",
    "\n",
    "train_rows = int(0.75 * dc_listings.shape[0])\n",
    "train_df = dc_listings.iloc[:train_rows]\n",
    "test_df = dc_listings.iloc[train_rows:]"
   ]
  },
  {
   "cell_type": "code",
   "execution_count": 10,
   "metadata": {},
   "outputs": [
    {
     "data": {
      "text/html": [
       "<div>\n",
       "<style scoped>\n",
       "    .dataframe tbody tr th:only-of-type {\n",
       "        vertical-align: middle;\n",
       "    }\n",
       "\n",
       "    .dataframe tbody tr th {\n",
       "        vertical-align: top;\n",
       "    }\n",
       "\n",
       "    .dataframe thead th {\n",
       "        text-align: right;\n",
       "    }\n",
       "</style>\n",
       "<table border=\"1\" class=\"dataframe\">\n",
       "  <thead>\n",
       "    <tr style=\"text-align: right;\">\n",
       "      <th></th>\n",
       "      <th>host_response_rate</th>\n",
       "      <th>host_acceptance_rate</th>\n",
       "      <th>host_listings_count</th>\n",
       "      <th>accommodates</th>\n",
       "      <th>room_type</th>\n",
       "      <th>bedrooms</th>\n",
       "      <th>bathrooms</th>\n",
       "      <th>beds</th>\n",
       "      <th>price</th>\n",
       "      <th>cleaning_fee</th>\n",
       "      <th>security_deposit</th>\n",
       "      <th>minimum_nights</th>\n",
       "      <th>maximum_nights</th>\n",
       "      <th>number_of_reviews</th>\n",
       "      <th>latitude</th>\n",
       "      <th>longitude</th>\n",
       "      <th>city</th>\n",
       "      <th>zipcode</th>\n",
       "      <th>state</th>\n",
       "    </tr>\n",
       "  </thead>\n",
       "  <tbody>\n",
       "    <tr>\n",
       "      <th>0</th>\n",
       "      <td>92%</td>\n",
       "      <td>91%</td>\n",
       "      <td>26</td>\n",
       "      <td>4</td>\n",
       "      <td>Entire home/apt</td>\n",
       "      <td>1.0</td>\n",
       "      <td>1.0</td>\n",
       "      <td>2.0</td>\n",
       "      <td>160.0</td>\n",
       "      <td>$115.00</td>\n",
       "      <td>$100.00</td>\n",
       "      <td>1</td>\n",
       "      <td>1125</td>\n",
       "      <td>0</td>\n",
       "      <td>38.890046</td>\n",
       "      <td>-77.002808</td>\n",
       "      <td>Washington</td>\n",
       "      <td>20003</td>\n",
       "      <td>DC</td>\n",
       "    </tr>\n",
       "    <tr>\n",
       "      <th>1</th>\n",
       "      <td>90%</td>\n",
       "      <td>100%</td>\n",
       "      <td>1</td>\n",
       "      <td>6</td>\n",
       "      <td>Entire home/apt</td>\n",
       "      <td>3.0</td>\n",
       "      <td>3.0</td>\n",
       "      <td>3.0</td>\n",
       "      <td>350.0</td>\n",
       "      <td>$100.00</td>\n",
       "      <td>NaN</td>\n",
       "      <td>2</td>\n",
       "      <td>30</td>\n",
       "      <td>65</td>\n",
       "      <td>38.880413</td>\n",
       "      <td>-76.990485</td>\n",
       "      <td>Washington</td>\n",
       "      <td>20003</td>\n",
       "      <td>DC</td>\n",
       "    </tr>\n",
       "    <tr>\n",
       "      <th>2</th>\n",
       "      <td>90%</td>\n",
       "      <td>100%</td>\n",
       "      <td>2</td>\n",
       "      <td>1</td>\n",
       "      <td>Private room</td>\n",
       "      <td>1.0</td>\n",
       "      <td>2.0</td>\n",
       "      <td>1.0</td>\n",
       "      <td>50.0</td>\n",
       "      <td>NaN</td>\n",
       "      <td>NaN</td>\n",
       "      <td>2</td>\n",
       "      <td>1125</td>\n",
       "      <td>1</td>\n",
       "      <td>38.955291</td>\n",
       "      <td>-76.986006</td>\n",
       "      <td>Hyattsville</td>\n",
       "      <td>20782</td>\n",
       "      <td>MD</td>\n",
       "    </tr>\n",
       "    <tr>\n",
       "      <th>3</th>\n",
       "      <td>100%</td>\n",
       "      <td>NaN</td>\n",
       "      <td>1</td>\n",
       "      <td>2</td>\n",
       "      <td>Private room</td>\n",
       "      <td>1.0</td>\n",
       "      <td>1.0</td>\n",
       "      <td>1.0</td>\n",
       "      <td>95.0</td>\n",
       "      <td>NaN</td>\n",
       "      <td>NaN</td>\n",
       "      <td>1</td>\n",
       "      <td>1125</td>\n",
       "      <td>0</td>\n",
       "      <td>38.872134</td>\n",
       "      <td>-77.019639</td>\n",
       "      <td>Washington</td>\n",
       "      <td>20024</td>\n",
       "      <td>DC</td>\n",
       "    </tr>\n",
       "    <tr>\n",
       "      <th>4</th>\n",
       "      <td>92%</td>\n",
       "      <td>67%</td>\n",
       "      <td>1</td>\n",
       "      <td>4</td>\n",
       "      <td>Entire home/apt</td>\n",
       "      <td>1.0</td>\n",
       "      <td>1.0</td>\n",
       "      <td>1.0</td>\n",
       "      <td>50.0</td>\n",
       "      <td>$15.00</td>\n",
       "      <td>$450.00</td>\n",
       "      <td>7</td>\n",
       "      <td>1125</td>\n",
       "      <td>0</td>\n",
       "      <td>38.996382</td>\n",
       "      <td>-77.041541</td>\n",
       "      <td>Silver Spring</td>\n",
       "      <td>20910</td>\n",
       "      <td>MD</td>\n",
       "    </tr>\n",
       "  </tbody>\n",
       "</table>\n",
       "</div>"
      ],
      "text/plain": [
       "  host_response_rate host_acceptance_rate  host_listings_count  accommodates  \\\n",
       "0                92%                  91%                   26             4   \n",
       "1                90%                 100%                    1             6   \n",
       "2                90%                 100%                    2             1   \n",
       "3               100%                  NaN                    1             2   \n",
       "4                92%                  67%                    1             4   \n",
       "\n",
       "         room_type  bedrooms  bathrooms  beds  price cleaning_fee  \\\n",
       "0  Entire home/apt       1.0        1.0   2.0  160.0      $115.00   \n",
       "1  Entire home/apt       3.0        3.0   3.0  350.0      $100.00   \n",
       "2     Private room       1.0        2.0   1.0   50.0          NaN   \n",
       "3     Private room       1.0        1.0   1.0   95.0          NaN   \n",
       "4  Entire home/apt       1.0        1.0   1.0   50.0       $15.00   \n",
       "\n",
       "  security_deposit  minimum_nights  maximum_nights  number_of_reviews  \\\n",
       "0          $100.00               1            1125                  0   \n",
       "1              NaN               2              30                 65   \n",
       "2              NaN               2            1125                  1   \n",
       "3              NaN               1            1125                  0   \n",
       "4          $450.00               7            1125                  0   \n",
       "\n",
       "    latitude  longitude           city zipcode state  \n",
       "0  38.890046 -77.002808     Washington   20003    DC  \n",
       "1  38.880413 -76.990485     Washington   20003    DC  \n",
       "2  38.955291 -76.986006    Hyattsville   20782    MD  \n",
       "3  38.872134 -77.019639     Washington   20024    DC  \n",
       "4  38.996382 -77.041541  Silver Spring   20910    MD  "
      ]
     },
     "execution_count": 10,
     "metadata": {},
     "output_type": "execute_result"
    }
   ],
   "source": [
    "dc_listings.head()"
   ]
  },
  {
   "cell_type": "code",
   "execution_count": 11,
   "metadata": {},
   "outputs": [],
   "source": [
    "def predict_price(new_listing):\n",
    "    ## DataFrame.copy() performs a deep copy\n",
    "    temp_df = train_df.copy()\n",
    "    temp_df['distance'] = temp_df['accommodates'].apply(lambda x: np.abs(x - new_listing))\n",
    "    temp_df = temp_df.sort_values('distance')\n",
    "    nearest_neighbor_prices = temp_df.iloc[0:5]['price']\n",
    "    predicted_price = nearest_neighbor_prices.mean()\n",
    "    \n",
    "    return(predicted_price)"
   ]
  },
  {
   "cell_type": "code",
   "execution_count": 12,
   "metadata": {},
   "outputs": [
    {
     "name": "stderr",
     "output_type": "stream",
     "text": [
      "/usr/local/lib/python3.6/site-packages/ipykernel_launcher.py:1: SettingWithCopyWarning: \n",
      "A value is trying to be set on a copy of a slice from a DataFrame.\n",
      "Try using .loc[row_indexer,col_indexer] = value instead\n",
      "\n",
      "See the caveats in the documentation: http://pandas.pydata.org/pandas-docs/stable/indexing.html#indexing-view-versus-copy\n",
      "  \"\"\"Entry point for launching an IPython kernel.\n"
     ]
    }
   ],
   "source": [
    "test_df['predicted_price'] = test_df['accommodates'].apply(predict_price)"
   ]
  },
  {
   "cell_type": "markdown",
   "metadata": {},
   "source": [
    "We now need a metric that quantifies how good the predictions were on the test set. This class of metrics is called an error metric. As the name suggests, an error metric quantifies how inaccurate our predictions were from the actual values. In our case, the error metric tells us how off our predicted price values were from the actual price values for the living spaces in the test dataset.\n",
    "\n",
    "We could start by calculating the difference between each predicted and actual value and then averaging these differences. This is referred to as mean error, but isn't an effective error metric for most cases. Mean error treats a positive difference differently than a negative difference, but we're really interested in how far off the prediction is in either the positive or negative direction. If the true price was 200 dollars and the model predicted 210 or 190 it's off by 10 dollars either way.\n",
    "\n",
    "We can instead use the mean absolute error, where we compute the absolute value of each error before we average all the errors.\n",
    "\n",
    "<b>Instructions</b><br>\n",
    "- Use numpy.absolute() to calculate the mean absolute error between predicted_price and price.\n",
    "- Assign the MAE to mae."
   ]
  },
  {
   "cell_type": "code",
   "execution_count": 13,
   "metadata": {},
   "outputs": [
    {
     "name": "stdout",
     "output_type": "stream",
     "text": [
      "Mean Absolute Error: 56.29001074113856\n"
     ]
    }
   ],
   "source": [
    "mae = np.mean(np.absolute(test_df['predicted_price'] - test_df['price']))\n",
    "print('Mean Absolute Error:', mae)"
   ]
  },
  {
   "cell_type": "markdown",
   "metadata": {},
   "source": [
    "For many prediction tasks, we want to penalize predicted values that are further away from the actual value much more than those that are closer to the actual value.\n",
    "\n",
    "We can instead take the mean of the squared error values, which is called the mean squared error or MSE for short. The MSE makes the gap between the predicted and actual values more clear. A prediction that's off by 100 dollars will have an error (of 10,000) that's 100 times more than a prediction that's off by only 10 dollars (which will have an error of 100).\n",
    "\n",
    "Let's calculate the MSE value for the predictions we made on the test set.\n",
    "\n",
    "<b>Instructions</b><br>\n",
    "- Calculate the MSE value between the predicted_price and price columns and assign to mse."
   ]
  },
  {
   "cell_type": "code",
   "execution_count": 14,
   "metadata": {},
   "outputs": [
    {
     "name": "stdout",
     "output_type": "stream",
     "text": [
      "Mean Squared Error (accomodates): 18646.525370569278\n",
      "Root Mean Squared Error (accomodates): 136.55228072269344\n"
     ]
    }
   ],
   "source": [
    "mse = np.mean(((test_df['predicted_price'] - test_df['price']) ** 2))\n",
    "rmse = np.sqrt(mse)\n",
    "print('Mean Squared Error (accomodates):', mse)\n",
    "print('Root Mean Squared Error (accomodates):', rmse)"
   ]
  },
  {
   "cell_type": "markdown",
   "metadata": {},
   "source": [
    "While comparing MSE values helps us identify which model performs better on a relative basis, it doesn't help us understand if the performance is good enough in general. This is because the units of the MSE metric are squared (in this case, dollars squared). An MSE value of 16377.5 dollars squared doesn't give us an intuitive sense of how far off the model's predictions are systematically off from the true price value in dollars.\n",
    "\n",
    "Root mean squared error is an error metric whose units are the base unit (in our case, dollars). RMSE for short, this error metric is calculated by taking the square root of the MSE value:\n",
    "\n",
    "$RMSE = \\sqrt(MSE)$\n",
    "\n",
    "Since the RMSE value uses the same units as the target column, we can understand how far off in real dollars we can expect the model to perform. For example, if a model achieves an RMSE value of greater than 100, we can expect the predicted price value to be off by 100 dollars on average.\n",
    "\n",
    "Let's calculate the RMSE value of the model we trained using the bathrooms column.\n",
    "\n",
    "<b>Instructions</b>\n",
    "- Calculate the RMSE value of the model we trained using the bathrooms column and assign it to rmse."
   ]
  },
  {
   "cell_type": "code",
   "execution_count": 15,
   "metadata": {},
   "outputs": [],
   "source": [
    "def predict_price(new_listing):\n",
    "    temp_df = train_df.copy()\n",
    "    temp_df['distance'] = temp_df['bathrooms'].apply(lambda x: np.abs(x - new_listing))\n",
    "    temp_df = temp_df.sort_values('distance')\n",
    "    nearest_neighbors_prices = temp_df.iloc[0:5]['price']\n",
    "    predicted_price = nearest_neighbors_prices.mean()\n",
    "    \n",
    "    return(predicted_price)"
   ]
  },
  {
   "cell_type": "code",
   "execution_count": 16,
   "metadata": {},
   "outputs": [
    {
     "name": "stdout",
     "output_type": "stream",
     "text": [
      "MSE (bathrooms): 18405.44408163265\n",
      "RMSE (bathrooms): 135.66666532952246\n"
     ]
    },
    {
     "name": "stderr",
     "output_type": "stream",
     "text": [
      "/usr/local/lib/python3.6/site-packages/ipykernel_launcher.py:1: SettingWithCopyWarning: \n",
      "A value is trying to be set on a copy of a slice from a DataFrame.\n",
      "Try using .loc[row_indexer,col_indexer] = value instead\n",
      "\n",
      "See the caveats in the documentation: http://pandas.pydata.org/pandas-docs/stable/indexing.html#indexing-view-versus-copy\n",
      "  \"\"\"Entry point for launching an IPython kernel.\n",
      "/usr/local/lib/python3.6/site-packages/ipykernel_launcher.py:3: SettingWithCopyWarning: \n",
      "A value is trying to be set on a copy of a slice from a DataFrame.\n",
      "Try using .loc[row_indexer,col_indexer] = value instead\n",
      "\n",
      "See the caveats in the documentation: http://pandas.pydata.org/pandas-docs/stable/indexing.html#indexing-view-versus-copy\n",
      "  This is separate from the ipykernel package so we can avoid doing imports until\n"
     ]
    }
   ],
   "source": [
    "test_df['predicted_price'] = test_df['bathrooms'].apply(lambda x: predict_price(x))\n",
    "\n",
    "test_df['squared_error'] = (test_df['predicted_price'] - test_df['price']) ** (2)\n",
    "mse = test_df['squared_error'].mean()\n",
    "rmse = np.sqrt(mse)\n",
    "print('MSE (bathrooms):', mse)\n",
    "print('RMSE (bathrooms):', rmse)"
   ]
  },
  {
   "cell_type": "markdown",
   "metadata": {},
   "source": [
    "The model achieved an RMSE value of approximately 135.6, which implies that we should expect for the model to be off by 135.6 dollars on average for the predicted price values. Given that most of the living spaces are listed at just a few hundred dollars, we need to reduce this error as much as possible to improve the model's usefulness.\n",
    "\n",
    "We discussed a few different error metrics we can use to understand a model's performance. As we mentioned earlier, these individual error metrics are helpeful for comparing models. To better understand a specific model, we can compare multiple error metrics for the same model. This requires a better understanding of the mathematical properties of the error metrics.\n",
    "\n",
    "If you look at the equation for MAE, you'll notice that a prediction that the individual errors (or differences between predicted and actual values) grow linearly. A prediction that's off by 10 dollars has a 10 times higher error than a prediction that's off by 1 dollar. If you look at the equation for RMSE, however, you'll notice that each error is squared before the square root of the sum of all the errors is taken. This means that the individual errors grows quadratically and has a different effect on the final RMSE value.\n",
    "\n",
    "Let's look at an example using different data entirely. We've created 2 Series objects containing 2 sets of errors and assigned to errors_one and errors_two.\n",
    "\n",
    "<b>Instructions</b><br>\n",
    "- Calculate the MAE for errors_one and assign to mae_one.\n",
    "- Calculate the RMSE for errors_one and assign to rmse_one.\n",
    "- Calculate the MAE for errors_two and assign to mae_two.\n",
    "- Calculate the RMSE for errors_two and assign to rmse_two."
   ]
  },
  {
   "cell_type": "code",
   "execution_count": 17,
   "metadata": {},
   "outputs": [
    {
     "name": "stdout",
     "output_type": "stream",
     "text": [
      "7.5 7.905694150420948\n",
      "62.5 235.82302686548658\n"
     ]
    }
   ],
   "source": [
    "errors_one = pd.Series([5, 10, 5, 10, 5, 10, 5, 10, 5, 10, 5, 10, 5, 10, 5, 10, 5, 10])\n",
    "errors_two = pd.Series([5, 10, 5, 10, 5, 10, 5, 10, 5, 10, 5, 10, 5, 10, 5, 10, 5, 1000])\n",
    "\n",
    "mae_one = np.mean(errors_one)\n",
    "rmse_one = np.sqrt(np.mean(errors_one ** 2))\n",
    "mae_two = np.mean(errors_two)\n",
    "rmse_two = np.sqrt(np.mean(errors_two ** 2))\n",
    "\n",
    "print(mae_one, rmse_one)\n",
    "print(mae_two, rmse_two)"
   ]
  },
  {
   "cell_type": "markdown",
   "metadata": {},
   "source": [
    "While the MAE (7.5) to RMSE (7.9056941504209481) ratio was about 1:1 for the first list of errors, the MAE (62.5) to RMSE (235.82302686548658) ratio was closer to 1:4 for the second list of errors. In general, we should expect that the RMSE value be much less than the MAE value because we're taking the square root of the squared errors. The only difference between the 2 sets of errors is the extreme 1000 value in errors_two instead of 10. When we're working with larger data sets, we can't inspect each value to understand if there's one or some outliers or if all of the errors are systematically higher. Looking at the ratio of MAE to RMSE can help us understand if there are large but infrequent errors. You can read more about comparing MAE and RMSE in this wonderful post.\n",
    "\n",
    "In this mission, we learned how to test our machine learning models using basic cross validation and different metrics. In the next 2 missions, we'll explore how adding more features to the machine learning model and selecting a more optimal k value can help improve the model's performance."
   ]
  },
  {
   "cell_type": "markdown",
   "metadata": {},
   "source": [
    "# Multivariate K-Nearest Neighbors"
   ]
  },
  {
   "cell_type": "markdown",
   "metadata": {},
   "source": [
    "In the last mission, we explored how to use a simple k-nearest neighbors machine learning model that used just one feature, or attribute, of the listing to predict the rent price. We first relied on the accommodates column, which describes the number of people a living space can comfortably accommodate. Then, we switched to the bathrooms column and observed an improvement in accuracy. While these were good features to become familiar with the basics of machine learning, it's clear that using just a single feature to compare listings doesn't reflect the reality of the market. An apartment that can accommodate 4 guests in a popular part of Washington D.C. will rent for much higher than one that can accommodate 4 guests in a crime ridden area.\n",
    "\n",
    "There are 2 ways we can tweak the model to try to improve the accuracy (decrease the RMSE during validation):\n",
    "\n",
    "- increase the number of attributes the model uses to calculate similarity when ranking the closest neighbors\n",
    "- increase k, the number of nearby neighbors the model uses when computing the prediction\n",
    "\n",
    "In this mission, we'll focus on increasing the number of attributes the model uses. When selecting more attributes to use in the model, we need to watch out for columns that don't work well with the distance equation. This includes columns containing:\n",
    "\n",
    "- non-numerical values (e.g. city or state)\n",
    "    - Euclidean distance equation expects numerical values\n",
    "- missing values\n",
    "    - distance equation expects a value for each observation and attribute\n",
    "- non-ordinal values (e.g. latitude or longitude)\n",
    "    - ranking by Euclidean distance doesn't make sense if all attributes aren't ordinal\n",
    "\n",
    "In the following code screen, we've read the dc_airbnb.csv dataset from the last mission into pandas and brought over the data cleaning changes we made. Let's first look at the first row's values to identify any columns containing non-numerical or non-ordinal values. In the next screen, we'll drop those columns and then look for missing values in each of the remaining columns.\n",
    "\n",
    "<b>Instructions</b><br>\n",
    "- Use the DataFrame.info() method to return the number of non-null values in each column"
   ]
  },
  {
   "cell_type": "code",
   "execution_count": 18,
   "metadata": {},
   "outputs": [
    {
     "name": "stdout",
     "output_type": "stream",
     "text": [
      "<class 'pandas.core.frame.DataFrame'>\n",
      "Int64Index: 3723 entries, 574 to 1061\n",
      "Data columns (total 19 columns):\n",
      "host_response_rate      3289 non-null object\n",
      "host_acceptance_rate    3109 non-null object\n",
      "host_listings_count     3723 non-null int64\n",
      "accommodates            3723 non-null int64\n",
      "room_type               3723 non-null object\n",
      "bedrooms                3702 non-null float64\n",
      "bathrooms               3696 non-null float64\n",
      "beds                    3712 non-null float64\n",
      "price                   3723 non-null float64\n",
      "cleaning_fee            2335 non-null object\n",
      "security_deposit        1426 non-null object\n",
      "minimum_nights          3723 non-null int64\n",
      "maximum_nights          3723 non-null int64\n",
      "number_of_reviews       3723 non-null int64\n",
      "latitude                3723 non-null float64\n",
      "longitude               3723 non-null float64\n",
      "city                    3723 non-null object\n",
      "zipcode                 3714 non-null object\n",
      "state                   3723 non-null object\n",
      "dtypes: float64(6), int64(5), object(8)\n",
      "memory usage: 581.7+ KB\n"
     ]
    }
   ],
   "source": [
    "dc_listings = prepare_df(shuffle=True)\n",
    "\n",
    "dc_listings.info()"
   ]
  },
  {
   "cell_type": "markdown",
   "metadata": {},
   "source": [
    "The following columns contain non-numerical values:\n",
    "\n",
    "- room_type: e.g. Private room\n",
    "- city: e.g. Washington\n",
    "- state: e.g. DC\n",
    "\n",
    "while these columns contain numerical but non-ordinal values:\n",
    "\n",
    "- latitude: e.g. 38.913458\n",
    "- longitude: e.g. -77.031\n",
    "- zipcode: e.g. 20009\n",
    "\n",
    "Geographic values like these aren't ordinal, because a smaller numerical value doesn't directly correspond to a smaller value in a meaningful way. For example, the zip code 20009 isn't smaller or larger than the zip code 75023 and instead both are unique, identifier values. Latitude and longitude value pairs describe a point on a geographic coordinate system and different equations are used in those cases (e.g. haversine).\n",
    "\n",
    "While we could convert the host_response_rate and host_acceptance_rate columns to be numerical (right now they're object data types and contain the % sign), these columns describe the host and not the living space itself. Since a host could have many living spaces and we don't have enough information to uniquely group living spaces to the hosts themselves, let's avoid using any columns that don't directly describe the living space or the listing itself:\n",
    "\n",
    "- host_response_rate\n",
    "- host_acceptance_rate\n",
    "- host_listings_count\n",
    "\n",
    "Let's remove these 9 columns from the Dataframe.\n",
    "\n",
    "<b>Instructions</b><br>\n",
    "- Remove the 9 columns we discussed above from dc_listings:\n",
    "    - 3 containing non-numerical values\n",
    "    - 3 containing numerical but non-ordinal values\n",
    "    - 3 describing the host instead of the living space itself"
   ]
  },
  {
   "cell_type": "code",
   "execution_count": 19,
   "metadata": {},
   "outputs": [],
   "source": [
    "cols_to_drop = ['room_type', 'city', 'state', \n",
    "                'latitude', 'longitude', 'zipcode', \n",
    "                'host_response_rate', 'host_acceptance_rate', 'host_listings_count']\n",
    "\n",
    "dc_listings.drop(cols_to_drop, axis=1, inplace=True)"
   ]
  },
  {
   "cell_type": "code",
   "execution_count": 20,
   "metadata": {},
   "outputs": [
    {
     "data": {
      "text/plain": [
       "accommodates            0\n",
       "bedrooms               21\n",
       "bathrooms              27\n",
       "beds                   11\n",
       "price                   0\n",
       "cleaning_fee         1388\n",
       "security_deposit     2297\n",
       "minimum_nights          0\n",
       "maximum_nights          0\n",
       "number_of_reviews       0\n",
       "dtype: int64"
      ]
     },
     "execution_count": 20,
     "metadata": {},
     "output_type": "execute_result"
    }
   ],
   "source": [
    "dc_listings.isnull().sum()"
   ]
  },
  {
   "cell_type": "markdown",
   "metadata": {},
   "source": [
    "Of the remaining columns, 3 columns have a few missing values (less than 1% of the total number of rows):\n",
    "\n",
    "- bedrooms\n",
    "- bathrooms\n",
    "- beds\n",
    "\n",
    "Since the number of rows containing missing values for one of these 3 columns is low, we can select and remove those rows without losing much information. There are also 2 columns have a large number of missing values:\n",
    "\n",
    "- cleaning_fee - 37.3% of the rows\n",
    "- security_deposit - 61.7% of the rows\n",
    "\n",
    "and we can't handle these easily. We can't just remove the rows containing missing values for these 2 columns because we'd miss out on the majority of the observations in the dataset. Instead, let's remove these 2 columns entirely from consideration.\n",
    "\n",
    "<b>Instructions</b><br>\n",
    "- Drop the cleaning_fee and security_deposit columns from dc_listings.\n",
    "- Then, remove all rows that contain a missing value for the bedrooms, bathrooms, or beds column from dc_listings.\n",
    "    - You can accomplish this by using the Dataframe method dropna() and setting the axis parameter to 0.\n",
    "    - Since only the bedrooms, bathrooms, and beds columns contain any missing values, rows containing missing values in these columns will be removed.\n",
    "- Display the null value counts for the updated dc_listings Dataframe to confirm that there are no missing values left."
   ]
  },
  {
   "cell_type": "code",
   "execution_count": 21,
   "metadata": {},
   "outputs": [
    {
     "data": {
      "text/plain": [
       "accommodates         0\n",
       "bedrooms             0\n",
       "bathrooms            0\n",
       "beds                 0\n",
       "price                0\n",
       "minimum_nights       0\n",
       "maximum_nights       0\n",
       "number_of_reviews    0\n",
       "dtype: int64"
      ]
     },
     "execution_count": 21,
     "metadata": {},
     "output_type": "execute_result"
    }
   ],
   "source": [
    "dc_listings.drop(['cleaning_fee', 'security_deposit'], axis=1, inplace=True)\n",
    "dc_listings.dropna(axis=0, inplace=True)\n",
    "dc_listings.isnull().sum()"
   ]
  },
  {
   "cell_type": "code",
   "execution_count": 22,
   "metadata": {},
   "outputs": [
    {
     "data": {
      "text/html": [
       "<div>\n",
       "<style scoped>\n",
       "    .dataframe tbody tr th:only-of-type {\n",
       "        vertical-align: middle;\n",
       "    }\n",
       "\n",
       "    .dataframe tbody tr th {\n",
       "        vertical-align: top;\n",
       "    }\n",
       "\n",
       "    .dataframe thead th {\n",
       "        text-align: right;\n",
       "    }\n",
       "</style>\n",
       "<table border=\"1\" class=\"dataframe\">\n",
       "  <thead>\n",
       "    <tr style=\"text-align: right;\">\n",
       "      <th></th>\n",
       "      <th>accommodates</th>\n",
       "      <th>bedrooms</th>\n",
       "      <th>bathrooms</th>\n",
       "      <th>beds</th>\n",
       "      <th>price</th>\n",
       "      <th>minimum_nights</th>\n",
       "      <th>maximum_nights</th>\n",
       "      <th>number_of_reviews</th>\n",
       "    </tr>\n",
       "  </thead>\n",
       "  <tbody>\n",
       "    <tr>\n",
       "      <th>574</th>\n",
       "      <td>2</td>\n",
       "      <td>1.0</td>\n",
       "      <td>1.0</td>\n",
       "      <td>1.0</td>\n",
       "      <td>125.0</td>\n",
       "      <td>1</td>\n",
       "      <td>4</td>\n",
       "      <td>149</td>\n",
       "    </tr>\n",
       "    <tr>\n",
       "      <th>1593</th>\n",
       "      <td>2</td>\n",
       "      <td>1.0</td>\n",
       "      <td>1.5</td>\n",
       "      <td>1.0</td>\n",
       "      <td>85.0</td>\n",
       "      <td>1</td>\n",
       "      <td>30</td>\n",
       "      <td>49</td>\n",
       "    </tr>\n",
       "    <tr>\n",
       "      <th>3091</th>\n",
       "      <td>1</td>\n",
       "      <td>1.0</td>\n",
       "      <td>0.5</td>\n",
       "      <td>1.0</td>\n",
       "      <td>50.0</td>\n",
       "      <td>1</td>\n",
       "      <td>1125</td>\n",
       "      <td>1</td>\n",
       "    </tr>\n",
       "    <tr>\n",
       "      <th>420</th>\n",
       "      <td>2</td>\n",
       "      <td>1.0</td>\n",
       "      <td>1.0</td>\n",
       "      <td>1.0</td>\n",
       "      <td>209.0</td>\n",
       "      <td>4</td>\n",
       "      <td>730</td>\n",
       "      <td>2</td>\n",
       "    </tr>\n",
       "    <tr>\n",
       "      <th>808</th>\n",
       "      <td>12</td>\n",
       "      <td>5.0</td>\n",
       "      <td>2.0</td>\n",
       "      <td>5.0</td>\n",
       "      <td>215.0</td>\n",
       "      <td>2</td>\n",
       "      <td>1825</td>\n",
       "      <td>34</td>\n",
       "    </tr>\n",
       "  </tbody>\n",
       "</table>\n",
       "</div>"
      ],
      "text/plain": [
       "      accommodates  bedrooms  bathrooms  beds  price  minimum_nights  \\\n",
       "574              2       1.0        1.0   1.0  125.0               1   \n",
       "1593             2       1.0        1.5   1.0   85.0               1   \n",
       "3091             1       1.0        0.5   1.0   50.0               1   \n",
       "420              2       1.0        1.0   1.0  209.0               4   \n",
       "808             12       5.0        2.0   5.0  215.0               2   \n",
       "\n",
       "      maximum_nights  number_of_reviews  \n",
       "574                4                149  \n",
       "1593              30                 49  \n",
       "3091            1125                  1  \n",
       "420              730                  2  \n",
       "808             1825                 34  "
      ]
     },
     "execution_count": 22,
     "metadata": {},
     "output_type": "execute_result"
    }
   ],
   "source": [
    "dc_listings.head()"
   ]
  },
  {
   "cell_type": "markdown",
   "metadata": {},
   "source": [
    "You may have noticed that while the accommodates, bedrooms, bathrooms, beds, and minimum_nights columns hover between 0 and 12 (at least in the first few rows), the values in the maximum_nights and number_of_reviews columns span much larger ranges. For example, the maximum_nights column has values as low as 4 and high as 1825, in the first few rows itself. If we use these 2 columns as part of a k-nearest neighbors model, these attributes could end up having an outsized effect on the distance calculations because of the largeness of the values.\n",
    "\n",
    "For example, 2 living spaces could be identical across every attribute but be vastly different just on the maximum_nights column. If one listing had a maximum_nights value of 1825 and the other a maximum_nights value of 4, because of the way Euclidean distance is calculated, these listings would be considered very far apart because of the outsized effect the largeness of the values had on the overall Euclidean distance. To prevent any single column from having too much of an impact on the distance, we can normalize all of the columns to have a mean of 0 and a standard deviation of 1.\n",
    "\n",
    "Normalizing the values in each columns to the standard normal distribution (mean of 0, standard deviation of 1) preserves the distribution of the values in each column while aligning the scales. To normalize the values in a column to the standard normal distribution, you need to:\n",
    "\n",
    "from each value, subtract the mean of the column\n",
    "divide each value by the standard deviation of the column\n",
    "Here's the mathematical formula describing the transformation that needs to be applied for all values in a column:\n",
    "\n",
    "$x = (x - \\mu) / \\sigma$\n",
    "\n",
    "where  is a value in a specific column,  is the mean of all the values in the column, and  is the standard deviation of all the values in the column. Here's what the corresponding code, using pandas, looks like:\n",
    "\n",
    "\n",
    "    # Subtract each value in the column by the mean.\n",
    "    first_transform = dc_listings['maximum_nights'] - dc_listings['maximum_nights'].mean()\n",
    "    # Divide each value in the column by the standard deviation.\n",
    "    normalized_col = first_transform / first_transform.std()\n",
    "\n",
    "To apply this transformation across all of the columns in a Dataframe, you can use the corresponding Dataframe methods mean() and std():\n",
    "\n",
    "    normalized_listings = (dc_listings - dc_listings.mean()) / (dc_listings.std())\n",
    "\n",
    "These methods were written with mass column transformation in mind and when you call mean() or std(), the appropriate column means and column standard deviations are used for each value in the Dataframe. Let's now normalize all of the feature columns in dc_listings.\n",
    "\n",
    "<b>Instructions</b><br>\n",
    "- Normalize all of the feature columns in dc_listings and assign the new Dataframe containing just the normalized feature columns to normalized_listings.\n",
    "- Add the price column from dc_listings to normalized_listings.\n",
    "- Display the first 3 rows in normalized_listings."
   ]
  },
  {
   "cell_type": "code",
   "execution_count": 23,
   "metadata": {},
   "outputs": [],
   "source": [
    "from sklearn.preprocessing import StandardScaler"
   ]
  },
  {
   "cell_type": "code",
   "execution_count": 24,
   "metadata": {},
   "outputs": [],
   "source": [
    "scaler = StandardScaler()\n",
    "normalized_listings = scaler.fit_transform(dc_listings)\n",
    "normalized_listings = pd.DataFrame(normalized_listings, index=dc_listings.index, columns=dc_listings.columns)\n",
    "normalized_listings['price'] = dc_listings['price']"
   ]
  },
  {
   "cell_type": "code",
   "execution_count": 25,
   "metadata": {},
   "outputs": [
    {
     "data": {
      "text/html": [
       "<div>\n",
       "<style scoped>\n",
       "    .dataframe tbody tr th:only-of-type {\n",
       "        vertical-align: middle;\n",
       "    }\n",
       "\n",
       "    .dataframe tbody tr th {\n",
       "        vertical-align: top;\n",
       "    }\n",
       "\n",
       "    .dataframe thead th {\n",
       "        text-align: right;\n",
       "    }\n",
       "</style>\n",
       "<table border=\"1\" class=\"dataframe\">\n",
       "  <thead>\n",
       "    <tr style=\"text-align: right;\">\n",
       "      <th></th>\n",
       "      <th>accommodates</th>\n",
       "      <th>bedrooms</th>\n",
       "      <th>bathrooms</th>\n",
       "      <th>beds</th>\n",
       "      <th>price</th>\n",
       "      <th>minimum_nights</th>\n",
       "      <th>maximum_nights</th>\n",
       "      <th>number_of_reviews</th>\n",
       "    </tr>\n",
       "  </thead>\n",
       "  <tbody>\n",
       "    <tr>\n",
       "      <th>574</th>\n",
       "      <td>-0.596625</td>\n",
       "      <td>-0.249501</td>\n",
       "      <td>-0.439211</td>\n",
       "      <td>-0.546933</td>\n",
       "      <td>125.0</td>\n",
       "      <td>-0.341421</td>\n",
       "      <td>-0.016606</td>\n",
       "      <td>4.580274</td>\n",
       "    </tr>\n",
       "    <tr>\n",
       "      <th>1593</th>\n",
       "      <td>-0.596625</td>\n",
       "      <td>-0.249501</td>\n",
       "      <td>0.412979</td>\n",
       "      <td>-0.546933</td>\n",
       "      <td>85.0</td>\n",
       "      <td>-0.341421</td>\n",
       "      <td>-0.016606</td>\n",
       "      <td>1.159433</td>\n",
       "    </tr>\n",
       "    <tr>\n",
       "      <th>3091</th>\n",
       "      <td>-1.095648</td>\n",
       "      <td>-0.249501</td>\n",
       "      <td>-1.291402</td>\n",
       "      <td>-0.546933</td>\n",
       "      <td>50.0</td>\n",
       "      <td>-0.341421</td>\n",
       "      <td>-0.016575</td>\n",
       "      <td>-0.482571</td>\n",
       "    </tr>\n",
       "    <tr>\n",
       "      <th>420</th>\n",
       "      <td>-0.596625</td>\n",
       "      <td>-0.249501</td>\n",
       "      <td>-0.439211</td>\n",
       "      <td>-0.546933</td>\n",
       "      <td>209.0</td>\n",
       "      <td>0.487701</td>\n",
       "      <td>-0.016586</td>\n",
       "      <td>-0.448362</td>\n",
       "    </tr>\n",
       "    <tr>\n",
       "      <th>808</th>\n",
       "      <td>4.393602</td>\n",
       "      <td>4.508517</td>\n",
       "      <td>1.265170</td>\n",
       "      <td>2.830341</td>\n",
       "      <td>215.0</td>\n",
       "      <td>-0.065047</td>\n",
       "      <td>-0.016555</td>\n",
       "      <td>0.646307</td>\n",
       "    </tr>\n",
       "  </tbody>\n",
       "</table>\n",
       "</div>"
      ],
      "text/plain": [
       "      accommodates  bedrooms  bathrooms      beds  price  minimum_nights  \\\n",
       "574      -0.596625 -0.249501  -0.439211 -0.546933  125.0       -0.341421   \n",
       "1593     -0.596625 -0.249501   0.412979 -0.546933   85.0       -0.341421   \n",
       "3091     -1.095648 -0.249501  -1.291402 -0.546933   50.0       -0.341421   \n",
       "420      -0.596625 -0.249501  -0.439211 -0.546933  209.0        0.487701   \n",
       "808       4.393602  4.508517   1.265170  2.830341  215.0       -0.065047   \n",
       "\n",
       "      maximum_nights  number_of_reviews  \n",
       "574        -0.016606           4.580274  \n",
       "1593       -0.016606           1.159433  \n",
       "3091       -0.016575          -0.482571  \n",
       "420        -0.016586          -0.448362  \n",
       "808        -0.016555           0.646307  "
      ]
     },
     "execution_count": 25,
     "metadata": {},
     "output_type": "execute_result"
    }
   ],
   "source": [
    "normalized_listings.head()"
   ]
  },
  {
   "cell_type": "markdown",
   "metadata": {},
   "source": [
    "In the last mission, we trained 2 univariate k-nearest neighbors models. The first one used the accommodates attribute while the second one used the bathrooms attribute. Let's now train a model that uses both attributes when determining how similar 2 living spaces are. Let's refer to the Euclidean distance equation again to see what the distance calculation using 2 attributes would look like:\n",
    "\n",
    "$d = \\sqrt(q_1 - p_1)^2 + (q_2 - p_2)^2 + ... + (q_n - p_n)^2$\n",
    "\n",
    "Since we're using 2 attributes, the distance calculation would look like:\n",
    "\n",
    "$d = \\sqrt(accomodates_1 - accomodates_1)^2 + (bathrooms_2 - bathrooms_2)^2$\n",
    "\n",
    "To find the distance between 2 living spaces, we need to calculate the squared difference between both accommodates values, the squared difference between both bathrooms values, add them together, and then take the square root of the resulting sum. Here's what the Euclidean distance between the first 2 rows in normalized_listings looks like:\n",
    "\n",
    "<img src='knearest/fig6.png', height=300, width=600>\n",
    "\n",
    "So far, we've been calculating Euclidean distance ourselves by writing the logic for the equation ourselves. We can instead use the distance.euclidean() function from scipy.spatial, which takes in 2 vectors as the parameters and calculates the Euclidean distance between them. The euclidean() function expects:\n",
    "\n",
    "- both of the vectors to be represented using a list-like object (Python list, NumPy array, or pandas Series)\n",
    "- both of the vectors must be 1-dimensional and have the same number of elements\n",
    "\n",
    "Here's a simple example:\n",
    "\n",
    "    from scipy.spatial import distance\n",
    "    first_listing = [-0.596544, -0.439151]\n",
    "    second_listing = [-0.596544, 0.412923]\n",
    "    dist = distance.euclidean(first_listing, second_listing)\n",
    "\n",
    "Let's use the euclidean() function to calculate the Euclidean distance between 2 rows in our dataset to practice.\n",
    "\n",
    "<b>Instructions</b><br>\n",
    "- Calculate the Euclidean distance using only the accommodates and bathrooms features between the first row and fifth row in normalized_listings using the distance.euclidean() function.\n",
    "- Assign the distance value to first_fifth_distance and display using the print function."
   ]
  },
  {
   "cell_type": "code",
   "execution_count": 26,
   "metadata": {},
   "outputs": [],
   "source": [
    "from scipy.spatial import distance"
   ]
  },
  {
   "cell_type": "code",
   "execution_count": 27,
   "metadata": {},
   "outputs": [
    {
     "name": "stdout",
     "output_type": "stream",
     "text": [
      "Distance: 5.273261405868558\n"
     ]
    }
   ],
   "source": [
    "first = normalized_listings[['bathrooms', 'accommodates']].iloc[0]\n",
    "fifth = normalized_listings[['bathrooms', 'accommodates']].iloc[4]\n",
    "\n",
    "first_fifth_difference = distance.euclidean(first, fifth)\n",
    "print('Distance:', first_fifth_difference)"
   ]
  },
  {
   "cell_type": "markdown",
   "metadata": {},
   "source": [
    "So far, we've been writing functions from scratch to train the k-nearest neighbor models. While this is helpful deliberate practice to understand how the mechanics work, you can be more productive and iterate quicker by using a library that handles most of the implementation. In this screen, we'll learn about the scikit-learn library, which is the most popular machine learning in Python. Scikit-learn contains functions for all of the major machine learning algorithms and a simple, unified workflow. Both of these properties allow data scientists to be incredibly productive when training and testing different models on a new dataset.\n",
    "\n",
    "The scikit-learn workflow consists of 4 main steps:\n",
    "\n",
    "- instantiate the specific machine learning model you want to use\n",
    "- fit the model to the training data\n",
    "- use the model to make predictions\n",
    "- evaluate the accuracy of the predictions\n",
    "\n",
    "We'll focus on the first 3 steps in this screen and the next screen. Each model in scikit-learn is implemented as a separate class and the first step is to identify the class we want to create an instance of. In our case, we want to use the KNeighborsRegressor class.\n",
    "Any model that helps us predict numerical values, like listing price in our case, is known as a regression model. The other main class of machine learning models is called classification, where we're trying to predict a label from a fixed set of labels (e.g. blood type or gender). The word regressor from the class name KNeighborsRegressor refers to the regression model class that we just discussed.\n",
    "\n",
    "Scikit-learn uses a similar object-oriented style to Matplotlib and you need to instantiate an empty model first by calling the constructor:\n",
    "\n",
    "    from sklearn.neighbors import KNeighborsRegressor\n",
    "    knn = KNeighborsRegressor()\n",
    "\n",
    "If you refer to the documentation, you'll notice that by default:\n",
    "\n",
    "- n_neighbors: the number of neighbors, is set to 5\n",
    "- algorithm: for computing nearest neighbors, is set to auto\n",
    "- p: set to 2, corresponding to Euclidean distance\n",
    "\n",
    "Let's set the algorithm parameter to brute and leave the n_neighbors value as 5, which matches the implementation we wrote in the last mission. If we leave the algorithm parameter set to the default value of auto, scikit-learn will try to use tree-based optimizations to improve performance (which are outside of the scope of this mission):\n",
    "\n",
    "    knn = KNeighborsRegressor(algorithm='brute')\n",
    "    \n",
    "Now, we can fit the model to the data using the fit method. For all models, the fit method takes in 2 required parameters:\n",
    "\n",
    "- matrix-like object, containing the feature columns we want to use from the training set.\n",
    "- list-like object, containing correct target values.\n",
    "\n",
    "Matrix-like object means that the method is flexible in the input and either a Dataframe or a NumPy 2D array of values is accepted. This means you can select the columns you want to use from the Dataframe and use that as the first parameter to the fit method.\n",
    "\n",
    "If you recall from earlier in the mission, all of the following are acceptable list-like objects:\n",
    "\n",
    "- NumPy array\n",
    "- Python list\n",
    "- pandas Series object (e.g. when selecting a column)\n",
    "\n",
    "You can select the target column from the Dataframe and use that as the second parameter to the fit method:\n",
    "\n",
    "\n",
    "    # Split full dataset into train and test sets.\n",
    "    train_df = normalized_listings.iloc[0:2792]\n",
    "    test_df = normalized_listings.iloc[2792:]\n",
    "    # Matrix-like object, containing just the 2 columns of interest from training set.\n",
    "    train_features = train_df[['accommodates', 'bathrooms']]\n",
    "    # List-like object, containing just the target column, `price`.\n",
    "    train_target = normalized_listings['price']\n",
    "    # Pass everything into the fit method.\n",
    "    knn.fit(train_features, train_target)\n",
    "\n",
    "When the fit() method is called, scikit-learn stores the training data we specified within the KNearestNeighbors instance (knn). If you try passing in data containing missing values or non-numerical values into the fit method, scikit-learn will return an error. Scikit-learn contains many such features that help prevent us from making common mistakes.\n",
    "\n",
    "Now that we specified the training data we want used to make predictions, we can use the predict method to make predictions on the test set. The predict method has only one required parameter:\n",
    "\n",
    "matrix-like object, containing the feature columns from the dataset we want to make predictions on\n",
    "The number of feature columns you use during both training and testing need to match or scikit-learn will return an error:\n",
    "\n",
    "    predictions = knn.predict(test_df[['accommodates', 'bathrooms']])\n",
    "\n",
    "The predict() method returns a NumPy array containing the predicted price values for the test set. You now have everything you need to practice the entire scikit-learn workflow.\n",
    "\n",
    "<b>Instructions</b><br>\n",
    "- Create an instance of the KNeighborsRegressor class with the following parameters:\n",
    "    - n_neighbors: 5\n",
    "    - algorithm: brute\n",
    "- Use the fit method to specify the data we want the k-nearest neighbor model to use. Use the following parameters:\n",
    "    - training data, feature columns: just the accommodates and bathrooms columns, in that order, from train_df.\n",
    "    - training data, target column: the price column from train_df.\n",
    "- Call the predict method to make predictions on:\n",
    "    - the accommodates and bathrooms columns from test_df\n",
    "    - assign the resulting NumPy array of predicted price values to predictions."
   ]
  },
  {
   "cell_type": "code",
   "execution_count": 28,
   "metadata": {},
   "outputs": [],
   "source": [
    "from sklearn.neighbors import KNeighborsRegressor"
   ]
  },
  {
   "cell_type": "code",
   "execution_count": 29,
   "metadata": {},
   "outputs": [],
   "source": [
    "train_rows = int(0.75 * dc_listings.shape[0])\n",
    "train_df = normalized_listings.iloc[:train_rows]\n",
    "test_df = normalized_listings.iloc[train_rows:]"
   ]
  },
  {
   "cell_type": "code",
   "execution_count": 30,
   "metadata": {},
   "outputs": [],
   "source": [
    "knr = KNeighborsRegressor(n_neighbors=5, algorithm='brute')\n",
    "knr.fit(train_df[['accommodates', 'bathrooms']], train_df['price'])\n",
    "predictions = knr.predict(test_df[['accommodates', 'bathrooms']])"
   ]
  },
  {
   "cell_type": "markdown",
   "metadata": {},
   "source": [
    "Earlier in this mission, we calculated the MSE and RMSE values using the pandas arithmetic operators to compare each predicted value with the actual value from the price column of our test set. Alternatively, we can instead use the sklearn.metrics.mean_squared_error function(). Once you become familiar with the different machine learning concepts, unifying your workflow using scikit-learn helps save you a lot of time and avoid mistakes.\n",
    "\n",
    "The mean_squared_error() function takes in 2 inputs:\n",
    "\n",
    "    -list-like object, representing the true values\n",
    "    -list-like object, representing the predicted values using the model\n",
    "\n",
    "For this function, we won't show any sample code and will leave it to you to understand the function from the documentation itself to calculate the MSE and RMSE values for the predictions we just made.\n",
    "\n",
    "<b>Instructions</b><br>\n",
    "- Use the mean_squared_error function to calculate the MSE value for the predictions we made in the previous screen.\n",
    "- Assign the MSE value to two_features_mse.\n",
    "- Calculate the RMSE value by taking the square root of the MSE value and assign to two_features_rmse.\n",
    "- Display both of these error scores using the print function."
   ]
  },
  {
   "cell_type": "code",
   "execution_count": 31,
   "metadata": {},
   "outputs": [],
   "source": [
    "from sklearn.metrics import mean_squared_error"
   ]
  },
  {
   "cell_type": "code",
   "execution_count": 32,
   "metadata": {},
   "outputs": [
    {
     "name": "stdout",
     "output_type": "stream",
     "text": [
      "Mean Squared Error: 14840.477167755991\n",
      "Root Mean Squared Error: 121.8214971495425\n"
     ]
    }
   ],
   "source": [
    "mse = mean_squared_error(test_df['price'], predictions)\n",
    "rmse = np.sqrt(mse)\n",
    "print('Mean Squared Error:', mse)\n",
    "print('Root Mean Squared Error:', rmse)"
   ]
  },
  {
   "cell_type": "markdown",
   "metadata": {},
   "source": [
    "Here's a table comparing the MSE and RMSE values for the 2 univariate models from the last mission and the multivariate model we just trained:\n",
    "\n",
    "<img src='knearest/fig7.jpg', height=162, width=370>\n",
    "\n",
    "As you can tell, the model we trained using both features ended up performing better (lower error score) than either of the univariate models from the last mission. Let's now train a model using the following 4 features:\n",
    "\n",
    "- accommodates\n",
    "- bedrooms\n",
    "- bathrooms\n",
    "- number_of_reviews\n",
    "\n",
    "Scikit-learn makes it incredibly easy to swap the columns used during training and testing. We're going to leave this for you as a challenge to train and test a k-nearest neighbors model using these columns instead. Use the code you wrote in the last screen as a guide.\n",
    "\n",
    "<b>Instructions</b><br>\n",
    "- Create a new instance of the KNeighborsRegressor class with the following parameters:\n",
    "    - n_neighbors: 5\n",
    "    - algorithm: brute\n",
    "- Fit a model that uses the following columns from our training set (train_df):\n",
    "    - accommodates\n",
    "    - bedrooms\n",
    "    - bathrooms\n",
    "    - number_of_reviews\n",
    "- Use the model to make predictions on the test set (test_df) using the same columns. Assign the NumPy array of predictions to four_predictions.\n",
    "- Use the mean_squared_error() function to calculate the MSE value for these predictions by comparing four_predictions with the price column from test_df. Assign the computed MSE value to four_mse.\n",
    "- Calculate the RMSE value and assign to four_rmse.\n",
    "- Display four_mse and four_rmse using the print function."
   ]
  },
  {
   "cell_type": "code",
   "execution_count": 33,
   "metadata": {},
   "outputs": [
    {
     "name": "stdout",
     "output_type": "stream",
     "text": [
      "Mean Squared Error: 13602.571764705881\n",
      "Root Mean Squared Error: 116.63006372589308\n"
     ]
    }
   ],
   "source": [
    "knr = KNeighborsRegressor(n_neighbors=5, algorithm='brute')\n",
    "\n",
    "knr.fit(train_df[['accommodates', 'bathrooms', 'bedrooms', 'number_of_reviews']], train_df['price'])\n",
    "predictions = knr.predict(test_df[['accommodates', 'bathrooms', 'bedrooms', 'number_of_reviews']])\n",
    "\n",
    "mse = mean_squared_error(test_df['price'], predictions)\n",
    "rmse = np.sqrt(mse)\n",
    "print('Mean Squared Error:', mse)\n",
    "print('Root Mean Squared Error:', rmse)"
   ]
  },
  {
   "cell_type": "markdown",
   "metadata": {},
   "source": [
    "So far so good! As we increased the features the model used, we observed lower MSE and RMSE values:\n",
    "\n",
    "<img src='knearest/fig8.jpg', height=218, width=600>\n",
    "\n",
    "Let's take this to the extreme and use all of the potential features. We should expect the error scores to decrease since so far adding more features has helped do so.\n",
    "\n",
    "<b>Instructions</b><br>\n",
    "- Use all of the columns, except for the price column, to train a k-nearest neighbors model using the same parameters for the KNeighborsRegressor class as the ones from the last few screens.\n",
    "- Use the model to make predictions on the test set and assign the resulting NumPy array of predictions to all_features_predictions.\n",
    "- Calculate the MSE and RMSE values and assign to all_features_mse and all_features_rmse accordingly.\n",
    "- Use the print function to display both error scores."
   ]
  },
  {
   "cell_type": "code",
   "execution_count": 34,
   "metadata": {},
   "outputs": [
    {
     "name": "stdout",
     "output_type": "stream",
     "text": [
      "Mean Squared Error: 15041.373594771241\n",
      "Root Mean Squared Error: 122.64327782137609\n"
     ]
    }
   ],
   "source": [
    "features = train_df.columns.drop('price')\n",
    "\n",
    "knr = KNeighborsRegressor(n_neighbors=5, algorithm='brute')\n",
    "\n",
    "knr.fit(train_df[features], train_df['price'])\n",
    "predictions = knr.predict(test_df[features])\n",
    "\n",
    "mse = mean_squared_error(test_df['price'], predictions)\n",
    "rmse = np.sqrt(mse)\n",
    "print('Mean Squared Error:', mse)\n",
    "print('Root Mean Squared Error:', rmse)"
   ]
  },
  {
   "cell_type": "markdown",
   "metadata": {},
   "source": [
    "Interestingly enough, the RMSE value actually increased to 124.3 when we used all of the features available to us. This means that selecting the right features is important and that using more features doesn't automatically improve prediction accuracy. We should re-phrase the lever we mentioned earlier from:\n",
    "\n",
    "- increase the number of attributes the model uses to calculate similarity when ranking the closest neighbors\n",
    "\n",
    "to:\n",
    "\n",
    "- select the relevant attributes the model uses to calculate similarity when ranking the closest neighbors\n",
    "\n",
    "The process of selecting features to use in a model is known as feature selection.\n",
    "\n",
    "In this mission, we prepared the data to be able to use more features, trained a few models using multiple features, and evaluated the different performance tradeoffs. We explored how using more features doesn't always improve the accuracy of a k-nearest neighbors model. In the next mission, we'll explore another knob for tuning k-nearest neighbor models - the k value."
   ]
  },
  {
   "cell_type": "markdown",
   "metadata": {},
   "source": [
    "# Hyperparameter Optimization"
   ]
  },
  {
   "cell_type": "markdown",
   "metadata": {},
   "source": [
    "In the last mission, we focused on increasing the number of attributes the model uses. We saw how, in general, adding more attributes generally lowered the error of the model. This is because the model is able to do a better job identifying the living spaces from the training set that are the most similar to the ones from the test set. However, we also observed how using all of the available features didn't actually improve the model's accuracy automatically and that some of the features were probably not relevant for similarity ranking. We learned that selecting relevant features was the right lever when improving a model's accuracy, not just increasing the features used in the absolute.\n",
    "\n",
    "In this mission, we'll focus on the impact of increasing k, the number of nearby neighbors the model uses to make predictions. We exported both the training (train_df) and test sets (test_df) from the last missions to CSV files, dc_airbnb_train.csv and dc_airbnb_test.csv respectively. Let's read both these CSV's into Dataframes.\n",
    "\n",
    "<b>Instructions</b><br>\n",
    "- Read dc_airbnb_train.csv into a Dataframe and assign to train_df.\n",
    "- Read dc_airbnb_test.csv into a Dataframe and assign to test_df."
   ]
  },
  {
   "cell_type": "code",
   "execution_count": 35,
   "metadata": {},
   "outputs": [],
   "source": [
    "# Use the same dfs as above (numbers will be different)"
   ]
  },
  {
   "cell_type": "markdown",
   "metadata": {},
   "source": [
    "When we vary the features that are used in the model, we're affecting the data that the model uses. On the other hand, varying the k value affects the behavior of the model independently of the actual data that's used when making predictions. In other words, we're impacting how the model performs without trying to change the data that's used.\n",
    "\n",
    "Values that affect the behavior and performance of a model that are unrelated to the data that's used are referred to as hyperparameters. The process of finding the optimal hyperparameter value is known as hyperparameter optimization. A simple but common hyperparameter optimization technique is known as grid search, which involves:\n",
    "\n",
    "- selecting a subset of the possible hyperparameter values,\n",
    "- training a model using each of these hyperparameter values,\n",
    "- evaluating each model's performance,\n",
    "- selecting the hyperparameter value that resulted in the lowest error value.\n",
    "\n",
    "Grid search essentially boils down to evaluating the model performance at different k values and selecting the k value that resulted in the lowest error. While grid search can take a long time when working with large datasets, the data we're working with in this mission is small and this process is relatively quick.\n",
    "\n",
    "Let's confirm that grid search will work quickly for the dataset we're working with by first observing how the model performance changes as we increase the k value from 1 to 5. If you recall, we set 5 as the k value for the last 2 missions. Let's use the features from the last mission that resulted in the best model accuracy:\n",
    "\n",
    "- accommodates\n",
    "- bedrooms\n",
    "- bathrooms\n",
    "- number_of_reviews\n",
    "\n",
    "<b>Instructions</b><br>\n",
    "- Create a list containing the integer values 1, 2, 3, 4, and 5, in that order, and assign to hyper_params.\n",
    "- Create an empty list and assign to mse_values.\n",
    "- Use a for loop to iterate over hyper_params and in each iteration:\n",
    "    - Instantiate a KNeighborsRegressor object with the following parameters:\n",
    "        - n_neighbors: the current value for the iterator variable,\n",
    "        - algorithm: brute\n",
    "    - Fit the instantiated k-nearest neighbors model to the following columns from train_df:\n",
    "        - accommodates\n",
    "        - bedrooms\n",
    "        - bathrooms\n",
    "        - number_of_reviews\n",
    "    - Use the trained model to make predictions on the same columns from test_df and assign to predictions.\n",
    "    - Use the mean_squared_error function to calculate the MSE value between predictions and the price column from test_df.\n",
    "    - Append the MSE value to mse_values.\n",
    "- Display mse_values using the print() function."
   ]
  },
  {
   "cell_type": "code",
   "execution_count": 36,
   "metadata": {},
   "outputs": [
    {
     "name": "stdout",
     "output_type": "stream",
     "text": [
      "[25759.187363834422, 14771.49537037037, 14270.824013556039, 16476.91489651416, 14088.38779956427]\n"
     ]
    }
   ],
   "source": [
    "features = ['accommodates', 'bedrooms', 'bathrooms', 'number_of_reviews']\n",
    "hyper_params = [1, 2, 3, 4, 5]\n",
    "mse_values = []\n",
    "\n",
    "for k in hyper_params:\n",
    "    knn = KNeighborsRegressor(n_neighbors=k, algorithm='brute')\n",
    "    knn.fit(train_df[features], train_df['price'])\n",
    "    prediction = knn.predict(test_df[features])\n",
    "    \n",
    "    mse_values.append(mean_squared_error(test_df['price'], prediction))\n",
    "\n",
    "print(mse_values)"
   ]
  },
  {
   "cell_type": "code",
   "execution_count": null,
   "metadata": {},
   "outputs": [],
   "source": [
    "from sklearn.model_selection import GridSearchCV"
   ]
  },
  {
   "cell_type": "code",
   "execution_count": null,
   "metadata": {},
   "outputs": [],
   "source": [
    "hyperparameters = {'n_neighbors': list(range(1, 100)),\n",
    "                  'algorithm': ['brute', 'auto']}\n",
    "\n",
    "knn = KNeighborsRegressor()\n",
    "grid = GridSearchCV(knn, param_grid=hyperparameters)\n",
    "grid.fit(train_df[features], train_df['price'])\n",
    "\n",
    "print(grid.best_estimator_)"
   ]
  },
  {
   "cell_type": "markdown",
   "metadata": {},
   "source": [
    "Since our dataset is small and scikit-learn has been developed with performance in mind, the code ran quickly. As we increased the k value from 1 to 5, the MSE value fell from approximately 26364 to approximately 14090:\n",
    "\n",
    "Let's expand grid search all the way to a k value of 20. While 20 may seem like an arbitrary ending point for our grid search, we can always expand the values we try if we're unconvinced that the lowest MSE value is associated with one of the hyperparamter values we tried so far.\n",
    "\n",
    "<b>Instructions</b><br>\n",
    "- Change the list of hyperparameter values, hyper_params, so it ranges from 1 to 20.\n",
    "- Create an empty list and assign to mse_values.\n",
    "- Use a for loop to iterate over hyper_params and in each iteration:\n",
    "    - Instantiate a KNeighborsRegressor object with the following parameters:\n",
    "        - n_neighbors: the current value for the iterator variable,\n",
    "        - algorithm: brute\n",
    "    - Fit the instantiated k-nearest neighbors model to the following columns from train_df:\n",
    "        - accommodates\n",
    "        - bedrooms\n",
    "        - bathrooms\n",
    "        - number_of_reviews\n",
    "    - Use the trained model to make predictions on the same columns from test_df and assign to predictions.\n",
    "    - Use the mean_squared_error function to calculate the MSE value between predictions and the price column from test_df.\n",
    "    - Append the MSE value to mse_values.\n",
    "- Display mse_values using the print() function."
   ]
  },
  {
   "cell_type": "code",
   "execution_count": null,
   "metadata": {},
   "outputs": [],
   "source": [
    "hyper_params = list(range(1, 21))\n",
    "mse_values = []\n",
    "\n",
    "for k in hyper_params:\n",
    "    knn = KNeighborsRegressor(n_neighbors=k, algorithm='brute')\n",
    "    knn.fit(train_df[features], train_df['price'])\n",
    "    prediction = knn.predict(test_df[features])\n",
    "    \n",
    "    mse_values.append(mean_squared_error(test_df['price'], prediction))\n",
    "\n",
    "print(mse_values)"
   ]
  },
  {
   "cell_type": "markdown",
   "metadata": {},
   "source": [
    "As we increased the k value from 1 to 6, the MSE value decreased from approximately 26364 to approximately 13657. However, as we increased the k value from 7 to 20, the MSE value didn't decrease further but instead hovered between approximately 14288 and 14870. This means that the optimal k value is 6, since it resulted in the lowest MSE value.\n",
    "\n",
    "This pattern is something you'll notice while performing grid search across other models as well. As you increase k at first, the error rate decreases until a certain point, but then rebounds and increases again. Let's confirm this behavior visually using a scatter plot.\n",
    "\n",
    "<b>Instructions</b>\n",
    "- Use the scatter() method from matplotlib.pyplot to generate a line plot with:\n",
    "    - hyper_params on the x-axis,\n",
    "    - mse_values on the y-axis.\n",
    "- Use plt.show() to display the line plot."
   ]
  },
  {
   "cell_type": "code",
   "execution_count": null,
   "metadata": {},
   "outputs": [],
   "source": [
    "import matplotlib.pyplot as plt\n",
    "import seaborn as sns\n",
    "%matplotlib inline\n",
    "sns.set_style('darkgrid')"
   ]
  },
  {
   "cell_type": "code",
   "execution_count": null,
   "metadata": {},
   "outputs": [],
   "source": [
    "plt.scatter(hyper_params, mse_values)"
   ]
  },
  {
   "cell_type": "markdown",
   "metadata": {},
   "source": [
    "From the scatter plot, you can tell that the lowest MSE value was achieved at the k value of 6. As we increased k past 6, the MSE actually increased and hovered but never decreased below 13657 (the approximate MSE value when k was 6).\n",
    "\n",
    "Since varying the k value decreased the MSE value for this model, you may be wondering if repeating the grid search process for one of the models from the last mission that performed poorly when we fixed k to 5 would result in a lower MSE value. Let's try it out!\n",
    "\n",
    "<b>Instructions</b>\n",
    "- Use a for loop to iterate over hyper_params and in each iteration:\n",
    "    - Instantiate a KNeighborsRegressor object with the following parameters:\n",
    "        - n_neighbors: the current value for the iterator variable,\n",
    "        - algorithm: brute\n",
    "    - Fit the instantiated k-nearest neighbors model to all of the columns, except for the price column, from train_df\n",
    "    - Use the trained model to make predictions on the same columns from test_df and assign to predictions.\n",
    "    - Use the mean_squared_error function to calculate the MSE value between predictions and the price column from test_df.\n",
    "    - Append the MSE value to mse_values.\n",
    "- Use the scatter() method from matplotlib.pyplot to generate a line plot with:\n",
    "    - hyper_params on the x-axis,\n",
    "    - mse_values on the y-axis.\n",
    "- Use plt.show() to display the line plot."
   ]
  },
  {
   "cell_type": "code",
   "execution_count": null,
   "metadata": {},
   "outputs": [],
   "source": [
    "features = train_df.columns.drop('price')\n",
    "hyper_params = list(range(1, 21))\n",
    "mse_values = []\n",
    "\n",
    "for k in hyper_params:\n",
    "    knn = KNeighborsRegressor(n_neighbors=k, algorithm='brute')\n",
    "    knn.fit(train_df[features], train_df['price'])\n",
    "    prediction = knn.predict(test_df[features])\n",
    "    \n",
    "    mse_values.append(mean_squared_error(test_df['price'], prediction))\n",
    "\n",
    "plt.scatter(hyper_params, mse_values)"
   ]
  },
  {
   "cell_type": "markdown",
   "metadata": {},
   "source": [
    "You may have noticed that the general workflow for finding the best model is:\n",
    "\n",
    "- select relevant features to use for predicting the target column.\n",
    "- use grid search to find the optimal hyperparameter value for the selected features.\n",
    "- evaluate the model's accuracy and repeat the process.\n",
    "\n",
    "Let's now practice this workflow.\n",
    "\n",
    "<b>Instructions</b><br>\n",
    "- While using only the accommodates and bathrooms columns:\n",
    "    - Train a model for each k value between 1 and 20 using the training data.\n",
    "    - Use each model to make predictions on the test set (using just the accommodates and bathrooms columns).\n",
    "    - Calculate each model's MSE value by comparing each set of predictions to the true price values.\n",
    "    - Find the k value that obtained the lowest MSE value.\n",
    "    - Create a dictionary named two_hyp_mse that contains 1 key-value pair:\n",
    "        - key: k value that resulted in lowest MSE value.\n",
    "        - value: corresponding MSE value.\n",
    "- Repeat this process while using only the accommodates, bathrooms, and bedrooms columns:\n",
    "    - Create a dictionary named three_hyp_mse that contains 1 key-value pair:\n",
    "        - key: k value that resulted in lowest MSE value.\n",
    "        - value: corresponding MSE value.\n",
    "- Display both two_hyp_mse and three_hyp_mse using the print() function."
   ]
  },
  {
   "cell_type": "code",
   "execution_count": null,
   "metadata": {},
   "outputs": [],
   "source": [
    "two_features = ['accommodates', 'bathrooms']\n",
    "three_features = ['accommodates', 'bathrooms', 'bedrooms']\n",
    "hyper_params = range(1, 21)\n",
    "two_mse_values = []\n",
    "three_mse_values = []\n",
    "two_hyp_mse = {}\n",
    "three_hyp_mse = {}\n",
    "\n",
    "for k in hyper_params:\n",
    "    knn = KNeighborsRegressor(n_neighbors=k, algorithm='brute')\n",
    "    knn.fit(train_df[two_features], train_df['price'])\n",
    "    prediction = knn.predict(test_df[two_features])\n",
    "    \n",
    "    two_mse_values.append(mean_squared_error(test_df['price'], prediction))\n",
    "    \n",
    "for k in hyper_params:\n",
    "    knn = KNeighborsRegressor(n_neighbors=k, algorithm='brute')\n",
    "    knn.fit(train_df[three_features], train_df['price'])\n",
    "    prediction = knn.predict(test_df[three_features])\n",
    "    \n",
    "    three_mse_values.append(mean_squared_error(test_df['price'], prediction))\n",
    "    \n",
    "two_hyp_mse = {two_mse_values.index(min(two_mse_values)) + 1: min(two_mse_values)}\n",
    "three_hyp_mse = {three_mse_values.index(min(three_mse_values)) + 1: min(three_mse_values)}\n",
    "\n",
    "print('MSE (two features):', two_hyp_mse)\n",
    "print('MSE (three features):', three_hyp_mse)"
   ]
  },
  {
   "cell_type": "markdown",
   "metadata": {},
   "source": [
    "The first model, which used the accommodates and bathrooms columns, was able to achieve an MSE value of approximately 14790. The second model, which added the bedrooms column, was able to achieve an MSE value of approximately 13522.9, which is even lower than the lowest MSE value we achieved using the best model from the last mission (which used the accommodates, bedrooms, bathrooms, and number_of_reviews columns). Hopefully this demonstrates that using just one lever to find the best model isn't enough and you really want to use both levers in conjunction.\n",
    "\n",
    "In this mission, we learned about hyperparameter optimization and the workflow of finding the optimal model to make predictions. Next in this course is a challenge, where you'll practice the concepts you've learned so far on a completely new dataset."
   ]
  },
  {
   "cell_type": "markdown",
   "metadata": {},
   "source": [
    "# Cross Validation"
   ]
  },
  {
   "cell_type": "markdown",
   "metadata": {},
   "source": [
    "In an earlier mission, we learned about train/test validation, a simple technique for testing a machine learning model's accuracy on new data that the model wasn't trained on. In this mission, we'll focus on more robust techniques.\n",
    "\n",
    "To start, we'll focus on the holdout validation technique, which involves:\n",
    "- splitting the full dataset into 2 partitions:\n",
    "    - a training set\n",
    "    - a test set\n",
    "- training the model on the training set,\n",
    "- using the trained model to predict labels on the test set,\n",
    "- computing an error metric to understand the model's effectiveness,\n",
    "- switch the training and test sets and repeat,\n",
    "- average the errors.\n",
    "- In holdout validation, we usually use a 50/50 split instead of the 75/25 split from train/test validation. This way, we remove number of observations as a potential source of variation in our model performance.\n",
    "\n",
    "<img src='knearest/fig9.png', height=500, width=500>\n",
    "\n",
    "Let's start by splitting the data set into 2 nearly equivalent halves.\n",
    "\n",
    "<b>Instructions</b><br>\n",
    "- Use the numpy.random.permutation() function to shuffle the ordering of the rows in dc_listings.\n",
    "- Select the first 1862 rows and assign to split_one.\n",
    "- Select the remaining 1861 rows and assign to split_two."
   ]
  },
  {
   "cell_type": "code",
   "execution_count": null,
   "metadata": {},
   "outputs": [],
   "source": [
    "dc_listings = prepare_df(shuffle=True)\n",
    "split_one = dc_listings.iloc[:1862]\n",
    "split_two = dc_listings.iloc[1862:]"
   ]
  },
  {
   "cell_type": "markdown",
   "metadata": {},
   "source": [
    "Now that we've split our data set into 2 dataframes, let's:\n",
    "\n",
    "- train a k-nearest neighbors model on the first half,\n",
    "- test this model on the second half,\n",
    "- train a k-nearest neighbors model on the second half,\n",
    "- test this model on the first half.\n",
    "\n",
    "<b>Instructions</b><br>\n",
    "- Train a k-nearest neighbors model using the default algorithm (auto) and the default number of neighbors (5) that:\n",
    "    - Uses the accommodates column from train_one for training and\n",
    "    - Tests it on test_one.\n",
    "- Assign the resulting RMSE value to iteration_one_rmse.\n",
    "- Train a k-nearest neighbors model using the default algorithm (auto) and the default number of neighbors (5) that:\n",
    "    - Uses the accommodates column from train_two for training and\n",
    "    - Tests it on test_two.\n",
    "- Assign the resulting RMSE value to iteration_two_rmse.\n",
    "- Use numpy.mean() to calculate the average of the 2 RMSE values and assign to avg_rmse."
   ]
  },
  {
   "cell_type": "code",
   "execution_count": null,
   "metadata": {},
   "outputs": [],
   "source": [
    "knn = KNeighborsRegressor()\n",
    "knn.fit(split_one[['accommodates']], split_one['price'])\n",
    "prediction = knn.predict(split_two[['accommodates']])\n",
    "iteration_one_rmse = np.sqrt(mean_squared_error(split_two['price'], prediction))\n",
    "\n",
    "knn = KNeighborsRegressor()\n",
    "knn.fit(split_two[['accommodates']], split_two['price'])\n",
    "prediction = knn.predict(split_one[['accommodates']])\n",
    "iteration_two_rmse = np.sqrt(mean_squared_error(split_one['price'], prediction))\n",
    "\n",
    "avg_rmse = np.mean([iteration_one_rmse, iteration_two_rmse])\n",
    "print('Average RMSE:', avg_rmse)"
   ]
  },
  {
   "cell_type": "markdown",
   "metadata": {},
   "source": [
    "If we average the two RMSE values from the last step, we get an RMSE value of approximately 128.96. Holdout validation is actually a specific example of a larger class of validation techniques called k-fold cross-validation. While holdout validation is better than train/test validation because the model isn't repeatedly biased towards a specific subset of the data, both models that are trained only use half the available data. K-fold cross validation, on the other hand, takes advantage of a larger proportion of the data during training while still rotating through different subsets of the data to avoid the issues of train/test validation.\n",
    "\n",
    "Here's the algorithm from k-fold cross validation:\n",
    "\n",
    "- splitting the full dataset into k equal length partitions,\n",
    "    - selecting k-1 partitions as the training set and\n",
    "    - selecting the remaining partition as the test set\n",
    "- training the model on the training set,\n",
    "- using the trained model to predict labels on the test fold,\n",
    "- computing the test fold's error metric,\n",
    "- repeating all of the above steps k-1 times, until each partition has been used as the test set for an iteration,\n",
    "- calculating the mean of the k error values.\n",
    "\n",
    "Holdout validation is essentially a version of k-fold cross validation when k is equal to 2. Generally, 5 or 10 folds is used for k-fold cross-validation. Here's a diagram describing each iteration of 5-fold cross validation:\n",
    "\n",
    "<img src='knearest/fig10.png', height=300, width=500>\n",
    "\n",
    "As you increase the number the folds, the number of observations in each fold decreases and the variance of the fold-by-fold errors increases. Let's start by manually partitioning the data set into 5 folds. Instead of splitting into 5 dataframes, let's add a column that specifies which fold the row belongs to. This way, we can easily select\n",
    "\n",
    "<b>Instructions</b>\n",
    "- Add a new column to dc_listings named fold that contains the fold number each row belongs to:\n",
    "    - Fold 1 should have rows from index 0 to 744, including both of those rows.\n",
    "    - Fold 2 should have rows from index 744 to 1488, including both of those rows.\n",
    "    - Fold 3 should have rows from index 1488 to 2232, including both of those rows.\n",
    "    - Fold 4 should have rows from index 2232 to 2976, including both of those rows.\n",
    "    - Fold 5 should have rows from index 2976 to 3723, including both of these rows.\n",
    "- Display the unique value counts for the fold column to confirm that each fold has roughly the same number of elements."
   ]
  },
  {
   "cell_type": "code",
   "execution_count": null,
   "metadata": {
    "scrolled": false
   },
   "outputs": [],
   "source": [
    "dc_listings.at[dc_listings.index[0:744], \"fold\"] = 1\n",
    "dc_listings.at[dc_listings.index[744:1488], \"fold\"] = 2\n",
    "dc_listings.at[dc_listings.index[1488:2232], \"fold\"] = 3\n",
    "dc_listings.at[dc_listings.index[2232:2976], \"fold\"] = 4\n",
    "dc_listings.at[dc_listings.index[2976:3723], \"fold\"] = 5\n",
    "\n",
    "dc_listings['fold'].value_counts()"
   ]
  },
  {
   "cell_type": "markdown",
   "metadata": {},
   "source": [
    "Let's start by performing the first iteration of k-fold cross validation on a simple, univariate model.\n",
    "\n",
    "<b>Instructions</b><br>\n",
    "- Train a k-nearest neighbors model using the accommodates column as the sole feature from folds 2 to 5 as the training set.\n",
    "- Use the model to make predictions on the test set (accommodates column from fold 1) and assign the predicted labels to labels.\n",
    "- Calculate the RMSE value by comparing the price column with the predicted labels.\n",
    "- Assign the RMSE value to iteration_one_rmse."
   ]
  },
  {
   "cell_type": "code",
   "execution_count": null,
   "metadata": {},
   "outputs": [],
   "source": [
    "train_df = dc_listings[dc_listings['fold'] != 1]\n",
    "test_df = dc_listings[dc_listings['fold'] == 1]\n",
    "\n",
    "knn = KNeighborsRegressor()\n",
    "knn.fit(train_df[['accommodates']], train_df['price'])\n",
    "prediction = knn.predict(test_df[['accommodates']])\n",
    "iteration_one_rmse = np.sqrt(mean_squared_error(test_df['price'], prediction))\n",
    "print('RMSE:', iteration_one_rmse)"
   ]
  },
  {
   "cell_type": "markdown",
   "metadata": {},
   "source": [
    "From the first iteration, we achieved an RMSE value of 105.1. Let's calculate the RMSE values for the remaining iterations. To make the iteration process easier, let's wrap the code we wrote in the previous screen in a function.\n",
    "\n",
    "<b>Instructions</b>\n",
    "- Write a function named train_and_validate that takes in a dataframe as the first parameter (df) and a list of fold values (1 to 5 in our case) as the second parameter (folds). This function should:\n",
    "    - Train n models (where n is number of folds) and perform k-fold cross validation (using n folds). Use the default k value for the KNeighborsRegressor class.\n",
    "    - Return a list of RMSE values, where the first element is the RMSE for when fold 1 was the test set, the second element is the RMSE for when fold 2 was the test set, and so on.\n",
    "- Use the train_and_validate function to return the list of RMSE values for the dc_listings Dataframe and assign to rmses.\n",
    "- Calculate the mean of these values and assign to avg_rmse.\n",
    "- Display both rmses and avg_rmse."
   ]
  },
  {
   "cell_type": "code",
   "execution_count": null,
   "metadata": {},
   "outputs": [],
   "source": [
    "def train_and_validate(df, fold_ids):\n",
    "    \n",
    "    rmses = []\n",
    "    \n",
    "    for fold_id in fold_ids:\n",
    "        train_df = df[df['fold'] != fold_id]\n",
    "        test_df = df[df['fold'] == fold_id]\n",
    "        \n",
    "        knn = KNeighborsRegressor()\n",
    "        knn.fit(train_df[['accommodates']], train_df['price'])\n",
    "        prediction = knn.predict(test_df[['accommodates']])\n",
    "        rmse = np.sqrt(mean_squared_error(test_df['price'], prediction))\n",
    "        rmses.append(rmse)\n",
    "    \n",
    "    return rmses"
   ]
  },
  {
   "cell_type": "code",
   "execution_count": null,
   "metadata": {},
   "outputs": [],
   "source": [
    "fold_ids = [1, 2, 3, 4, 5]\n",
    "rmses = train_and_validate(dc_listings, fold_ids)\n",
    "avg_rmse = np.mean(rmses)\n",
    "print(rmses, avg_rmse)"
   ]
  },
  {
   "cell_type": "markdown",
   "metadata": {},
   "source": [
    "While the average RMSE value was approximately 135.67, the RMSE values ranged from 105.06 all the way to 171.40. This large amount of variability between the RMSE values means that we're either using a poor model or a poor evaluation criteria (or a bit of both!). By implementing your own k-fold cross-validation function, you hopefully acquired a good understanding of the inner workings of the technique. The function we wrote, however, has many limitations. If we want to now change the number of folds we want to use, we need to make the function more general so it can also handle randomizing the ordering of the rows in the dataframe and splitting into folds.\n",
    "\n",
    "In machine learning, we're interested in building a good model and accurately understanding how well it will perform. To build a better k-nearest neighbors model, we can change the features it uses or tweak the number of neighbors (a hyperparameter). To accurately understand a model's performance, we can perform k-fold cross validation and select the proper number of folds. We've learned how scikit-learn makes it easy for us to quickly experiment with these different knobs when it comes to building a better model. Let's now dive into how we can use scikit-learn to handle cross-validation as well.\n",
    "\n",
    "First, we instantiate an instance of the KFold class from sklearn.model_selection:\n",
    "\n",
    "    from sklearn.model_selection import KFold\n",
    "    kf = KFold(n_splits, shuffle=False, random_state=None)\n",
    "where:\n",
    "\n",
    "- n_splits is the number of folds you want to use,\n",
    "- shuffle is used to toggle shuffling of the ordering of the observations in the dataset,\n",
    "- random_state is used to specify the random seed value if shuffle is set to True.\n",
    "\n",
    "You'll notice here that no parameters depend on the data set at all. This is because the KFold class returns an iterator object which we use in conjunction with the cross_val_score() function, also from sklearn.model_selection. Together, these 2 functions allow us to compactly train and test using k-fold cross validation:\n",
    "\n",
    "Here are the relevant parameters for the cross_val_score function:\n",
    "\n",
    "    from sklearn.model_selection import cross_val_score\n",
    "    cross_val_score(estimator, X, Y, scoring=None, cv=None)\n",
    "\n",
    "where:\n",
    "\n",
    "- estimator is a sklearn model that implements the fit method (e.g. instance of KNeighborsRegressor),\n",
    "- X is the list or 2D array containing the features you want to train on,\n",
    "- y is a list containing the values you want to predict (target column),\n",
    "- scoring is a string describing the scoring criteria (list of accepted values here).\n",
    "- cv describes the number of folds. Here are some examples of accepted values:\n",
    "    - an instance of the KFold class,\n",
    "    - an integer representing the number of folds.\n",
    "\n",
    "Depending on the scoring criteria you specify, either a single total value is returned one value for each fold. Here's the general workflow for performing k-fold cross-validation using the classes we just described:\n",
    "\n",
    "- instantiate the scikit-learn model class you want to fit,\n",
    "- instantiate the KFold class and using the parameters to specify the k-fold cross-validation attributes you want,\n",
    "- use the cross_val_score() function to return the scoring metric you're interested in.\n",
    "\n",
    "<b>Instructions</b>\n",
    "- Create a new instance of the KFold class with the following properties:\n",
    "    - 5 folds,\n",
    "    - shuffle set to True,\n",
    "    - random seed set to 1 (so we can answer check using the same seed),\n",
    "    - assigned to the variable kf.\n",
    "- Create a new instance of the KNeighborsRegressor class and assign to knn.\n",
    "- Use the cross_val_score() function to perform k-fold cross-validation:\n",
    "    - using the KNeighborsRegressor instance knn,\n",
    "    - using the accommodates column for training,\n",
    "    - using the price column as the target column,\n",
    "    - returning an array of MSE values (one value for each fold).\n",
    "- Assign the resulting list of MSE values to mses. Then, take the absolute value followed by the square root of each mse value. Then, calculate the average of the resulting RMSE values and assign to avg_rmse."
   ]
  },
  {
   "cell_type": "code",
   "execution_count": null,
   "metadata": {},
   "outputs": [],
   "source": [
    "from sklearn.model_selection import cross_val_score, KFold"
   ]
  },
  {
   "cell_type": "code",
   "execution_count": null,
   "metadata": {},
   "outputs": [],
   "source": [
    "dc_listings = prepare_df(shuffle=True)\n",
    "\n",
    "cols_to_drop = ['room_type', 'city', 'state', \n",
    "                'latitude', 'longitude', 'zipcode', \n",
    "                'host_response_rate', 'host_acceptance_rate', 'host_listings_count']\n",
    "dc_listings.drop(cols_to_drop, axis=1, inplace=True)\n",
    "dc_listings.drop(['cleaning_fee', 'security_deposit'], axis=1, inplace=True)\n",
    "dc_listings.dropna(axis=0, inplace=True)\n",
    "\n",
    "scaler = StandardScaler()\n",
    "normalized_listings = scaler.fit_transform(dc_listings)\n",
    "normalized_listings = pd.DataFrame(normalized_listings, index=dc_listings.index, columns=dc_listings.columns)\n",
    "normalized_listings['price'] = dc_listings['price']\n",
    "dc_listings = normalized_listings"
   ]
  },
  {
   "cell_type": "code",
   "execution_count": null,
   "metadata": {},
   "outputs": [],
   "source": [
    "kf = KFold(n_splits=5, shuffle=True, random_state=1)\n",
    "knn = KNeighborsRegressor()\n",
    "mses = cross_val_score(knn, dc_listings[['accommodates']], dc_listings['price'], scoring='neg_mean_squared_error', cv=kf)\n",
    "avg_rmse = np.sqrt(np.mean(np.abs(mses)))\n",
    "print('Average RMSE (k=5):', avg_rmse)"
   ]
  },
  {
   "cell_type": "markdown",
   "metadata": {},
   "source": [
    "Choosing the right k value when performing k-fold cross validation is more of an art and less of a science. As we discussed earlier in the mission, a k value of 2 is really just holdout validation. On the other end, setting k equal to n (the number of observations in the data set) is known as leave-one-out cross validation, or LOOCV for short. Through lots of trial and error, data scientists have converged on 10 as the standard k value.\n",
    "\n",
    "In the following code block, we display the results of varying k from 3 to 23. For each k value, we calculate and display the average RMSE value across all of the folds and the standard deviation of the RMSE values. Across the many different k values, it seems like the average RMSE value is around 128. You'll notice that the standard deviation of the RMSE increases from approximately 1.1 to 37.3 as we increase the number the folds."
   ]
  },
  {
   "cell_type": "code",
   "execution_count": null,
   "metadata": {},
   "outputs": [],
   "source": [
    "num_folds = [3, 5, 7, 9, 10, 11, 13, 15, 17, 19, 21, 23]\n",
    "\n",
    "print('ONE FEATURE MODEL')\n",
    "for fold in num_folds:\n",
    "    kf = KFold(fold, shuffle=True, random_state=1)\n",
    "    model = KNeighborsRegressor()\n",
    "    mses = cross_val_score(model, dc_listings[[\"accommodates\"]], dc_listings[\"price\"], scoring=\"neg_mean_squared_error\", cv=kf)\n",
    "    rmses = np.sqrt(np.absolute(mses))\n",
    "    avg_rmse = np.mean(rmses)\n",
    "    std_rmse = np.std(rmses)\n",
    "    print('k =', str(fold), \"\\tAverage RMSE:\", str(avg_rmse), \"\\tStd RMSE:\", str(std_rmse))\n",
    "    \n",
    "print('\\nTWO FEATURE MODEL')\n",
    "for fold in num_folds:\n",
    "    kf = KFold(fold, shuffle=True, random_state=1)\n",
    "    model = KNeighborsRegressor()\n",
    "    mses = cross_val_score(model, dc_listings[[\"accommodates\", 'bedrooms']], dc_listings[\"price\"], scoring=\"neg_mean_squared_error\", cv=kf)\n",
    "    rmses = np.sqrt(np.absolute(mses))\n",
    "    avg_rmse = np.mean(rmses)\n",
    "    std_rmse = np.std(rmses)\n",
    "    print('k =', str(fold), \"\\tAverage RMSE:\", str(avg_rmse), \"\\tStd RMSE:\", str(std_rmse))\n",
    "    \n",
    "print('\\nTHREE FEATURE MODEL')\n",
    "for fold in num_folds:\n",
    "    kf = KFold(fold, shuffle=True, random_state=1)\n",
    "    model = KNeighborsRegressor()\n",
    "    mses = cross_val_score(model, dc_listings[[\"accommodates\", 'bedrooms', 'bathrooms']], dc_listings[\"price\"], scoring=\"neg_mean_squared_error\", cv=kf)\n",
    "    rmses = np.sqrt(np.absolute(mses))\n",
    "    avg_rmse = np.mean(rmses)\n",
    "    std_rmse = np.std(rmses)\n",
    "    print('k =', str(fold), \"\\tAverage RMSE:\", str(avg_rmse), \"\\tStd RMSE:\", str(std_rmse))\n",
    "    \n",
    "print('\\nFOUR FEATURE MODEL')\n",
    "for fold in num_folds:\n",
    "    kf = KFold(fold, shuffle=True, random_state=1)\n",
    "    model = KNeighborsRegressor()\n",
    "    mses = cross_val_score(model, dc_listings[[\"accommodates\", 'bedrooms', 'bathrooms', 'number_of_reviews']], dc_listings[\"price\"], scoring=\"neg_mean_squared_error\", cv=kf)\n",
    "    rmses = np.sqrt(np.absolute(mses))\n",
    "    avg_rmse = np.mean(rmses)\n",
    "    std_rmse = np.std(rmses)\n",
    "    print('k =', str(fold), \"\\tAverage RMSE:\", str(avg_rmse), \"\\tStd RMSE:\", str(std_rmse))"
   ]
  },
  {
   "cell_type": "markdown",
   "metadata": {},
   "source": [
    "So far, we've been working under the assumption that a lower RMSE always means that a model is more accurate. This isn't the complete picture, unfortunately. A model has two sources of error, bias and variance.\n",
    "\n",
    "Bias describes error that results in bad assumptions about the learning algorithm. For example, assuming that only one feature, like a car's weight, relates to a car's fuel efficiency will lead you to fit a simple, univariate regression model that will result in high bias. The error rate will be high since a car's fuel efficiency is affected by many other factors besides just its weight.\n",
    "\n",
    "Variance describes error that occurs because of the variability of a model's predicted values. If we were given a dataset with 1000 features on each car and used every single feature to train an incredibly complicated multivariate regression model, we will have low bias but high variance. In an ideal world, we want low bias and low variance but in reality, there's always a tradeoff.\n",
    "\n",
    "The standard deviation of the RMSE values can be a proxy for a model's variance while the average RMSE is a proxy for a model's bias. Bias and variance are the 2 observable sources of error in a model that we can indirectly control.\n",
    "\n",
    "<img src='knearest/fig11.png'>\n",
    "\n",
    "While k-nearest neighbors can make predictions, it isn't a mathematical model. A mathematical model is usually an equation that can exist without the original data, which isn't true with k-nearest neighbors. In the next two courses, we'll learn about a mathematical model called linear regression. We'll explore the bias-variance tradeoff in greater depth in these next 2 courses because of its importance when working with mathematical models in particular."
   ]
  },
  {
   "cell_type": "code",
   "execution_count": null,
   "metadata": {},
   "outputs": [],
   "source": [
    "dc_listings['number_of_reviews'].isnull().sum()"
   ]
  },
  {
   "cell_type": "code",
   "execution_count": null,
   "metadata": {},
   "outputs": [],
   "source": []
  }
 ],
 "metadata": {
  "kernelspec": {
   "display_name": "Python 3",
   "language": "python",
   "name": "python3"
  },
  "language_info": {
   "codemirror_mode": {
    "name": "ipython",
    "version": 3
   },
   "file_extension": ".py",
   "mimetype": "text/x-python",
   "name": "python",
   "nbconvert_exporter": "python",
   "pygments_lexer": "ipython3",
   "version": "3.6.3"
  }
 },
 "nbformat": 4,
 "nbformat_minor": 2
}
