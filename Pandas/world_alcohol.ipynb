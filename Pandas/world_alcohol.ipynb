{
 "cells": [
  {
   "cell_type": "code",
   "execution_count": 1,
   "metadata": {
    "collapsed": true
   },
   "outputs": [],
   "source": [
    "import numpy as np\n",
    "import pandas as pd\n",
    "from pandas import Series, DataFrame"
   ]
  },
  {
   "cell_type": "code",
   "execution_count": 2,
   "metadata": {},
   "outputs": [],
   "source": [
    "vector = np.array([10, 20, 30]).reshape(1, 3)\n",
    "matrix = np.array([[5, 10, 15], [20, 25, 30], [35, 40, 45]])"
   ]
  },
  {
   "cell_type": "code",
   "execution_count": 3,
   "metadata": {},
   "outputs": [
    {
     "name": "stdout",
     "output_type": "stream",
     "text": [
      "(1, 3)\n(3, 3)\n"
     ]
    }
   ],
   "source": [
    "vector_shape = vector.shape\n",
    "matrix_shape = matrix.shape\n",
    "print(vector_shape)\n",
    "print(matrix_shape)"
   ]
  },
  {
   "cell_type": "code",
   "execution_count": 4,
   "metadata": {},
   "outputs": [],
   "source": [
    "world_alcohol = np.genfromtxt(\"Dataquest/Pandas/world_alcohol.csv\", delimiter=\",\")"
   ]
  },
  {
   "cell_type": "code",
   "execution_count": 5,
   "metadata": {},
   "outputs": [
    {
     "data": {
      "text/plain": [
       "numpy.ndarray"
      ]
     },
     "execution_count": 5,
     "metadata": {},
     "output_type": "execute_result"
    }
   ],
   "source": [
    "type(world_alcohol)"
   ]
  },
  {
   "cell_type": "code",
   "execution_count": 6,
   "metadata": {},
   "outputs": [
    {
     "name": "stdout",
     "output_type": "stream",
     "text": [
      "float64\n"
     ]
    }
   ],
   "source": [
    "world_alcohol_dtype = world_alcohol.dtype\n",
    "print(world_alcohol_dtype)"
   ]
  },
  {
   "cell_type": "code",
   "execution_count": 7,
   "metadata": {},
   "outputs": [
    {
     "name": "stdout",
     "output_type": "stream",
     "text": [
      "[['1986' 'Western Pacific' 'Viet Nam' 'Wine' '0']\n ['1986' 'Americas' 'Uruguay' 'Other' '0.5']\n ['1985' 'Africa' \"Cte d'Ivoire\" 'Wine' '1.62']\n ..., \n ['1986' 'Europe' 'Switzerland' 'Spirits' '2.54']\n ['1987' 'Western Pacific' 'Papua New Guinea' 'Other' '0']\n ['1986' 'Africa' 'Swaziland' 'Other' '5.15']]\n"
     ]
    }
   ],
   "source": [
    "world_alcohol = np.genfromtxt(\"Dataquest/Pandas/world_alcohol.csv\", delimiter=\",\", dtype='U75', skip_header=True)\n",
    "print(world_alcohol)"
   ]
  },
  {
   "cell_type": "code",
   "execution_count": 8,
   "metadata": {},
   "outputs": [],
   "source": [
    "uruguay_other_1986 = world_alcohol[1, 4]\n",
    "third_country = world_alcohol[: 2]"
   ]
  },
  {
   "cell_type": "code",
   "execution_count": 9,
   "metadata": {},
   "outputs": [],
   "source": [
    "countries = world_alcohol[:, 2]\n",
    "alcohol_consumption = world_alcohol[:, 4]"
   ]
  },
  {
   "cell_type": "code",
   "execution_count": 10,
   "metadata": {},
   "outputs": [],
   "source": [
    "first_two_columns = world_alcohol[:, 0:2]\n",
    "first_ten_years = world_alcohol[:10, 0]\n",
    "first_ten_rows = world_alcohol[:10, :]"
   ]
  },
  {
   "cell_type": "code",
   "execution_count": 11,
   "metadata": {},
   "outputs": [],
   "source": [
    "first_twenty_regions = world_alcohol[:20, 1:3]"
   ]
  },
  {
   "cell_type": "code",
   "execution_count": 12,
   "metadata": {},
   "outputs": [],
   "source": [
    "counties_canada = (world_alcohol[:, 2] == 'Canada')"
   ]
  },
  {
   "cell_type": "code",
   "execution_count": 13,
   "metadata": {},
   "outputs": [],
   "source": [
    "years_1984 = (world_alcohol[:, 0] == '1984')"
   ]
  },
  {
   "cell_type": "code",
   "execution_count": 14,
   "metadata": {},
   "outputs": [],
   "source": [
    "country_is_algeria = (world_alcohol[:,2] == \"Algeria\")\n",
    "country_algeria = world_alcohol[country_is_algeria]"
   ]
  },
  {
   "cell_type": "code",
   "execution_count": 15,
   "metadata": {},
   "outputs": [],
   "source": [
    "is_algeria_and_1986 = (world_alcohol[:,0] == \"1986\") & (world_alcohol[:,2] == \"Algeria\")\n",
    "rows_with_algeria_and_1986 = world_alcohol[is_algeria_and_1986]"
   ]
  },
  {
   "cell_type": "code",
   "execution_count": 16,
   "metadata": {},
   "outputs": [],
   "source": [
    "world_alcohol[world_alcohol[:,0] == \"1986\", 0] = \"2014\"\n",
    "world_alcohol[world_alcohol[:,3] == \"Wine\", 3] = \"Grog\""
   ]
  },
  {
   "cell_type": "code",
   "execution_count": 17,
   "metadata": {},
   "outputs": [],
   "source": [
    "is_value_empty = (world_alcohol[:, 4] == '')\n",
    "world_alcohol[is_value_empty, 4] = '0'"
   ]
  },
  {
   "cell_type": "code",
   "execution_count": 18,
   "metadata": {},
   "outputs": [],
   "source": [
    "alcohol_consumption = world_alcohol[:, 4].astype(float)"
   ]
  },
  {
   "cell_type": "code",
   "execution_count": 19,
   "metadata": {},
   "outputs": [],
   "source": [
    "total_alcohol = np.sum(alcohol_consumption)\n",
    "average_alcohol = np.mean(alcohol_consumption)"
   ]
  },
  {
   "cell_type": "code",
   "execution_count": 20,
   "metadata": {},
   "outputs": [],
   "source": [
    "canada_1986 = world_alcohol[(world_alcohol[:, 0] == '1986') & (world_alcohol[:, 2] == 'Canada')]\n",
    "canada_1986[canada_1986[:, 4] == '', 4] = '0'\n",
    "canada_alcohol = canada_1986[:, 4].astype(float)\n",
    "\n",
    "total_canadian_drinking = np.sum(canada_alcohol)"
   ]
  },
  {
   "cell_type": "code",
   "execution_count": 21,
   "metadata": {},
   "outputs": [],
   "source": [
    "countries = list(set(world_alcohol[:, 2].tolist()))"
   ]
  },
  {
   "cell_type": "code",
   "execution_count": 22,
   "metadata": {},
   "outputs": [],
   "source": [
    "# Calculate the total alcohol consumption for each country in 1989\n",
    "\n",
    "totals = {}\n",
    "year = world_alcohol[(world_alcohol[:, 0] == '1989')]\n",
    "\n",
    "for country in countries:\n",
    "    country_consumption = year[year[:, 2] == country]\n",
    "    country_consumption[country_consumption[:, 4] == ''] = '0'\n",
    "    totals[country] = np.sum(country_consumption[:, 4].astype(float))"
   ]
  },
  {
   "cell_type": "code",
   "execution_count": 23,
   "metadata": {},
   "outputs": [
    {
     "data": {
      "text/plain": [
       "'Hungary'"
      ]
     },
     "execution_count": 23,
     "metadata": {},
     "output_type": "execute_result"
    }
   ],
   "source": [
    "# Country with largest alcohol consumption\n",
    "\n",
    "max(totals, key=lambda x: totals[x])\n",
    "\n",
    "# or max(totals, key=totals.get)\n",
    "# or \n",
    "# for key in totals.keys():\n",
    "#     if totals[key] > highest_value:\n",
    "#         highest_value = totals[key]\n",
    "#         highest_key = key"
   ]
  },
  {
   "cell_type": "code",
   "execution_count": 24,
   "metadata": {},
   "outputs": [],
   "source": []
  }
 ],
 "metadata": {
  "kernelspec": {
   "display_name": "Python 2",
   "language": "python",
   "name": "python2"
  },
  "language_info": {
   "codemirror_mode": {
    "name": "ipython",
    "version": 2
   },
   "file_extension": ".py",
   "mimetype": "text/x-python",
   "name": "python",
   "nbconvert_exporter": "python",
   "pygments_lexer": "ipython2",
   "version": "2.7.6"
  }
 },
 "nbformat": 4,
 "nbformat_minor": 0
}
