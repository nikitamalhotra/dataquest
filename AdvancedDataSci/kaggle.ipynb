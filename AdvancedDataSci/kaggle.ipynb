{
 "cells": [
  {
   "cell_type": "markdown",
   "metadata": {},
   "source": [
    "# Getting Started"
   ]
  },
  {
   "cell_type": "markdown",
   "metadata": {},
   "source": [
    "Kaggle is a site where people create algorithms and compete against machine learning practitioners around the world. Your algorithm wins the competition if it's the most accurate on a particular data set. Kaggle is a fun way to practice your machine learning skills.\n",
    "\n",
    "In this mission and the ones that follow, we're going to learn how to compete in Kaggle competitions. In this introductory mission we'll learn how to:\n",
    "\n",
    "Approach a Kaggle competition\n",
    "Explore the competition data and learn about the competition topic\n",
    "Prepare data for machine learning\n",
    "Train a model\n",
    "Measure the accuracy of your model\n",
    "Prepare and make your first Kaggle submission.\n",
    "This course presumes you have an understanding of Python and the pandas library. If you need to learn about these, we recommend our Python and pandas courses.\n",
    "\n",
    "Kaggle has created a number of competitions designed for beginners. The most popular of these competitions, and the one we'll be looking at, is about predicting which passengers survived the sinking of the Titanic.\n",
    "\n",
    "In this competition, we have a data set of different information about passengers onboard the Titanic, and we see if we can use that information to predict whether those people survived or not. Before we start looking at this specific competition, let's take a moment to understand how Kaggle competitions work.\n",
    "\n",
    "Each Kaggle competition has two key data files that you will work with - a training set and a testing set.\n",
    "\n",
    "The training set contains data we can use to train our model. It has a number of feature columns which contain various descriptive data, as well as a column of the target values we are trying to predict: in this case, Survival.\n",
    "\n",
    "The testing set contains all of the same feature columns, but is missing the target value column. Additionally, the testing set usually has fewer observations (rows) than the training set.\n",
    "\n",
    "<img src='kaggle/fig1.svg'>\n",
    "\n",
    "This is useful because we want as much data as we can to train our model on. Once we have trained our model on the training set, we will use that model to make predictions on the data from the testing set, and submit those predictions to Kaggle.\n",
    "\n",
    "In this competition, the two files are named test.csv and train.csv. We'll start by using the pandas library to read both files and inspect their size.\n",
    "\n",
    "<b>Instructions</b><br>\n",
    "- Use pandas.read_csv() to import train.csv and assign it to the variable train.\n",
    "- Use DataFrame.shape to calculate the number of rows and columns in train, and assign the result to train_shape."
   ]
  },
  {
   "cell_type": "code",
   "execution_count": 1,
   "metadata": {},
   "outputs": [],
   "source": [
    "import pandas as pd"
   ]
  },
  {
   "cell_type": "code",
   "execution_count": 2,
   "metadata": {},
   "outputs": [],
   "source": [
    "test = pd.read_csv('test.csv')\n",
    "train = pd.read_csv('train.csv')"
   ]
  },
  {
   "cell_type": "code",
   "execution_count": 3,
   "metadata": {},
   "outputs": [],
   "source": [
    "train_shape = train.shape"
   ]
  },
  {
   "cell_type": "markdown",
   "metadata": {},
   "source": [
    "The files we read in the previous screen are available on the data page for the Titanic competition on Kaggle. That page also has a data dictionary, which explains the various columns that make up the data set. Below are the descriptions contained in that data dictionary:\n",
    "\n",
    "- PassengerID - A column added by Kaggle to identify each row and make submissions easier\n",
    "- Survived - Whether the passenger survived or not and the value we are predicting (0=No, 1=Yes)\n",
    "- Pclass - The class of the ticket the passenger purchased (1=1st, 2=2nd, 3=3rd)\n",
    "- Sex - The passenger's sex\n",
    "- Age - The passenger's age in years\n",
    "- SibSp - The number of siblings or spouses the passenger had aboard the Titanic\n",
    "- Parch - The number of parents or children the passenger had aboard the Titanic\n",
    "- Ticket - The passenger's ticket number\n",
    "- Fare - The fare the passenger paid\n",
    "- Cabin - The passenger's cabin number\n",
    "- Embarked - The port where the passenger embarked (C=Cherbourg, Q=Queenstown, S=Southampton)\n",
    "\n",
    "The data page on Kaggle has some additional notes about some of the columns. It's always worth exploring this in detail to get a full understanding of the data.\n",
    "\n",
    "The type of machine learning we will be doing is called classification, because when we make predictions we are classifying each passenger as survived or not. More specifically, we are performing binary classification, which means that there are only two different states we are classifying.\n",
    "\n",
    "In any machine learning exercise, thinking about the topic you are predicting is very important. We call this step acquiring domain knowledge, and it's one of the most important determinants for success in machine learning.\n",
    "\n",
    "In this case, understanding the Titanic disaster and specifically what variables might affect the outcome of survival is important. Anyone who has watched the movie Titanic would remember that women and children were given preference to lifeboats (as they were in real life). You would also remember the vast class disparity of the passengers.\n",
    "\n",
    "This indicates that Age, Sex, and PClass may be good predictors of survival. We'll start by exploring Sex and Pclass by visualizing the data.\n",
    "\n",
    "Because the Survived column contains 0 if the passenger did not survive and 1 if they did, we can segment our data by sex and calculate the mean of this column. We can use DataFrame.pivot_table() to easily do this:\n",
    "\n",
    "    sex_pivot = train.pivot_table(index=\"Sex\",values=\"Survived\")\n",
    "    sex_pivot.plot.bar()\n",
    "    plt.show()\n",
    "    \n",
    "The resultant plot will look like this:\n",
    "\n",
    "<img src='kaggle/fig2.png'>\n",
    "\n",
    "We can immediately see that females survived in much higher proportions than males did.\n",
    "\n",
    "Let's do the same with the Pclass column.\n",
    "\n",
    "<b>Instructions</b><br>\n",
    "- Use DataFrame.pivot_table() to pivot the train dataframe:\n",
    "- Use \"Pclass\" for the index parameter.\n",
    "- Use \"Survived\" for the values parameter.\n",
    "- Use DataFrame.plot.bar() to plot the pivot table."
   ]
  },
  {
   "cell_type": "code",
   "execution_count": 4,
   "metadata": {},
   "outputs": [
    {
     "data": {
      "image/png": "[encoded data removed]",
      "text/plain": [
       "<matplotlib.figure.Figure at 0x10199d860>"
      ]
     },
     "metadata": {},
     "output_type": "display_data"
    },
    {
     "data": {
      "image/png": "[encoded data removed]",
      "text/plain": [
       "<matplotlib.figure.Figure at 0x10909a908>"
      ]
     },
     "metadata": {},
     "output_type": "display_data"
    }
   ],
   "source": [
    "import matplotlib.pyplot as plt\n",
    "import seaborn as sns\n",
    "%matplotlib inline\n",
    "sns.set_style('darkgrid')\n",
    "\n",
    "sex_pivot = train.pivot_table(index=\"Sex\",values=\"Survived\")\n",
    "sex_pivot.plot.bar()\n",
    "plt.show()\n",
    "\n",
    "class_pivot = train.pivot_table(index='Pclass', values='Survived')\n",
    "class_pivot.plot.bar()\n",
    "plt.show()"
   ]
  },
  {
   "cell_type": "markdown",
   "metadata": {},
   "source": [
    "The Sex and PClass columns are what we call categorical features. That means that the values represented a few separate options (for instance, whether the passenger was male or female).\n",
    "\n",
    "Let's take a look at the Age column using Series.describe(). You can run this code for yourself in the console, if you wish.\n",
    "\n",
    "\n",
    "    >>> train[\"Age\"].describe()\n",
    "\n",
    "    count    714.000000\n",
    "    mean      29.699118\n",
    "    std       14.526497\n",
    "    min        0.420000\n",
    "    25%       20.125000\n",
    "    50%       28.000000\n",
    "    75%       38.000000\n",
    "    max       80.000000\n",
    "    Name: Age, dtype: float64\n",
    "\n",
    "The Age column contains numbers ranging from 0.42 to 80.0 (If you look at Kaggle's data page, it informs us that Age is fractional if the passenger is less than one). The other thing to note here is that there are 714 values in this column, fewer than the 814 rows we discovered that the train data set had earlier in this mission which indicates we have some missing values.\n",
    "\n",
    "All of this means that the Age column needs to be treated slightly differently, as this is a continuous numerical column. One way to look at distribution of values in a continuous numerical set is to use histograms. We can create two histograms to compare visually the those that survived vs those who died across different age ranges:\n",
    "\n",
    "\n",
    "    survived = train[train[\"Survived\"] == 1]\n",
    "    died = train[train[\"Survived\"] == 0]\n",
    "    survived[\"Age\"].plot.hist(alpha=0.5,color='red',bins=50)\n",
    "    died[\"Age\"].plot.hist(alpha=0.5,color='blue',bins=50)\n",
    "    plt.legend(['Survived','Died'])\n",
    "    plt.show()\n",
    "\n",
    "The resultant plot will look like this:\n",
    "\n",
    "<img src='kaggle/fig3.png'>\n",
    "\n",
    "The relationship here is not simple, but we can see that in some age ranges more passengers survived - where the red bars are higher than the blue bars.\n",
    "\n",
    "In order for this to be useful to our machine learning model, we can separate this continuous feature into a categorical feature by dividing it into ranges. We can use the pandas.cut() function to help us out.\n",
    "\n",
    "The pandas.cut() function has two required parameters - the column we wish to cut, and a list of numbers which define the boundaries of our cuts. We are also going to use the optional parameter labels, which takes a list of labels for the resultant bins. This will make it easier for us to understand our results.\n",
    "\n",
    "Before we modify this column, we have to be aware of two things. Firstly, any change we make to the train data, we also need to make to the test data, otherwise we will be unable to use our model to make predictions for our submissions. Secondly, we need to remember to handle the missing values we observed above.\n",
    "\n",
    "In the example below, we create a function that:\n",
    "\n",
    "- uses the pandas.fillna() method to fill all of the missing values with -0.5\n",
    "- cuts the Age column into three segments: Missing, Child, and Adult using pandas.cut().\n",
    "\n",
    "We then use that function on both the train and test dataframes.\n",
    "\n",
    "    def process_age(df,cut_points,label_names):\n",
    "        df[\"Age\"] = df[\"Age\"].fillna(-0.5)\n",
    "        df[\"Age_categories\"] = pd.cut(df[\"Age\"],cut_points,labels=label_names)\n",
    "        return df\n",
    "\n",
    "    cut_points = [-1,0,18,100]\n",
    "    label_names = [\"Missing\",\"Child\",\"Adult\"]\n",
    "\n",
    "    train = process_age(train,cut_points,label_names)\n",
    "    test = process_age(test,cut_points,label_names)\n",
    "    \n",
    "The diagram below shows how the function converts the data:\n",
    "\n",
    "<img src='kaggle/fig4.svg'>\n",
    "\n",
    "Note that the cut_points list has one more element than the label_names list, since it needs to define the upper boundary for the last segment.\n",
    "\n",
    "<b>Instructions</b><br>\n",
    "- Create the cut_points and label_names lists to split the Age column into six categories:\n",
    "    - Missing, from -1 to 0\n",
    "    - Infant, from 0 to 5\n",
    "    - Child, from 5 to 12\n",
    "    - Teenager, from 12 to 18\n",
    "    - Young Adult, from 18 to 35\n",
    "    - Adult, from 35 to 60\n",
    "    - Senior, from 60 to 100\n",
    "- Apply the process_age() function on the train dataframe, assigning the result to train.\n",
    "- Apply the process_age() function on the test dataframe, assigning the result to test.\n",
    "- Use DataFrame.pivot_table() to pivot the train dataframe by the Age_categories column.\n",
    "- Use DataFrame.plot.bar() to plot the pivot table."
   ]
  },
  {
   "cell_type": "code",
   "execution_count": 5,
   "metadata": {},
   "outputs": [],
   "source": [
    "def process_age(df,cut_points,label_names):\n",
    "    df[\"Age\"] = df[\"Age\"].fillna(-0.5)\n",
    "    df[\"Age_categories\"] = pd.cut(df[\"Age\"],cut_points,labels=label_names)\n",
    "    return df"
   ]
  },
  {
   "cell_type": "code",
   "execution_count": 6,
   "metadata": {},
   "outputs": [
    {
     "data": {
      "image/png": "[encoded data removed]",
      "text/plain": [
       "<matplotlib.figure.Figure at 0x1039ba7f0>"
      ]
     },
     "metadata": {},
     "output_type": "display_data"
    }
   ],
   "source": [
    "cut_points = [-1, 0, 5, 12, 18, 35, 60, 100]\n",
    "cut_labels = ['Missing', 'Infant', 'Child', 'Teenager', 'Young Adult', 'Adult', 'Senior']\n",
    "\n",
    "train = process_age(train, cut_points, cut_labels)\n",
    "test = process_age(test, cut_points, cut_labels)\n",
    "\n",
    "age_cat_pivot = train.pivot_table(index='Age_categories', values='Survived')\n",
    "age_cat_pivot.plot.bar()\n",
    "plt.show()"
   ]
  },
  {
   "cell_type": "markdown",
   "metadata": {},
   "source": [
    "So far we have identified three columns that may be useful for predicting survival:\n",
    "\n",
    "- Sex\n",
    "- Pclass\n",
    "- Age, or more specifically our newly created Age_categories\n",
    "\n",
    "Before we build our model, we need to prepare these columns for machine learning. Most machine learning algorithms can't understand text labels, so we have to convert our values into numbers.\n",
    "\n",
    "Additionally, we need to be careful that we don't imply any numeric relationship where there isn't one. If we think of the values in the Pclass column, we know they are 1, 2, and 3. You can confirm this by running the following code in your console:\n",
    "\n",
    "    >>> train[\"Pclass\"].value_counts()\n",
    "    \n",
    "While the class of each passenger certainly has some sort of ordered relationship, the relationship between each class is not the same as the relationship between the numbers 1, 2, and 3. For instance, class 2 isn't \"worth\" double what class 1 is, and class 3 isn't \"worth\" triple what class 1 is.\n",
    "\n",
    "In order to remove this relationship, we can create dummy columns for each unique value in Pclass:\n",
    "\n",
    "<img src='kaggle/fig5.svg'>\n",
    "\n",
    "\n",
    "Rather than doing this manually, we can use the pandas.get_dummies() function, which will generate columns shown in the diagram above.\n",
    "\n",
    "The following code creates a function to create the dummy columns for the Pclass column and add it back to the original dataframe. It then applies that function the train and test dataframes.\n",
    "\n",
    "    def create_dummies(df,column_name):\n",
    "        dummies = pd.get_dummies(df[column_name],prefix=column_name)\n",
    "        df = pd.concat([df,dummies],axis=1)\n",
    "        return df\n",
    "\n",
    "    train = create_dummies(train,\"Pclass\")\n",
    "    test = create_dummies(test,\"Pclass\")\n",
    "    \n",
    "Let's use that function to create dummy columns for both the Sex and Age_categories columns.\n",
    "\n",
    "<b>Instructions</b><br>\n",
    "- Use the create_dummies() function to create dummy variables for the Sex column:\n",
    "    - in the train dataframe.\n",
    "    - in the test dataframe.\n",
    "- Use the create_dummies() function to create dummy variables for the Age_categories column:\n",
    "    - in the train dataframe.\n",
    "    - in the test dataframe."
   ]
  },
  {
   "cell_type": "code",
   "execution_count": 7,
   "metadata": {},
   "outputs": [],
   "source": [
    "def create_dummies(df, column_name):\n",
    "    dummies = pd.get_dummies(df[column_name], prefix=column_name)\n",
    "    df = pd.concat([df,dummies], axis=1)\n",
    "    return df"
   ]
  },
  {
   "cell_type": "code",
   "execution_count": 8,
   "metadata": {},
   "outputs": [],
   "source": [
    "train = create_dummies(train,\"Pclass\")\n",
    "test = create_dummies(test,\"Pclass\")\n",
    "train = create_dummies(train, ['Sex', 'Age_categories'])\n",
    "test = create_dummies(test, ['Sex', 'Age_categories'])"
   ]
  },
  {
   "cell_type": "markdown",
   "metadata": {},
   "source": [
    "Now that our data has been prepared, we are ready to train our first model. The first model we will use is called Logistic Regression, which is often the first model you will train when performing classification.\n",
    "\n",
    "We will be using the scikit-learn library as it has many tools that make performing machine learning easier. The scikit-learn workflow consists of four main steps:\n",
    "\n",
    "Instantiate (or create) the specific machine learning model you want to use\n",
    "Fit the model to the training data\n",
    "Use the model to make predictions\n",
    "Evaluate the accuracy of the predictions\n",
    "Each model in scikit-learn is implemented as a separate class and the first step is to identify the class we want to create an instance of. In our case, we want to use the LogisticRegression class.\n",
    "\n",
    "We'll start by looking at the first two steps. First, we need to import the class:\n",
    "\n",
    "    from sklearn.linear_model import LogisticRegression\n",
    "\n",
    "Next, we create a LogisticRegression object:\n",
    "\n",
    "    lr = LogisticRegression()\n",
    "\n",
    "Lastly, we use the LogisticRegression.fit() method to train our model. The .fit() method accepts two arguments: X and y. X must be a two dimensional array (like a dataframe) of the features that we wish to train our model on, and y must be a one-dimensional array (like a series) of our target, or the column we wish to predict.\n",
    "\n",
    "    columns = ['Pclass_2', 'Pclass_3', 'Sex_male']\n",
    "    lr.fit(train[columns], train['Survived'])\n",
    "\n",
    "The code above fits (or trains) our LogisticRegression model using three columns: Pclass_2, Pclass_3, and Sex_male.\n",
    "\n",
    "Let's train our model using all of the columns we created in the previous screen.\n",
    "\n",
    "<b>Instructions</b><br>\n",
    "- Instantiate a LogisticRegression object called lr.\n",
    "- Use LogisticRegression.fit() to fit the model on the train dataset using:\n",
    "- The columns contained in columns as the first (X) parameter.\n",
    "- The Survived column as the second (y) parameter."
   ]
  },
  {
   "cell_type": "code",
   "execution_count": 9,
   "metadata": {},
   "outputs": [],
   "source": [
    "from sklearn.linear_model import LogisticRegression"
   ]
  },
  {
   "cell_type": "code",
   "execution_count": 10,
   "metadata": {},
   "outputs": [
    {
     "data": {
      "text/plain": [
       "LogisticRegression(C=1.0, class_weight=None, dual=False, fit_intercept=True,\n",
       "          intercept_scaling=1, max_iter=100, multi_class='ovr', n_jobs=1,\n",
       "          penalty='l2', random_state=None, solver='liblinear', tol=0.0001,\n",
       "          verbose=0, warm_start=False)"
      ]
     },
     "execution_count": 10,
     "metadata": {},
     "output_type": "execute_result"
    }
   ],
   "source": [
    "columns = ['Pclass_1', 'Pclass_2', 'Pclass_3', 'Sex_female', 'Sex_male',\n",
    "       'Age_categories_Missing','Age_categories_Infant',\n",
    "       'Age_categories_Child', 'Age_categories_Teenager',\n",
    "       'Age_categories_Young Adult', 'Age_categories_Adult',\n",
    "       'Age_categories_Senior']\n",
    "\n",
    "lr = LogisticRegression()\n",
    "lr.fit(train[columns], train['Survived'])"
   ]
  },
  {
   "cell_type": "markdown",
   "metadata": {},
   "source": [
    "Congratulations, you've trained your first machine learning model! Our next step is to find out how accurate our model is, and to do that, we'll have to make some predictions.\n",
    "\n",
    "If you recall from earlier, we do have a test dataframe that we could use to make predictions. We could make predictions on that data set, but because it doesn't have the Survived column we would have to submit it to Kaggle to find out our accuracy. This would quickly become a pain if we had to submit to find out the accuracy every time we optimized our model.\n",
    "\n",
    "We could also fit and predict on our train dataframe, however if we do this there is a high likelihood that our model will overfit, which means it will perform well because we're testing on the same data we've trained on, but then perform much worse on new, unseen data.\n",
    "\n",
    "Instead we can split our train dataframe into two:\n",
    "\n",
    "- One part to train our model on (often 80% of the observations)\n",
    "- One part to make predictions with and test our model (often 20% of the observations)\n",
    "\n",
    "The convention in machine learning is to call these two parts train and test. This can become confusing, since we already have our test dataframe that we will eventually use to make predictions to submit to Kaggle. To avoid confusion, from here on, we're going to call this Kaggle 'test' data holdout data, which is the technical name given to this type of data used for final predictions.\n",
    "\n",
    "The scikit-learn library has a handy model_selection.train_test_split() function that we can use to split our data. train_test_split() accepts two parameters, X and y, which contain all the data we want to train and test on, and returns four objects: train_X, train_y, test_X, test_y:\n",
    "\n",
    "<img src='kaggle/fig6.svg'>\n",
    "\n",
    "Here's what the syntax for creating these four objects looks like:\n",
    "\n",
    "    from sklearn.model_selection import train_test_split\n",
    "    \n",
    "    columns = ['Pclass_2', 'Pclass_3', 'Sex_male']\n",
    "    \n",
    "    all_X = train[columns]\n",
    "    all_y = train['Survived']\n",
    "    \n",
    "    train_X, test_X, train_y, test_y = train_test_split(\n",
    "        all_X, all_y, test_size=0.2,random_state=0)\n",
    "\n",
    "You'll notice that there are two other parameters we used: test_size, which lets us control what proportions our data are split into, and random_state. The train_test_split() function randomizes observations before dividing them, and setting a random seed means that our results will be reproducible, which is important if you are collaborating, or need to produce consistent results each time (which our answer checker requires).\n",
    "\n",
    "<b>Instructions</b><br>\n",
    "- Use the model_selection.train_test_split() function to split the train dataframe using the following parameters:\n",
    "    - test_size of 0.2.\n",
    "    - random_state of 0.\n",
    "- Assign the four returned objects to train_X, test_X, train_y, and test_y."
   ]
  },
  {
   "cell_type": "code",
   "execution_count": 11,
   "metadata": {},
   "outputs": [],
   "source": [
    "from sklearn.model_selection import train_test_split"
   ]
  },
  {
   "cell_type": "code",
   "execution_count": 12,
   "metadata": {},
   "outputs": [],
   "source": [
    "holdout = test # from now on we will refer to this\n",
    "               # dataframe as the holdout data\n",
    "\n",
    "columns = ['Pclass_1', 'Pclass_2', 'Pclass_3', 'Sex_female', 'Sex_male',\n",
    "       'Age_categories_Missing','Age_categories_Infant',\n",
    "       'Age_categories_Child', 'Age_categories_Teenager',\n",
    "       'Age_categories_Young Adult', 'Age_categories_Adult',\n",
    "       'Age_categories_Senior']\n",
    "\n",
    "X = train[columns]\n",
    "y = train['Survived']\n",
    "\n",
    "train_X, test_X, train_y, test_y = train_test_split(X, y, test_size=0.2, random_state=0)"
   ]
  },
  {
   "cell_type": "markdown",
   "metadata": {},
   "source": [
    "Now that we have our data split into train and test sets, we can fit our model again on our training set, and then use that model to make predictions on our test set.\n",
    "\n",
    "Once we have fit our model, we can use the LogisticRegression.predict() method to make predictions.\n",
    "\n",
    "The predict() method takes a single parameter X, a two dimensional array of features for the observations we wish to predict. X must have the exact same features as the array we used to fit our model. The method returns single dimensional array of predictions.\n",
    "\n",
    "    lr = LogisticRegression()\n",
    "    lr.fit(train_X, train_y)\n",
    "    predictions = lr.predict(test_X)\n",
    "\n",
    "There are a number of ways to measure the accuracy of machine learning models, but when competing in Kaggle competitions you want to make sure you use the same method that Kaggle uses to calculate accuracy for that specific competition.\n",
    "\n",
    "In this case, the evaluation section for the Titanic competition on Kaggle tells us that our score calculated as \"the percentage of passengers correctly predicted\". This is by far the most common form of accuracy for binary classification.\n",
    "\n",
    "As an example, imagine we were predicting a small data set of five observations.\n",
    "\n",
    "<img src='kaggle/fig7.jpg', height=840, width=472>\n",
    "\n",
    "In this case, our model correctly predicted three out of five values, so the accuracy based on this prediction set would be 60%.\n",
    "\n",
    "Again, scikit-learn has a handy function we can use to calculate accuracy: metrics.accuracy_score(). The function accepts two parameters, y_true and y_pred, which are the actual values and our predicted values respectively, and returns our accuracy score.\n",
    "\n",
    "    from sklearn.metrics import accuracy_score\n",
    "    accuracy = accuracy_score(test_y, predictions)\n",
    "\n",
    "Let's put all of these steps together, and get our first accuracy score.\n",
    "\n",
    "<b>Instructions</b><br>\n",
    "- Instantiate a new LogisticRegression() object, lr.\n",
    "- Fit the model using train_X and train_y.\n",
    "- Make predictions using test_X and assign the results to predictions.\n",
    "- Use accuracy_score() to compare test_y and predictions, assigning the result to accuracy\n",
    "- Print the accuracy variable."
   ]
  },
  {
   "cell_type": "code",
   "execution_count": 13,
   "metadata": {},
   "outputs": [],
   "source": [
    "from sklearn.metrics import accuracy_score"
   ]
  },
  {
   "cell_type": "code",
   "execution_count": 14,
   "metadata": {},
   "outputs": [
    {
     "name": "stdout",
     "output_type": "stream",
     "text": [
      "Accuracy: 0.8100558659217877\n"
     ]
    }
   ],
   "source": [
    "lr = LogisticRegression()\n",
    "lr.fit(train_X, train_y)\n",
    "predictions = lr.predict(test_X)\n",
    "accuracy = accuracy_score(test_y, predictions)\n",
    "print('Accuracy:', accuracy)"
   ]
  },
  {
   "cell_type": "markdown",
   "metadata": {},
   "source": [
    "Our model has an accuracy score of 81.0% when tested against our 20% test set. Given that this data set is quite small, there is a good chance that our model is overfitting, and will not perform as well on totally unseen data.\n",
    "\n",
    "To give us a better understanding of the real performance of our model, we can use a technique called cross validation to train and test our model on different splits of our data, and then average the accuracy scores.\n",
    "\n",
    "<img src='kaggle/fig8.svg'>\n",
    "\n",
    "The most common form of cross validation, and the one we will be using, is called k-fold cross validation. 'Fold' refers to each different iteration that we train our model on, and 'k' just refers to the number of folds. In the diagram above, we have illustrated k-fold validation where k is 5.\n",
    "\n",
    "We will use scikit-learn's model_selection.cross_val_score() function to automate the process. The basic syntax for cross_val_score() is:\n",
    "\n",
    "    cross_val_score(estimator, X, y, cv=None)\n",
    "\n",
    "- estimator is a scikit-learn estimator object, like the LogisticRegression() objects we have been creating.\n",
    "- X is all features from our data set.\n",
    "- y is the target variables.\n",
    "- cv specifies the number of folds.\n",
    "\n",
    "The function returns a numpy ndarray of the accuracy scores of each fold.\n",
    "\n",
    "It's worth noting, the cross_val_score() function can use a variety of cross validation techniques and scoring types, but it defaults to k-fold validation and accuracy scores for our input types.\n",
    "\n",
    "<b>Instructions</b><br>\n",
    "- Instantiate a new LogisticRegression() object, lr.\n",
    "- Use model_selection.cross_val_score() to perform cross-validation on our data and assign the results to scores:\n",
    "    - Use the newly created lr as the estimator.\n",
    "    - Use all_X and all_y as the input data.\n",
    "    - Specify 10 folds to be used.\n",
    "- Use the numpy.mean() function to calculate the mean of scores and assign the result to accuracy.\n",
    "- Print the variables scores and accuracy."
   ]
  },
  {
   "cell_type": "code",
   "execution_count": 15,
   "metadata": {},
   "outputs": [],
   "source": [
    "from sklearn.model_selection import cross_val_score\n",
    "import numpy as np"
   ]
  },
  {
   "cell_type": "code",
   "execution_count": 16,
   "metadata": {},
   "outputs": [
    {
     "name": "stdout",
     "output_type": "stream",
     "text": [
      "Accuracy: 0.8024670865963002\n",
      "[0.8        0.81111111 0.7752809  0.87640449 0.80898876 0.78651685\n",
      " 0.76404494 0.76404494 0.83146067 0.80681818]\n"
     ]
    }
   ],
   "source": [
    "lr = LogisticRegression()\n",
    "scores = cross_val_score(lr, X, y, cv=10)\n",
    "accuracy = np.mean(scores)\n",
    "print('Accuracy:', accuracy)\n",
    "print(scores)"
   ]
  },
  {
   "cell_type": "markdown",
   "metadata": {},
   "source": [
    "From the results of our k-fold validation, you can see that the accuracy number varies with each fold - ranging between 76.4% and 87.6%. This demonstrates why cross validation is important.\n",
    "\n",
    "As it happens, our average accuracy score was 80.2%, which is not far from the 81.0% we got from our simple train/test split, however this will not always be the case, and you should always use cross-validation to make sure the error metrics you are getting from your model are accurate.\n",
    "\n",
    "We are now ready to use the model we have built to train our final model and then make predictions on our unseen holdout data, or what Kaggle calls the 'test' data set.\n",
    "\n",
    "<b>Instructions</b><br>\n",
    "- Instantiate a new LogisticRegression() object, lr.\n",
    "- Use the fit() method to train the model lr using all of the Kaggle training data: all_X and all_y.\n",
    "- Make predictions using the holdout data and assign the result to holdout_predictions."
   ]
  },
  {
   "cell_type": "code",
   "execution_count": 17,
   "metadata": {},
   "outputs": [],
   "source": [
    "columns = ['Pclass_1', 'Pclass_2', 'Pclass_3', 'Sex_female', 'Sex_male',\n",
    "       'Age_categories_Missing','Age_categories_Infant',\n",
    "       'Age_categories_Child', 'Age_categories_Teenager',\n",
    "       'Age_categories_Young Adult', 'Age_categories_Adult',\n",
    "       'Age_categories_Senior']\n",
    "\n",
    "lr = LogisticRegression()\n",
    "lr.fit(X, y)\n",
    "holdout_predictions = lr.predict(holdout[columns])"
   ]
  },
  {
   "cell_type": "markdown",
   "metadata": {},
   "source": [
    "The last thing we need to do is create a submission file. Each Kaggle competition can have slightly different requirements for the submission file. Here's what is specified on the Titanic competition evaluation page:\n",
    "\n",
    "You should submit a csv file with exactly 418 entries plus a header row. Your submission will show an error if you have extra columns (beyond PassengerId and Survived) or rows.\n",
    "\n",
    "The file should have exactly 2 columns:\n",
    "\n",
    "- PassengerId (sorted in any order)\n",
    "- Survived (contains your binary predictions: 1 for survived, 0 for deceased)\n",
    "\n",
    "We will need to create a new dataframe that contains the holdout_predictions we created in the previous screen and the PassengerId column from the holdout dataframe. We don't need to worry about matching the data up, as both of these remain in their original order.\n",
    "\n",
    "To do this, we can pass a dictionary to the pandas.DataFrame() function:\n",
    "\n",
    "    holdout_ids = holdout[\"PassengerId\"]\n",
    "    submission_df = {\"PassengerId\": holdout_ids,\n",
    "                     \"Survived\": holdout_predictions}\n",
    "    submission = pd.DataFrame(submission_df)\n",
    "\n",
    "Finally, we'll use the DataFrame.to_csv() method to save the dataframe to a CSV file. We need to make sure the index parameter is set to False, otherwise we will add an extra column to our CSV.\n",
    "\n",
    "<b>Instructions</b><br>\n",
    "- Create a dataframe submission that matches Kaggle's specification.\n",
    "- Use the to_csv() method to save the submission dataframe using the filename submission.csv, using the documentation to look up the correct syntax."
   ]
  },
  {
   "cell_type": "code",
   "execution_count": 18,
   "metadata": {},
   "outputs": [],
   "source": [
    "holdout_ids = holdout[\"PassengerId\"]\n",
    "submission_df = {\"PassengerId\": holdout_ids,\n",
    "                 \"Survived\": holdout_predictions}\n",
    "submission = pd.DataFrame(submission_df)\n",
    "submission.to_csv('submission.csv', index=False)"
   ]
  },
  {
   "cell_type": "markdown",
   "metadata": {},
   "source": [
    "You can download the submission file you just created here (when working locally, it will be in the same directory as your notebook).\n",
    "\n",
    "Now that we have our submission file, we can start our submission to Kaggle by clicking the blue 'Submit Predictions' button on the competition page.\n",
    "\n",
    "<img src='kaggle/fig9.jpg'>\n",
    "\n",
    "You will then be prompted to upload your CSV file, and add a brief description of your submission. When you make your submission, Kaggle will process your predictions and give you your accuracy for the holdout data and your ranking. When it is finished processing you will see our first submission gets an accuracy score of 0.75598, or 75.6%.\n",
    "\n",
    "<img src='kaggle/fig10.png'>\n",
    "\n",
    "The fact that our accuracy on the holdout data is 75.6% compared with the 80.2% accuracy we got with cross-validation indicates that our model is overfitting slightly to our training data.\n",
    "\n",
    "At the time of writing, accuracy of 75.6% gives a rank of 6,663 out of 7,954. It's easy to look at Kaggle leaderboards after your first submission and get discouraged, but keep in mind that this is just a starting point.\n",
    "\n",
    "It's also very common to see a small number of scores of 100% at the top of the Titanic leaderboard and think that you have a long way to go. In reality, anyone scoring about 90% on this competition is likely cheating (it's easy to look up the names of the passengers in the holdout set online and see if they survived).\n",
    "\n",
    "There is a great analysis on Kaggle, How am I doing with my score, which uses a few different strategies and suggests a minimum score for this competition is 62.7% (achieved by presuming that every passenger died) and a maximum of around 82%. We are a little over halfway between the minimum and maximum, which is a great starting point."
   ]
  },
  {
   "cell_type": "markdown",
   "metadata": {},
   "source": [
    "# Feature Preparation, Selection, and Engineering"
   ]
  },
  {
   "cell_type": "markdown",
   "metadata": {},
   "source": [
    "In the last mission, we made our first submission to Kaggle, getting an accuracy score of 75.6%. While this is a good start, there is definitely room for improvement. There are two main areas we can focus on to boost the accuracy of our predictions:\n",
    "\n",
    "Improving the features we train our model on\n",
    "Improving the model itself\n",
    "In this mission, we're going to focus working with the features used in our model.\n",
    "\n",
    "We'll start by looking at feature selection. Feature selection is important because it helps to exclude features which are not good predictors, or features that are closely related to each other. Both of these will cause our model to be less accurate, particularly on previously unseen data.\n",
    "\n",
    "The diagram below illustrates this. The red dots represent the data we are trying to predict, and each of the blue lines represents a different model.\n",
    "\n",
    "<img src='kaggle/fig11.svg'>\n",
    "\n",
    "represents the training data too closely, and is unlikely to predict well on unseen data, like the holdout data for our Kaggle competition.\n",
    "\n",
    "The model on the right is well-fit. It captures the underlying pattern in the data without the detailed noise found just in the training set. A well fit model is likely to make accurate predictions on previously unseen data. The key to creating a well-fit model is to select the right balance of features, and to create new features to train your model.\n",
    "\n",
    "In the previous mission, we trained our model using data about the age, sex and class of the passengers on the Titanic. Let's start by using the functions we created in that mission to add the columns we had at the end of the first mission.\n",
    "\n",
    "Remember that any modifications we make to our training data (train.csv) we also have to make to our holdout data (test.csv).\n",
    "\n",
    "<b>Instructions</b><br>\n",
    "- Use the process_age() function:\n",
    "    - To convert the Age column in train, assigning the result to train.\n",
    "    - To convert the Age column in holdout, assigning the result to holdout.\n",
    "- Create a for loop which iterates over the column names \"Age_categories\", \"Pclass\", and \"Sex\". In each iteration:\n",
    "    - Use the create_dummies() function to process the train dataframe for the given column, assigning the result to train.\n",
    "    - Use the create_dummies() function to process the holdout dataframe for the given column, assigning the result to holdout.\n",
    "- Use the print() function to display the columns in train using train.columns."
   ]
  },
  {
   "cell_type": "code",
   "execution_count": 19,
   "metadata": {},
   "outputs": [],
   "source": [
    "# These are already loaded in above"
   ]
  },
  {
   "cell_type": "code",
   "execution_count": 20,
   "metadata": {},
   "outputs": [
    {
     "name": "stdout",
     "output_type": "stream",
     "text": [
      "Index(['PassengerId', 'Survived', 'Pclass', 'Name', 'Sex', 'Age', 'SibSp',\n",
      "       'Parch', 'Ticket', 'Fare', 'Cabin', 'Embarked', 'Age_categories',\n",
      "       'Pclass_1', 'Pclass_2', 'Pclass_3', 'Sex_female', 'Sex_male',\n",
      "       'Age_categories_Missing', 'Age_categories_Infant',\n",
      "       'Age_categories_Child', 'Age_categories_Teenager',\n",
      "       'Age_categories_Young Adult', 'Age_categories_Adult',\n",
      "       'Age_categories_Senior'],\n",
      "      dtype='object')\n"
     ]
    }
   ],
   "source": [
    "print(train.columns)"
   ]
  },
  {
   "cell_type": "markdown",
   "metadata": {},
   "source": [
    "Our model in the previous mission was based on three columns from the original data: Age, Sex, and Pclass. As you saw when you printed the column names in the previous screen, there are a number of other columns that we haven't yet used. To make it easier to reference, the output from the previous screen is copied below:\n",
    "\n",
    "    Index(['PassengerId', 'Survived', 'Pclass', 'Name',\n",
    "           'Sex', 'Age', 'SibSp', 'Parch', 'Ticket',\n",
    "           'Fare', 'Cabin', 'Embarked', 'Age_categories',\n",
    "           'Age_categories_Missing',\n",
    "           'Age_categories_Infant',\n",
    "           'Age_categories_Child',\n",
    "           'Age_categories_Teenager',\n",
    "           'Age_categories_Young Adult',\n",
    "           'Age_categories_Adult',\n",
    "           'Age_categories_Senior', 'Pclass_1',\n",
    "           'Pclass_2', 'Pclass_3','Sex_female',\n",
    "           'Sex_male'], dtype='object')\n",
    "\n",
    "The last nine rows of the output are dummy columns we created, but in the first three rows we can see there are a number of features we haven't yet utilized. We can ignore PassengerId, since this is just a column Kaggle have added to identify each passenger and calculate scores. We can also ignore Survived, as this is what we're predicting, as well as the three columns we've already used.\n",
    "\n",
    "Here is a list of the remaining columns (with a brief description), so we can refamiliarize ourselves with the data.\n",
    "\n",
    "- SibSp - The number of siblings or spouses the passenger had aboard the Titanic\n",
    "- Parch - The number of parents or children the passenger had aboard the Titanic\n",
    "- Ticket - The passenger's ticket number\n",
    "- Fare - The fair the passenger paid\n",
    "- Cabin - The passengers cabin number\n",
    "- Embarked - The port where the passenger embarked (C=Cherbourg, Q=Queenstown, S=Southampton)\n",
    "\n",
    "At first glance, both the Name and Ticket columns look to be unique to each passenger. We will come back to these columns later, but for now we'll focus on the other columns.\n",
    "\n",
    "We can use the Dataframe.describe() method to give us some more information on the values within each remaining column.\n",
    "\n",
    "\n",
    "    >>> columns = ['SibSp','Parch','Fare','Cabin','Embarked']\n",
    "    >>> train[columns].describe(include='all',percentiles=[])\n",
    "                     SibSp       Parch        Fare Cabin Embarked\n",
    "        count   891.000000  891.000000  891.000000   204      889\n",
    "        unique         NaN         NaN         NaN   147        3\n",
    "        top            NaN         NaN         NaN    G6        S\n",
    "        freq           NaN         NaN         NaN     4      644\n",
    "        mean      0.523008    0.381594   32.204208   NaN      NaN\n",
    "        std       1.102743    0.806057   49.693429   NaN      NaN\n",
    "        min       0.000000    0.000000    0.000000   NaN      NaN\n",
    "        50%       0.000000    0.000000   14.454200   NaN      NaN\n",
    "        max       8.000000    6.000000  512.329200   NaN      NaN\n",
    "\n",
    "Of these, SibSp, Parch and Fare look to be standard numeric columns with no missing values. Cabin has values for only 204 of the 891 rows, and even then most of the values are unique, so for now we will leave this column also. Embarked looks to be a standard categorical column with 3 unique values, much like PClass was, except that there are two missing values. We can easily fill these two missing values with the most common value, \"S\" which occurs 644 times.\n",
    "\n",
    "Looking at our numeric columns, we can see a big difference between the range of each. SibSp has values between 0-8, Parch between 0-6, and Fare is on a dramatically different scale, with values ranging from 0-512. In order to make sure these values are equally weighted within our model, we'll need to rescale the data.\n",
    "\n",
    "Rescaling simply stretches or shrinks the data as needed to be on the same scale, in our case between 0 and 1.\n",
    "\n",
    "<img src='kaggle/fig12.svg'>\n",
    "\n",
    "In the diagram above, the three columns have different minimum and maximum values before rescaling.\n",
    "\n",
    "After rescaling, the values in each feature has been compressed or stretched so that they are all on the same scale - they have the same minimum and maximum, and the relationship between each point is still the same relative other points in that feature. You can now easily see that the data represented in each column is identical.\n",
    "\n",
    "Within scikit-learn, the preprocessing.minmax_scale() function allows us to quickly and easily rescale our data:\n",
    "\n",
    "    from sklearn.preprocessing import minmax_scale\n",
    "    columns = [\"column one\", \"column two\"]\n",
    "    data[columns] = min_max_scale(data[columns])\n",
    "\n",
    "Let's process the Embarked, SibSp, Parch and Fare columns in both our train and holdout dataframes.\n",
    "\n",
    "<b>Instructions</b><br>\n",
    "- For both the train and holdout dataframes:\n",
    "- Use the Series.fillna() method to replace any missing values in the Embarked column with \"S\"\n",
    "- Use our create_dummies() function to create dummy columns for the Embarked column.\n",
    "- Use minmax_scale() to rescale the SibSp, Parch, and Fare columns, assigning the results back to new columns SibSp_scaled, Parch_scaled. and Fare_scaled respectively."
   ]
  },
  {
   "cell_type": "code",
   "execution_count": 21,
   "metadata": {},
   "outputs": [],
   "source": [
    "from sklearn.preprocessing import minmax_scale"
   ]
  },
  {
   "cell_type": "code",
   "execution_count": 22,
   "metadata": {},
   "outputs": [
    {
     "name": "stderr",
     "output_type": "stream",
     "text": [
      "/usr/local/lib/python3.6/site-packages/sklearn/utils/validation.py:475: DataConversionWarning: Data with input dtype int64 was converted to float64.\n",
      "  warnings.warn(msg, DataConversionWarning)\n"
     ]
    }
   ],
   "source": [
    "# The holdout set has a missing value in the Fare column which\n",
    "# we'll fill with the mean.\n",
    "\n",
    "holdout[\"Fare\"] = holdout[\"Fare\"].fillna(train[\"Fare\"].mean())\n",
    "train['Embarked'] = train['Embarked'].fillna('S')\n",
    "holdout['Embarked'] = holdout['Embarked'].fillna('S')\n",
    "\n",
    "train = create_dummies(train, 'Embarked')\n",
    "holdout = create_dummies(holdout, 'Embarked')\n",
    "\n",
    "train['SibSp_scaled'] = minmax_scale(train['SibSp'])\n",
    "train['Parch_scaled'] = minmax_scale(train['Parch'])\n",
    "train['Fare_scaled'] = minmax_scale(train['Fare'])\n",
    "\n",
    "holdout['SibSp_scaled'] = minmax_scale(holdout['SibSp'])\n",
    "holdout['Parch_scaled'] = minmax_scale(holdout['Parch'])\n",
    "holdout['Fare_scaled'] = minmax_scale(holdout['Fare'])"
   ]
  },
  {
   "cell_type": "markdown",
   "metadata": {},
   "source": [
    "In order to select the best-performing features, we need a way to measure which of our features are relevant to our outcome - in this case, the survival of each passenger. One effective way is by training a logistic regression model using all of our features, and then looking at the coefficients of each feature.\n",
    "\n",
    "The scikit-learn LogisticRegression class has an attribute in which coefficients are stored after the model is fit, LogisticRegression.coef_. We first need to train our model, after which we can access this attribute.\n",
    "\n",
    "    lr = LogisticRegression()\n",
    "    lr.fit(train_X,train_y)\n",
    "    coefficients = lr.coef_\n",
    "\n",
    "The coef() method returns a NumPy array of coefficients, in the same order as the features that were used to fit the model. To make these easier to interpret, we can convert the coefficients to a pandas series, adding the column names as the index:\n",
    "\n",
    "    feature_importance = pd.Series(coefficients[0],\n",
    "                                   index=train_X.columns)\n",
    "\n",
    "We'll now fit a model and plot the coefficients for each feature.\n",
    "\n",
    "<b>Instructions</b><br>\n",
    "- Instantiate a LogisticRegression() object.\n",
    "- Fit the LogisticRegression object using the columns from the list columns from the train dataframe and the target column Survived.\n",
    "- Use the coef_ attribute to retrieve the coefficients of the features, and assign the results to coefficients.\n",
    "- Create a series object using coefficients, with the feature column names as the index and assign it to feature_importance.\n",
    "- Use the Series.plot.barh() method to plot the feature_importance series."
   ]
  },
  {
   "cell_type": "code",
   "execution_count": 23,
   "metadata": {},
   "outputs": [
    {
     "data": {
      "text/plain": [
       "<matplotlib.axes._subplots.AxesSubplot at 0x109c618d0>"
      ]
     },
     "execution_count": 23,
     "metadata": {},
     "output_type": "execute_result"
    },
    {
     "data": {
      "image/png": "[encoded data removed]",
      "text/plain": [
       "<matplotlib.figure.Figure at 0x109c7dbe0>"
      ]
     },
     "metadata": {},
     "output_type": "display_data"
    }
   ],
   "source": [
    "columns = ['Age_categories_Missing', 'Age_categories_Infant',\n",
    "       'Age_categories_Child', 'Age_categories_Teenager',\n",
    "       'Age_categories_Young Adult', 'Age_categories_Adult',\n",
    "       'Age_categories_Senior', 'Pclass_1', 'Pclass_2', 'Pclass_3',\n",
    "       'Sex_female', 'Sex_male', 'Embarked_C', 'Embarked_Q', 'Embarked_S',\n",
    "       'SibSp_scaled', 'Parch_scaled', 'Fare_scaled']\n",
    "\n",
    "lr = LogisticRegression()\n",
    "lr.fit(train[columns], train['Survived'])\n",
    "\n",
    "coefficients = lr.coef_\n",
    "feature_importance = pd.Series(coefficients[0], index=columns)\n",
    "\n",
    "feature_importance.plot.barh()"
   ]
  },
  {
   "cell_type": "markdown",
   "metadata": {},
   "source": [
    "The plot we generated in the last screen showed a range of both positive and negative values. Whether the value is positive or negative isn't as important in this case, relative to the magnitude of the value. If you think about it, this makes sense. A feature that indicates strongly whether a passenger died is just as useful as a feature that indicates strongly that a passenger survived, given they are mutually exclusive outcomes.\n",
    "\n",
    "To make things easier to interpret, we'll alter the plot to show all positive values, and have sorted the bars in order of size:\n",
    "\n",
    "    ordered_feature_importance = feature_importance.abs().sort_values()\n",
    "    ordered_feature_importance.plot.barh()\n",
    "    plt.show()\n",
    "\n",
    "<img src='kaggle/fig13.png'>\n",
    "\n",
    "<b>Instructions</b><br>\n",
    "- Instantiate a LogisticRegression() object.\n",
    "- Use the model_selection.cross_val_score() function and assign the returned object to scores, using:\n",
    "    - The columns specified in columns and all rows from the train dataframe.\n",
    "    - A cv parameter of 10.\n",
    "- Calculate the mean of the cross validation scores and assign the results to accuracy.\n",
    "- Use the print() function to display the variable accuracy."
   ]
  },
  {
   "cell_type": "code",
   "execution_count": 24,
   "metadata": {},
   "outputs": [],
   "source": [
    "from sklearn.model_selection import cross_val_score\n",
    "import numpy as np"
   ]
  },
  {
   "cell_type": "code",
   "execution_count": 25,
   "metadata": {},
   "outputs": [
    {
     "name": "stdout",
     "output_type": "stream",
     "text": [
      "0.8148019521053229\n"
     ]
    }
   ],
   "source": [
    "columns = ['Age_categories_Infant', 'SibSp_scaled', 'Sex_female', 'Sex_male',\n",
    "       'Pclass_1', 'Pclass_3', 'Age_categories_Senior', 'Parch_scaled']\n",
    "\n",
    "lr = LogisticRegression()\n",
    "scores = cross_val_score(lr, train[columns], train['Survived'], cv=10)\n",
    "accuracy = np.mean(scores)\n",
    "print(accuracy)"
   ]
  },
  {
   "cell_type": "markdown",
   "metadata": {},
   "source": [
    "The cross validation score of 81.48% is marginally higher than the cross validation score for the model we created in the previous mission, which had a score of 80.2%.\n",
    "\n",
    "Hopefully, this improvement will translate to previously unseen data. Let's train a model using the columns from the previous step, make some predictions on the holdout data and submit it to Kaggle for scoring.\n",
    "\n",
    "<b>Instructions</b><br>\n",
    "- Instantiate a LogisticRegression() object and fit it using all_X and all_y.\n",
    "- Use the predict() method to make predictions using the same columns in the holdout dataframe, and assign the result to holdout_predictions\n",
    "- Create a dataframe submission with two columns:\n",
    "    - PassengerId, with the values from the PassengerId column of the holdout dataframe.\n",
    "    - Survived, with the values from holdout_predictions.\n",
    "- Use the DataFrame.to_csv method to save the submission dataframe to the filename submission_1.csv."
   ]
  },
  {
   "cell_type": "code",
   "execution_count": 26,
   "metadata": {},
   "outputs": [],
   "source": [
    "columns = ['Age_categories_Infant', 'SibSp_scaled', 'Sex_female', 'Sex_male',\n",
    "       'Pclass_1', 'Pclass_3', 'Age_categories_Senior', 'Parch_scaled']\n",
    "\n",
    "all_X = train[columns]\n",
    "all_y = train['Survived']\n",
    "\n",
    "lr = LogisticRegression()\n",
    "lr.fit(all_X, all_y)\n",
    "holdout_predictions = lr.predict(holdout[columns])\n",
    "\n",
    "submission = pd.DataFrame({\"PassengerId\": holdout['PassengerId'],\n",
    "                           \"Survived\": holdout_predictions})\n",
    "\n",
    "submission.to_csv(\"submission1.csv\", index=False)"
   ]
  },
  {
   "cell_type": "markdown",
   "metadata": {},
   "source": [
    "When you submit it to Kaggle, you'll see that the store is 77.0%, which at the time of writing equates to jumping about 1,500 places up the leaderboard (this will vary as the leaderboard is always changing). It's only a small improvement, but we're moving in the right direction.\n",
    "\n",
    "A lot of the gains in accuracy in machine learning come from Feature Engineering. Feature engineering is the practice of creating new features from your existing data.\n",
    "\n",
    "One common way to engineer a feature is using a technique called binning. Binning is when you take a continuous feature, like the fare a passenger paid for their ticket, and separate it out into several ranges (or 'bins'), turning it into a categorical variable.\n",
    "\n",
    "This can be useful when there are patterns in the data that are non-linear and you're using a linear model (like logistic regression). We actually used binning in the previous mission when we dealt with the Age column, although we didn't use the term.\n",
    "\n",
    "Let's look at histograms of the Fare column for passengers who died and survived, and see if there are patterns that we can use when creating our bins.\n",
    "\n",
    "<img src='kaggle/fig14.png'>\n",
    "\n",
    "Looking at the values, it looks like we can separate the feature into four bins to capture some patterns from the data:\n",
    "\n",
    "- 0-12\n",
    "- 12-50\n",
    "- 50-100\n",
    "- 100+\n",
    "\n",
    "Like in the previous mission, we can use the pandas.cut() function to create our bins.\n",
    "\n",
    "<b>Instructions</b><br>\n",
    "- Using the process_age() function as a model, create a function process_fare() that uses the pandas cut() method to create bins for the Fare column and assign the results to a new column called Fare_categories.\n",
    "- We have already dealt with missing values in the Fare column, so you won't need the line that uses fillna().\n",
    "- Use the process_fare() function on both the train and holdout dataframes, creating the four 'bins':\n",
    "    - 0-12, for values between 0 and 12.\n",
    "    - 12-50, for values between 12 and 50.\n",
    "    - 50-100, for values between 50 and 100.\n",
    "    - 100+, for values between 100 and 1000.\n",
    "- Use the create_dummies() function we created earlier in the mission on both the train and holdout dataframes to create dummy columns based on our new fare bins."
   ]
  },
  {
   "cell_type": "code",
   "execution_count": 27,
   "metadata": {},
   "outputs": [],
   "source": [
    "def process_fare(df,cut_points,label_names):\n",
    "    df[\"Fare_categories\"] = pd.cut(df[\"Fare\"],cut_points,labels=label_names)\n",
    "    return df"
   ]
  },
  {
   "cell_type": "code",
   "execution_count": 28,
   "metadata": {},
   "outputs": [],
   "source": [
    "train = process_fare(train, [0, 12, 50, 100, 1000], ['0-12', '12-50', '50-100', '100+'])\n",
    "holdout = process_fare(holdout, [0, 12, 50, 100, 1000], ['0-12', '12-50', '50-100', '100+'])\n",
    "\n",
    "train = create_dummies(train, 'Fare_categories')\n",
    "holdout = create_dummies(holdout, 'Fare_categories')"
   ]
  },
  {
   "cell_type": "markdown",
   "metadata": {},
   "source": [
    "Another way to engineer features is by extracting data from text columns. Earlier, we decided that the Name and Cabin columns weren't useful by themselves, but what if there is some data there we could extract? Let's take a look at a random sample of rows from those two columns:\n",
    "\n",
    "<img src='kaggle/fig15.jpg', height=550, width=420>\n",
    "\n",
    "While in isolation the cabin number of each passenger will be reasonably unique to each, we can see that the format of the cabin numbers is one letter followed by two numbers. It seems like the letter is representative of the type of cabin, which could be useful data for us. We can use the pandas Series.str accessor and then subset the first character using brackets:\n",
    "\n",
    "\n",
    "    >>> train.head()[\"Cabin\"]\n",
    "   \n",
    "        0     NaN\n",
    "        1     C85\n",
    "        2     NaN\n",
    "        3    C123\n",
    "        4     NaN\n",
    "        Name: Cabin, dtype: object\n",
    "    \n",
    "    >>> train.head()[\"Cabin\"].str[0]\n",
    "    \n",
    "        0    NaN\n",
    "        1      C\n",
    "        2    NaN\n",
    "        3      C\n",
    "        4    NaN\n",
    "        Name: Cabin, dtype: object\n",
    "    \n",
    "Looking at the Name column, There is a title like 'Mr' or 'Mrs' within each, as well as some less common titles, like the 'Countess' from the final row of our table above. By spending some time researching the different titles, we can categorize these into six types:\n",
    "\n",
    "- Mr\n",
    "- Mrs\n",
    "- Master\n",
    "- Miss\n",
    "- Officer\n",
    "- Royalty\n",
    "\n",
    "We can use the Series.str.extract method and a regular expression to extract the title from each name and then use the Series.map() method and a predefined dictionary to simplify the titles.\n",
    "\n",
    "    titles = {\n",
    "        \"Mme\":         \"Mrs\",\n",
    "        \"Ms\":          \"Mrs\",\n",
    "        \"Mrs\" :        \"Mrs\",\n",
    "        \"Countess\":    \"Royalty\",\n",
    "        \"Lady\" :       \"Royalty\"\n",
    "    }\n",
    "\n",
    "    extracted_titles = train[\"Name\"].str.extract(' ([A-Za-z]+)\\.', expand=False)\n",
    "    train[\"Title\"] = extracted_titles.map(titles)\n",
    "\n",
    "<b>Instructions</b><br>\n",
    "- Use extract(), map() and the dictionary titles to categorize the titles for the holdout dataframe and assign the results to a new column Title.\n",
    "- For both the train and holdout dataframes:\n",
    "    - Use the str() accessor to extract the first letter from the Cabin column and assign the result to a new column Cabin_type.\n",
    "    - Use the fillna() method to fill any missing values in Cabin_type with \"Unknown\"\n",
    "- For the newly created columns Title and Cabin_type, use create_dummies() to create dummy columns for both the train and holdout dataframes."
   ]
  },
  {
   "cell_type": "code",
   "execution_count": 29,
   "metadata": {},
   "outputs": [
    {
     "name": "stderr",
     "output_type": "stream",
     "text": [
      "/usr/local/lib/python3.6/site-packages/pandas/core/indexing.py:194: SettingWithCopyWarning: \n",
      "A value is trying to be set on a copy of a slice from a DataFrame\n",
      "\n",
      "See the caveats in the documentation: http://pandas.pydata.org/pandas-docs/stable/indexing.html#indexing-view-versus-copy\n",
      "  self._setitem_with_indexer(indexer, value)\n"
     ]
    }
   ],
   "source": [
    "titles = {\n",
    "    \"Mr\" :         \"Mr\",\n",
    "    \"Mme\":         \"Mrs\",\n",
    "    \"Ms\":          \"Mrs\",\n",
    "    \"Mrs\" :        \"Mrs\",\n",
    "    \"Master\" :     \"Master\",\n",
    "    \"Mlle\":        \"Miss\",\n",
    "    \"Miss\" :       \"Miss\",\n",
    "    \"Capt\":        \"Officer\",\n",
    "    \"Col\":         \"Officer\",\n",
    "    \"Major\":       \"Officer\",\n",
    "    \"Dr\":          \"Officer\",\n",
    "    \"Rev\":         \"Officer\",\n",
    "    \"Jonkheer\":    \"Royalty\",\n",
    "    \"Don\":         \"Royalty\",\n",
    "    \"Sir\" :        \"Royalty\",\n",
    "    \"Countess\":    \"Royalty\",\n",
    "    \"Dona\":        \"Royalty\",\n",
    "    \"Lady\" :       \"Royalty\"\n",
    "}\n",
    "\n",
    "extracted_titles = train[\"Name\"].str.extract(' ([A-Za-z]+)\\.', expand=False)\n",
    "train[\"Title\"] = extracted_titles.map(titles)\n",
    "extracted_titles = holdout[\"Name\"].str.extract(' ([A-Za-z]+)\\.', expand=False)\n",
    "holdout['Title'] = extracted_titles.map(titles)\n",
    "\n",
    "train['Cabin_type'] = train['Cabin'].str[0]\n",
    "holdout['Cabin_type'] = holdout['Cabin'].str[0]\n",
    "train['Cabin_type'] = train['Cabin_type'].fillna('Unknown')\n",
    "holdout['Cabin_type'] = holdout['Cabin_type'].fillna('Unknown')\n",
    "\n",
    "# There is only one passenger with Cabin type T, so change to 'Unknown'\n",
    "train['Cabin_type'].iloc[train[train['Cabin_type'] == 'T'].index] = 'Unknown'\n",
    "\n",
    "train = create_dummies(train, ['Title', 'Cabin_type'])\n",
    "holdout = create_dummies(holdout, ['Title', 'Cabin_type'])"
   ]
  },
  {
   "cell_type": "markdown",
   "metadata": {},
   "source": [
    "We now have 34 possible feature columns we can use to train our model. One thing to be aware of as you start to add more features is a concept called collinearity. Collinearity occurs where more than one feature contains data that are similar.\n",
    "\n",
    "The effect of collinearity is that your model will overfit - you may get great results on your test data set, but then the model performs worse on unseen data (like the holdout set).\n",
    "\n",
    "One easy way to understand collinearity is with a simple binary variable like the Sex column in our dataset. Every passenger in our data is categorized as either male or female, so 'not male' is exactly the same as 'female'.\n",
    "\n",
    "As a result, when we created our two dummy columns from the categorical Sex column, we've actually created two columns with identical data in them. This will happen whenever we create dummy columns, and is called the dummy variable trap. The easy solution is to choose one column to drop any time you make dummy columns.\n",
    "\n",
    "Collinearity can happen in other places, too. A common way to spot collinearity is to plot correlations between each pair of variables in a heatmap. An example of this style of plot is below:\n",
    "\n",
    "<img src='kaggle/fig15.png'>\n",
    "\n",
    "The darker squares, whether the darker red or darker blue, indicate pairs of columns that have higher correlation and may lead to collinearity. The easiest way to produce this plot is using the DataFrame.corr() method to produce a correlation matrix, and then use the Seaborn library's seaborn.heatmap() function to plot the values:\n",
    "\n",
    "\n",
    "    import seaborn as sns\n",
    "    correlations = train.corr()\n",
    "    sns.heatmap(correlations)\n",
    "    plt.show()\n",
    "\n",
    "The example plot above was produced using a code example from seaborn's documentation which produces an correlation heatmap that is easier to interpret than the default output of heatmap(). We've created a function containing that code to make it easier for you to plot the correlations between the features in our data.\n",
    "\n",
    "<b>Instructions</b>\n",
    "- Use the plot_correlation_heatmap() function to produce a heatmap for the train dataframe, using only the features in the list columns."
   ]
  },
  {
   "cell_type": "code",
   "execution_count": 30,
   "metadata": {},
   "outputs": [
    {
     "data": {
      "image/png": "[encoded data removed]",
      "text/plain": [
       "<matplotlib.figure.Figure at 0x109c7da20>"
      ]
     },
     "metadata": {},
     "output_type": "display_data"
    }
   ],
   "source": [
    "def plot_correlation_heatmap(df):\n",
    "    corr = df.corr()\n",
    "    \n",
    "    sns.set(style=\"white\")\n",
    "    mask = np.zeros_like(corr, dtype=np.bool)\n",
    "    mask[np.triu_indices_from(mask)] = True\n",
    "\n",
    "    f, ax = plt.subplots(figsize=(11, 9))\n",
    "    cmap = sns.diverging_palette(220, 10, as_cmap=True)\n",
    "\n",
    "\n",
    "    sns.heatmap(corr, mask=mask, cmap=cmap, vmax=.3, center=0,\n",
    "            square=True, linewidths=.5, cbar_kws={\"shrink\": .5})\n",
    "    plt.show()\n",
    "\n",
    "columns = ['Age_categories_Missing', 'Age_categories_Infant',\n",
    "       'Age_categories_Child', 'Age_categories_Teenager',\n",
    "       'Age_categories_Young Adult', 'Age_categories_Adult',\n",
    "       'Age_categories_Senior', 'Pclass_1', 'Pclass_2', 'Pclass_3',\n",
    "       'Sex_female', 'Sex_male', 'Embarked_C', 'Embarked_Q', 'Embarked_S',\n",
    "       'SibSp_scaled', 'Parch_scaled', 'Fare_categories_0-12',\n",
    "       'Fare_categories_12-50','Fare_categories_50-100', 'Fare_categories_100+',\n",
    "       'Title_Master', 'Title_Miss', 'Title_Mr','Title_Mrs', 'Title_Officer',\n",
    "       'Title_Royalty', 'Cabin_type_A','Cabin_type_B', 'Cabin_type_C', 'Cabin_type_D',\n",
    "       'Cabin_type_E','Cabin_type_F', 'Cabin_type_G', 'Cabin_type_Unknown']\n",
    "\n",
    "plot_correlation_heatmap(train[columns])"
   ]
  },
  {
   "cell_type": "markdown",
   "metadata": {},
   "source": [
    "We can see that there is a high correlation between Sex_female/Sex_male and Title_Miss/Title_Mr/Title_Mrs. We will remove the columns Sex_female and Sex_male since the title data may be more nuanced.\n",
    "\n",
    "Apart from that, we should remove one of each of our dummy variables to reduce the collinearity in each. We'll remove:\n",
    "\n",
    "- Pclass_2\n",
    "- Age_categories_Teenager\n",
    "- Fare_categories_12-50\n",
    "- Title_Master\n",
    "- Cabin_type_A\n",
    "\n",
    "In an earlier step, we manually used the logit coefficients to select the most relevant features. An alternate method is to use one of scikit-learn's inbuilt feature selection classes. We will be using the feature_selection.RFECV class which performs recursive feature elimination with cross-validation.\n",
    "\n",
    "The RFECV class starts by training a model using all of your features and scores it using cross validation. It then uses the logit coefficients to eliminate the least important feature, and trains and scores a new model. At the end, the class looks at all the scores, and selects the set of features which scored highest.\n",
    "\n",
    "Like the LogisticRegression class, RFECV must first be instantiated and then fit. The first parameter when creating the RFECV object must be an estimator, and we need to use the cv parameter to specific the number of folds for cross-validation.\n",
    "\n",
    "    from sklearn.feature_selection import RFECV\n",
    "    lr = LogisticRegression()\n",
    "    selector = RFECV(lr,cv=10)\n",
    "    selector.fit(all_X,all_y)\n",
    "\n",
    "Once the RFECV object has been fit, we can use the RFECV.support_ attribute to access a boolean mask of True and False values which we can use to generate a list of optimized columns:\n",
    "\n",
    "    optimized_columns = all_X.columns[selector.support_]\n",
    "\n",
    "<b>Instructions</b><br>\n",
    "- Instantiate a LogisticRegression() object, lr.\n",
    "- Instantiate a RFECV() object selector using the newly created lr object and cv=10 as parameters.\n",
    "- Use the fit() method to fit selector using all_X and all_y\n",
    "- Use the support_ attribute selector to subset all_X.columns, and assign the result to optimized_columns."
   ]
  },
  {
   "cell_type": "code",
   "execution_count": 31,
   "metadata": {},
   "outputs": [],
   "source": [
    "from sklearn.feature_selection import RFECV"
   ]
  },
  {
   "cell_type": "code",
   "execution_count": 32,
   "metadata": {},
   "outputs": [],
   "source": [
    "columns = ['Age_categories_Missing', 'Age_categories_Infant',\n",
    "       'Age_categories_Child', 'Age_categories_Young Adult',\n",
    "       'Age_categories_Adult', 'Age_categories_Senior', 'Pclass_1', 'Pclass_3',\n",
    "       'Embarked_C', 'Embarked_Q', 'Embarked_S', 'SibSp_scaled',\n",
    "       'Parch_scaled', 'Fare_categories_0-12', 'Fare_categories_50-100',\n",
    "       'Fare_categories_100+', 'Title_Miss', 'Title_Mr', 'Title_Mrs',\n",
    "       'Title_Officer', 'Title_Royalty', 'Cabin_type_B', 'Cabin_type_C',\n",
    "       'Cabin_type_D', 'Cabin_type_E', 'Cabin_type_F', 'Cabin_type_G',\n",
    "       'Cabin_type_Unknown']\n",
    "\n",
    "all_X = train[columns]\n",
    "all_y = train[\"Survived\"]\n",
    "\n",
    "lr = LogisticRegression()\n",
    "selector = RFECV(lr, cv=10)\n",
    "selector.fit(all_X, all_y)\n",
    "\n",
    "optimized_columns = all_X.columns[selector.support_]"
   ]
  },
  {
   "cell_type": "code",
   "execution_count": 33,
   "metadata": {},
   "outputs": [
    {
     "data": {
      "text/plain": [
       "Index(['SibSp_scaled', 'Title_Mr', 'Title_Officer', 'Cabin_type_Unknown'], dtype='object')"
      ]
     },
     "execution_count": 33,
     "metadata": {},
     "output_type": "execute_result"
    }
   ],
   "source": [
    "optimized_columns"
   ]
  },
  {
   "cell_type": "markdown",
   "metadata": {},
   "source": [
    "Let's train a model using cross validation using these columns and check the score.\n",
    "\n",
    "<b>Instructions</b><br>\n",
    "- Instantiate LogisticRegression() object.\n",
    "- Use the model_selection.cross_val_score() function and assign the results to scores, using:\n",
    "all_X and all_y.\n",
    "- A cv parameter of 10.\n",
    "- Calculate the mean of the cross validation scores and assign the results to accuracy."
   ]
  },
  {
   "cell_type": "code",
   "execution_count": 34,
   "metadata": {},
   "outputs": [
    {
     "name": "stdout",
     "output_type": "stream",
     "text": [
      "Accuracy: 0.8226549199863807\n"
     ]
    }
   ],
   "source": [
    "all_X = train[optimized_columns]\n",
    "all_y = train[\"Survived\"]\n",
    "\n",
    "lr = LogisticRegression()\n",
    "scores = cross_val_score(lr, all_X, all_y, cv=10)\n",
    "accuracy = np.mean(scores)\n",
    "\n",
    "print('Accuracy:', accuracy)"
   ]
  },
  {
   "cell_type": "markdown",
   "metadata": {},
   "source": [
    "This four-feature model scores 82.3%, a modest improvement compared to the 81.5% from our earlier model. Let's train these columns on the holdout set, save a submission file and see what score we get from Kaggle.\n",
    "\n",
    "<b>Instructions</b><br>\n",
    "- Instantiate a LogisticRegression() object and fit it using all_X and all_y.\n",
    "- Use the predict() method to make predictions using the same columns in the holdout dataframe, and assign the result to holdout_predictions.\n",
    "- Create a dataframe submission with two columns:\n",
    "    - PassengerId, with the values from the PassengerId column of the holdout dataframe.\n",
    "    - Survived, with the values from holdout_predictions.\n",
    "- Use the DataFrame.to_csv method to save the submission dataframe to the filename submission_2.csv."
   ]
  },
  {
   "cell_type": "code",
   "execution_count": 35,
   "metadata": {},
   "outputs": [],
   "source": [
    "lr = LogisticRegression()\n",
    "lr.fit(all_X, all_y)\n",
    "holdout_predictions = lr.predict(holdout[optimized_columns])\n",
    "\n",
    "submission = pd.DataFrame({'PassengerId': holdout['PassengerId'],\n",
    "                           'Survived': holdout_predictions})\n",
    "\n",
    "submission.to_csv('submission_2.csv', index=False)"
   ]
  },
  {
   "cell_type": "markdown",
   "metadata": {},
   "source": [
    "You can download the submission file we just created here and submit it to Kaggle. The score this submission gets is 78.0%, which is equivalent to a jump of roughly 1,000 spots (again, this will vary as submission are constantly being made to the leaderboard).\n",
    "\n",
    "By preparing, engineering and selecting features, we have increased our accuracy by 2.4%. When working in Kaggle competitions, you should spend a lot of time experimenting with features, particularly feature engineering.\n",
    "\n",
    "Here are some ideas that you can use to work with features for this competition:\n",
    "\n",
    "- Use SibSp and Parch to explore total relatives onboard.\n",
    "- Create combinations of multiple columns, for instance Pclass + Sex.\n",
    "- See if you can extract useful data out of the Ticket column.\n",
    "- Try different combinations of features to see if you can identify features that overfit less than others.\n",
    "- In the next mission in this course, we'll look at selecting and optimizing different models to improve our score."
   ]
  },
  {
   "cell_type": "markdown",
   "metadata": {},
   "source": [
    "# Model Selection and Tuning"
   ]
  },
  {
   "cell_type": "markdown",
   "metadata": {},
   "source": [
    "In the previous mission, we worked to optimize our predictions by creating and selecting the features used to train our model. The other half of the optimization puzzle is to optimize the model itself— or more specifically, the algorithm used to train our model.\n",
    "\n",
    "So far, we've been using the logistic regression algorithm to train our models, however there are hundreds of different machine learning algorithms from which we can choose. Each algorithm has different strengths and weaknesses, and so we need to select the algorithm that works best with our specific data— in this case our Kaggle competition.\n",
    "\n",
    "The process of selecting the algorithm which gives the best predictions for your data is called model selection.\n",
    "\n",
    "In this mission, we're going work with two new algorithms: k-nearest neighbors and random forests.\n",
    "\n",
    "Before we begin, we'll need to import in the data. To save time, we have saved the features we created in the previous mission as CSV files, train_modified.csv and holdout_modified.csv."
   ]
  },
  {
   "cell_type": "code",
   "execution_count": 36,
   "metadata": {},
   "outputs": [],
   "source": [
    "# Instead just use the same features in the train_modified and holdout_modified dfs.\n",
    "\n",
    "train_columns = ['Survived', 'PassengerId', 'Age_categories_Missing',\n",
    "       'Age_categories_Infant', 'Age_categories_Child',\n",
    "       'Age_categories_Teenager', 'Age_categories_Young Adult',\n",
    "       'Age_categories_Adult', 'Age_categories_Senior', 'Pclass_1', 'Pclass_2',\n",
    "       'Pclass_3', 'Sex_female', 'Sex_male', 'Embarked_C', 'Embarked_Q',\n",
    "       'Embarked_S', 'SibSp_scaled', 'Parch_scaled', 'Fare_scaled',\n",
    "       'Fare_categories_0-12', 'Fare_categories_12-50',\n",
    "       'Fare_categories_50-100', 'Fare_categories_100+', 'Title_Master',\n",
    "       'Title_Miss', 'Title_Mr', 'Title_Mrs', 'Title_Officer', 'Title_Royalty',\n",
    "       'Cabin_type_A', 'Cabin_type_B', 'Cabin_type_C', 'Cabin_type_D',\n",
    "       'Cabin_type_E', 'Cabin_type_F', 'Cabin_type_G', 'Cabin_type_Unknown']\n",
    "\n",
    "holdout_columns = ['PassengerId', 'Age_categories_Missing', 'Age_categories_Infant',\n",
    "       'Age_categories_Child', 'Age_categories_Teenager',\n",
    "       'Age_categories_Young Adult', 'Age_categories_Adult',\n",
    "       'Age_categories_Senior', 'Pclass_1', 'Pclass_2', 'Pclass_3',\n",
    "       'Sex_female', 'Sex_male', 'Embarked_C', 'Embarked_Q', 'Embarked_S',\n",
    "       'SibSp_scaled', 'Parch_scaled', 'Fare_scaled', 'Fare_categories_0-12',\n",
    "       'Fare_categories_12-50', 'Fare_categories_50-100',\n",
    "       'Fare_categories_100+', 'Title_Master', 'Title_Miss', 'Title_Mr',\n",
    "       'Title_Mrs', 'Title_Officer', 'Title_Royalty', 'Cabin_type_A',\n",
    "       'Cabin_type_B', 'Cabin_type_C', 'Cabin_type_D', 'Cabin_type_E',\n",
    "       'Cabin_type_F', 'Cabin_type_G', 'Cabin_type_Unknown']"
   ]
  },
  {
   "cell_type": "code",
   "execution_count": 37,
   "metadata": {},
   "outputs": [],
   "source": [
    "train = train[train_columns]\n",
    "holdout = holdout[holdout_columns]"
   ]
  },
  {
   "cell_type": "markdown",
   "metadata": {},
   "source": [
    "We're going to train our models using all the columns in the train dataframe. This will cause a small amount of overfitting due to collinearity (as we discussed in the previous mission), but having more features will allow us to more thoroughly compare algorithms.\n",
    "\n",
    "So we have something to compare to, we're going to train a logistic regression model like in the previous two missions. We'll use cross validation to get a baseline score.\n",
    "\n",
    "<b>Instructions</b><br>\n",
    "- Instantiate a linear_model.LogisticRegression class.\n",
    "- Use the model_selection.cross_val_score() function to train and test a model assigning the result to scores, using:\n",
    "    - The LogisticRegression object you just created\n",
    "    - all_X and all_y as the the X and y parameters\n",
    "    - 10 folds\n",
    "- Calculate the mean of scores and assign the result to accuracy_lr."
   ]
  },
  {
   "cell_type": "code",
   "execution_count": 38,
   "metadata": {},
   "outputs": [],
   "source": [
    "all_X = train.drop(['Survived','PassengerId'], axis=1)\n",
    "all_y = train['Survived']"
   ]
  },
  {
   "cell_type": "code",
   "execution_count": 39,
   "metadata": {},
   "outputs": [
    {
     "name": "stdout",
     "output_type": "stream",
     "text": [
      "Accuracy (LogReg): 0.823891442515038\n"
     ]
    }
   ],
   "source": [
    "lr = LogisticRegression()\n",
    "\n",
    "scores = cross_val_score(lr, all_X, all_y, cv=10)\n",
    "accuracy_lr = np.mean(scores)\n",
    "print('Accuracy (LogReg):', accuracy_lr)"
   ]
  },
  {
   "cell_type": "markdown",
   "metadata": {},
   "source": [
    "The logistic regression baseline model from the previous screen scored 82.4%.\n",
    "\n",
    "<img src='kaggle/fig16.jpg', height=124, width=540>\n",
    "\n",
    "The logistic regression algorithm works by calculating linear relationships between the features and the target variable and using those to make predictions. Let's look at an algorithm that makes predictions using a different method.\n",
    "\n",
    "The k-nearest neighbors algorithm finds the observations in our training set most similar to the observation in our test set, and uses the average outcome of those 'neighbor' observations to make a prediction. The 'k' is the number of neighbor observations used to make the prediction.\n",
    "\n",
    "The plots below shows three simple k-nearest neighbors models where there are two features shown on each axis, and two outcomes, red and green.\n",
    "\n",
    "<img src='kaggle/fig17.svg'>\n",
    "\n",
    "Simple k-nearest-neighbors classification algorithm\n",
    "\n",
    "- In the first plot, the value of k is 1, so the closest 1 neighbour to our gray dot is used, green, making the prediction green.\n",
    "- In the second plot, the value of k is 3, so the closest 3 neighbours to our gray dot are used, green, making the prediction red (2 red vs 1 green).\n",
    "- In the third plot, the value of k is 5, so the closest 5 neighbours to our gray dot are used, green, making the prediction red (3 red vs 2 green).\n",
    "- If you'd like to learn more about the k-nearest neighbors algorithm, you might like to check out our free Introduction to K-Nearest Neighbors mission.\n",
    "\n",
    "Just like it does for logistic regression, scikit-learn has a class that makes it easy to use k-nearest neighbors to make predictions, neighbors.KNeighborsClassifier.\n",
    "\n",
    "Scikit-learn's use of object-oriented design makes it easy to substitute one model for another. The syntax to instantiate a KNeighborsClassifier is very similar to the syntax we use for logistic regression.\n",
    "\n",
    "    from sklearn.neighbors import KNeighborsClassifier\n",
    "    knn = KNeighborsClassifier(n_neighbors=1)\n",
    "\n",
    "The optional n_neighbors argument sets the value of k when predictions are made. The default value of n_neighbors is 5, but we're going to start by building a simple model that uses the closest neighbor to make our predictions.\n",
    "\n",
    "<b>Instructions</b><br>\n",
    "- Instantiate a neighbors.KNeighborsClassifier object, setting the n_neighbors argument to 1.\n",
    "- Use the model_selection.cross_val_score() function to train and test a model assigning the result to scores, using:\n",
    "    - The KNeighborsClassifier object you just created.\n",
    "    - all_X and all_y as the the X and y parameters.\n",
    "    - 10 folds.\n",
    "- Calculate the mean of scores and assign the result to accuracy_knn."
   ]
  },
  {
   "cell_type": "code",
   "execution_count": 40,
   "metadata": {},
   "outputs": [],
   "source": [
    "from sklearn.neighbors import KNeighborsClassifier"
   ]
  },
  {
   "cell_type": "code",
   "execution_count": 41,
   "metadata": {},
   "outputs": [
    {
     "name": "stdout",
     "output_type": "stream",
     "text": [
      "Accuracy (KNN): 0.7846146861877199\n"
     ]
    }
   ],
   "source": [
    "knn = KNeighborsClassifier(n_neighbors=1)\n",
    "\n",
    "scores = cross_val_score(knn, all_X, all_y, cv=10)\n",
    "accuracy_knn = np.mean(scores)\n",
    "print('Accuracy (KNN):', accuracy_knn)"
   ]
  },
  {
   "cell_type": "markdown",
   "metadata": {},
   "source": [
    "The k-nearest neighbors model we trained in the previous screen had an accuracy score of 78.6%, worse than our baseline score of 82.4%.\n",
    "\n",
    "<img src='kaggle/fig18.jpg', height=150, width=570>\n",
    "\n",
    "Besides pure model selection, we can vary the settings of each model— for instance the value of k in our k-nearest neighbors model. This is called hyperparameter optimization.\n",
    "\n",
    "We can use a loop and Python's inbuilt range() class to iterate through different values for k and calculate the accuracy score for each different value. We will only want to test odd values for k to avoid ties, where both 'survived' and 'died' outcomes would have the same number of neighbors.\n",
    "\n",
    "This is the syntax we would use to get odd values between 1-7 from range():\n",
    "\n",
    "    >>>  for k in range(1,8,2):\n",
    "    ...      print(k)\n",
    "         1\n",
    "         3\n",
    "         5\n",
    "         7\n",
    "\n",
    "Note that we use the arguments (1,8,2) to get values between 1 and 7, since the created range() object contains numbers up to but not including the 8.\n",
    "\n",
    "Let's use this technique to calculate the accuracy of our model for values of k from 1-49, storing the results in a dictionary.\n",
    "\n",
    "To make the results easier to understand, we'll finish by plotting the scores. We have provided a helper function, plot_dict() which you can use to easily plot the dictionary.\n",
    "\n",
    "<i>Note that we expect this step to take a while to run, as we are training 250 models in total (10 cross validation models for each of 25 values of k).</i>\n",
    "\n",
    "<b>Instructions</b><br>\n",
    "- Use a for loop and the range class to iterate over odd values of k from 1-49, and in each iteration:\n",
    "    - Instantiate a KNeighborsClassifier object with the value of k for the n_neighbors argument.\n",
    "    - Use cross_val_score to create a list of scores using the newly created KNeighborsClassifier object, using all_X, all_y, and cv=10 as the arguments.\n",
    "    - Calculate the mean of the list of scores.\n",
    "    - Add the mean of the scores to the dictionary knn_scores, using k for the key.\n",
    "- Use the plot_dict() helper function to plot the knn_scores dictionary."
   ]
  },
  {
   "cell_type": "code",
   "execution_count": 42,
   "metadata": {},
   "outputs": [],
   "source": [
    "def plot_dict(dictionary):\n",
    "    pd.Series(dictionary).plot.bar(figsize=(9,6), ylim=(0.78,0.83),rot=0)\n",
    "    plt.show()"
   ]
  },
  {
   "cell_type": "code",
   "execution_count": 43,
   "metadata": {},
   "outputs": [
    {
     "data": {
      "image/png": "[encoded data removed]",
      "text/plain": [
       "<matplotlib.figure.Figure at 0x1091a28d0>"
      ]
     },
     "metadata": {},
     "output_type": "display_data"
    }
   ],
   "source": [
    "knn_scores = dict()\n",
    "\n",
    "for k in range(1, 50, 2):\n",
    "    knn = KNeighborsClassifier(n_neighbors=k)\n",
    "    scores = cross_val_score(knn, all_X, all_y, cv=10)\n",
    "    mean_score = np.mean(scores)\n",
    "    knn_scores[k] = mean_score\n",
    "    \n",
    "plot_dict(knn_scores)"
   ]
  },
  {
   "cell_type": "markdown",
   "metadata": {},
   "source": [
    "Looking at our plot from the previous screen we can see that a k value of 19 gave us our best score, and checking the knn_scores dictionary we can see that the score was 82.4%, identical to our baseline (if we didn't round the numbers you would see that it's actually 0.01% less accurate).\n",
    "\n",
    "<img src='kaggle/fig19.jpg', height=205, width=580>\n",
    "\n",
    "The technique we just used is called grid search - we train a number of models across a 'grid' of values and then searched for the model that gave us the highest accuracy.\n",
    "\n",
    "Scikit-learn has a class to perform grid search, model_selection.GridSearchCV(). The 'CV' in the name indicates that we're performing both grid search and cross validation at the same time.\n",
    "\n",
    "By creating a dictionary of parameters and possible values and passing it to the GridSearchCV object you can automate the process. Here's what the code from the previous screen would look like, when implemented using the GridSearchCV class.\n",
    "\n",
    "    from sklearn.model_selection import GridSearchCV\n",
    "\n",
    "    knn = KNeighborsClassifier()\n",
    "\n",
    "    hyperparameters = {\n",
    "        \"n_neighbors\": range(1,50,2)\n",
    "    }\n",
    "    grid = GridSearchCV(knn, param_grid=hyperparameters, cv=10)\n",
    "    grid.fit(all_X, all_y)\n",
    "\n",
    "    print(grid.best_params_)\n",
    "    print(grid.best_score_)\n",
    "\n",
    "Running this code will produce the following output:\n",
    "\n",
    "    {'n_neighbors': 19}\n",
    "    0.82379349046\n",
    "\n",
    "Our final step was to print the GridSearchCV.best_params_ and GridSearchCV.best_score_ attributes to retrieve the parameters of the best-performing model, and the score it achieved.\n",
    "\n",
    "We can also use GridSearchCV to try combinations of different hyperparameters. Say we wanted to test values of \"ball_tree\", \"kd_tree\", and \"brute\" for the algorithm parameter and values of 1, 3, and 5 for the n_neighbors algorithm parameter. GridSearchCV would train and test 9 models (3 for the first hyperparameter times 3 for the second hyperparameter), shown in the diagram below.\n",
    "\n",
    "<img src='kaggle/fig20.svg'>\n",
    "\n",
    "Let's use GridSearchCV to turbo-charge our search for the best performing parameters for our model, by testing 40 combinations of three different hyperparameters.\n",
    "\n",
    "We have chosen the specific hyperparameters by consulting the documentation for the KNeighborsClassifier class.\n",
    "\n",
    "<b>Instructions</b>\n",
    "- Instantiate a KNeighborsClassifier object.\n",
    "- Instantiate a GridSearchCV object, using:\n",
    "    - The KNeighborsClassifier object you just created as the first (unnamed) argument\n",
    "    - The hyperparameters dictionary for the param_grid\n",
    "    - A cv of 10\n",
    "- Fit the GridSearchCV object using all_X and all_y.\n",
    "- Assign the parameters of the best performing model to best_params\n",
    "- Assign the score of the of the best performing model to best_score"
   ]
  },
  {
   "cell_type": "code",
   "execution_count": 44,
   "metadata": {},
   "outputs": [],
   "source": [
    "from sklearn.model_selection import GridSearchCV"
   ]
  },
  {
   "cell_type": "code",
   "execution_count": 45,
   "metadata": {},
   "outputs": [
    {
     "name": "stdout",
     "output_type": "stream",
     "text": [
      "Best Parameters: {'algorithm': 'brute', 'n_neighbors': 5, 'p': 1, 'weights': 'uniform'}\n",
      "Best Score: 0.8282828282828283\n"
     ]
    }
   ],
   "source": [
    "hyperparameters = {\n",
    "    \"n_neighbors\": range(1,20,2),\n",
    "    \"weights\": [\"distance\", \"uniform\"],\n",
    "    \"algorithm\": ['brute'],\n",
    "    \"p\": [1,2]\n",
    "}\n",
    "\n",
    "knn = KNeighborsClassifier()\n",
    "grid = GridSearchCV(knn, param_grid=hyperparameters, cv=10)\n",
    "grid.fit(all_X, all_y)\n",
    "\n",
    "best_params = grid.best_params_\n",
    "best_score = grid.best_score_\n",
    "\n",
    "print('Best Parameters:', best_params)\n",
    "print('Best Score:', best_score)"
   ]
  },
  {
   "cell_type": "markdown",
   "metadata": {},
   "source": [
    "The cross-validation score for the best performing model was 82.8%, better than our baseline model.\n",
    "\n",
    "<img src='kaggle/fig21.jpg', height=283, width=586>\n",
    "\n",
    "We can use the GridSearchCV.best_estimator_ attribute to retrieve a trained model with the best-performing hyperparameters. This code:\n",
    "\n",
    "    best_knn = grid.best_estimator_\n",
    "\n",
    "is equivalent to this code where we manually specify the hyperparameters and train the model:\n",
    "\n",
    "    best_knn = KNeighborsClassifier(p=1,algorithm='brute',n_neighbors=5,\n",
    "                         weights='uniform')\n",
    "    best_knn.fit(all_X,all_y)\n",
    "\n",
    "Lets use that model to make predictions on the holdout set and submit those predictions to Kaggle to see if we have improved overall.\n",
    "\n",
    "<b>Instructions</b><br>\n",
    "- Make predictions on the data from holdout_no_id using the best_knn model, and assign the result to holdout_predictions.\n",
    "- Create a dataframe submission with two columns:\n",
    "    - PassengerId, with the values from the PassengerId column of the holdout dataframe.\n",
    "    - Survived, with the values from holdout_predictions.\n",
    "- Use the DataFrame.to_csv method to save the submission dataframe to the filename submission_1.csv."
   ]
  },
  {
   "cell_type": "code",
   "execution_count": 46,
   "metadata": {},
   "outputs": [],
   "source": [
    "holdout_no_id = holdout.drop(['PassengerId'], axis=1)"
   ]
  },
  {
   "cell_type": "code",
   "execution_count": 47,
   "metadata": {},
   "outputs": [],
   "source": [
    "best_knn = grid.best_estimator_\n",
    "holdout_predictions = best_knn.predict(holdout_no_id)\n",
    "submission = pd.DataFrame({'PassengerId': holdout['PassengerId'],\n",
    "                           'Survived': holdout_predictions})\n",
    "submission.to_csv('submission_1.csv', index=False)"
   ]
  },
  {
   "cell_type": "markdown",
   "metadata": {},
   "source": [
    "When you submit this to Kaggle, you'll see it scores 75.6%, less than our best submission of 78.0%. While our model could be overfitting due to including all columns, it also seems like k-nearest neighbors may not be the best algorithm choice.\n",
    "\n",
    "<img src='kaggle/fig22.jpg', height=275, width=590>\n",
    "\n",
    "Let's try another algorithm called random forests. Random forests is a specific type of decision tree algorithm. You have likely seen decision trees before as part of flow charts or infographics. Say we wanted to build a decision tree to help us categorize an object as either being 'hotdog' or 'not hotdog', we could construct a decision tree like the below:\n",
    "\n",
    "<img src='kaggle/fig23.svg'>\n",
    "\n",
    "Decision tree algorithms attempt to build the most efficient decision tree based on the training data, and then use that tree to make future predictions. If you'd like to learn about decision trees and random forests in detail, you should check out our decision trees course.\n",
    "\n",
    "Scikit-learn contains a class for classification using the random forest algorithm, ensemble.RandomForestClassifier. Here's how to fit a model and make predictions using the RandomForestClassifier class:\n",
    "\n",
    "    from sklearn.ensemble import RandomForestClassifier\n",
    "\n",
    "    clf = RandomForestClassifier(random_state=1)\n",
    "    clf.fit(train_X,train_y)\n",
    "    predictions = clf.predict(test_X)\n",
    "\n",
    "Because the algorithm includes randomization, we have to set the random_state parameter to make sure our results are reproducible.\n",
    "\n",
    "Let's use a RandomForestClassifier object with cross_val_score() as we did earlier to see how the algorithm performs with the default hyperparameters.\n",
    "\n",
    "<b>Instructions</b><br>\n",
    "- Instantiate a RandomForestClassifier object, setting the random_state parameter to 1.\n",
    "- Use the cross_val_score() function to generate a set of scores and assign the result to scores, using:\n",
    "    - The RandomForestClassifer object you just created as the estimator\n",
    "    - all_X and all_y for the train and test data\n",
    "    - A cv value of 10\n",
    "- Calculate the mean of scores and assign the result to accuracy_rf"
   ]
  },
  {
   "cell_type": "code",
   "execution_count": 48,
   "metadata": {},
   "outputs": [],
   "source": [
    "from sklearn.ensemble import RandomForestClassifier"
   ]
  },
  {
   "cell_type": "code",
   "execution_count": 49,
   "metadata": {},
   "outputs": [
    {
     "name": "stdout",
     "output_type": "stream",
     "text": [
      "Accuracy (Random Forest): 0.8125924980138463\n"
     ]
    }
   ],
   "source": [
    "rf = RandomForestClassifier(random_state=1)\n",
    "scores = cross_val_score(rf, all_X, all_y, cv=10)\n",
    "accuracy_rf = np.mean(scores)\n",
    "print('Accuracy (Random Forest):', accuracy_rf)"
   ]
  },
  {
   "cell_type": "markdown",
   "metadata": {},
   "source": [
    "Using the default settings, our random forests model obtained a cross validation score of 80.7%.\n",
    "\n",
    "<img src='kaggle/fig24.jpg', height=337, width=588>\n",
    "\n",
    "Just like we did with the k-nearest neighbors model, we can use GridSearchCV to test a variety of hyperparameters to find the best performing model.\n",
    "\n",
    "The best way to see a list of available hyperparameters is by checking the documentation for the classifier— in this case, the documentation for RandomForestClassifier. Let's use grid search to test out combinations of the following hyperparameters:\n",
    "\n",
    "- criterion: \"entropy\" or \"gini\"\n",
    "- max_depth: 5 or 10\n",
    "- max_features: \"log2\" or \"sqrt\"\n",
    "- min_samples_leaf: 1 or 5\n",
    "- min_samples_split: 3 or 5\n",
    "- n_estimators: 6 or 9\n",
    "\n",
    "<b>Instructions</b><br>\n",
    "- Instantiate a RandomForestClassifer object, setting the random_state parameter to 1.\n",
    "- Instantiate a GridSearchCV object, using:\n",
    "    - The RandomForestClassifer object you just created as the first (unnamed) argument\n",
    "    - A dictionary of hyperparameters that matches the list above for the param_grid argument\n",
    "    - A cv of 10.\n",
    "- Fit the GridSearchCV object using all_X or all_y.\n",
    "- Assign the parameters of the best performing model to best_params\n",
    "- Assign the score of the of the best performing model to best_score"
   ]
  },
  {
   "cell_type": "code",
   "execution_count": 50,
   "metadata": {},
   "outputs": [
    {
     "name": "stdout",
     "output_type": "stream",
     "text": [
      "Best Parameters: {'criterion': 'entropy', 'max_depth': 8, 'max_features': 'log2', 'min_samples_leaf': 1, 'min_samples_split': 7, 'n_estimators': 12}\n",
      "Best Score: 0.8428731762065096\n"
     ]
    }
   ],
   "source": [
    "hyperparameters = {'criterion': ['entropy', 'gini'],\n",
    "                   'max_depth': [5, 6, 7, 8, 9, 10],\n",
    "                   'max_features': ['log2', 'sqrt'],\n",
    "                   'min_samples_leaf': [1, 3, 5],\n",
    "                   'min_samples_split': [3, 5, 7],\n",
    "                   'n_estimators': [6, 9, 12]}\n",
    "\n",
    "rf = RandomForestClassifier(random_state=1)\n",
    "grid = GridSearchCV(rf, param_grid=hyperparameters, cv=10)\n",
    "grid.fit(all_X, all_y)\n",
    "\n",
    "best_params = grid.best_params_\n",
    "best_score = grid.best_score_\n",
    "\n",
    "print('Best Parameters:', best_params)\n",
    "print('Best Score:', best_score)"
   ]
  },
  {
   "cell_type": "markdown",
   "metadata": {},
   "source": [
    "The cross-validation score for the best performing model was 84.3%, making it the best cross-validation score we've obtained in this mission.\n",
    "\n",
    "<img src='kaggle/fig25.jpg', height=400, width=600>\n",
    "\n",
    "Let's train it on the holdout data and create a submission file to see how it performs on the Kaggle leaderboard!\n",
    "\n",
    "<b>Instructions</b><br>\n",
    "- Assign the best performing model from the GridSearchCV object grid to best_rf.\n",
    "- Make predictions on the data from holdout_no_id using the best_rf model, and assign the result to holdout_predictions.\n",
    "- Create a dataframe submission with two columns:\n",
    "    - PassengerId, with the values from the PassengerId column of the holdout dataframe.\n",
    "    - Survived, with the values from holdout_predictions.\n",
    "- Use the DataFrame.to_csv method to save the submission dataframe to the filename submission_3.csv."
   ]
  },
  {
   "cell_type": "code",
   "execution_count": 51,
   "metadata": {},
   "outputs": [],
   "source": [
    "best_rf = grid.best_estimator_\n",
    "holdout_predictions = best_rf.predict(holdout_no_id)\n",
    "\n",
    "submission = pd.DataFrame({'PassengerId': holdout['PassengerId'],\n",
    "                 'Survived': holdout_predictions})\n",
    "\n",
    "submission.to_csv(\"submission_3.csv\", index=False)"
   ]
  },
  {
   "cell_type": "markdown",
   "metadata": {},
   "source": [
    "If you submit this to Kaggle, it achieves a score of 77.1%, considerably better than our k-nearest neighbors score of 75.6% and very close (2 incorrect predictions) to our best score from the previous mission of 78.0%\n",
    "\n",
    "<img src='kaggle/fig26.jpg', height314, width=716>\n",
    "\n",
    "By combining our strategies for feature selection, feature engineering, model selection and model tuning, we'll be able to continue to improve our score.\n",
    "\n",
    "The next and final mission in this course is a guided project, where we'll teach you how to combine everything you've learned into a real-life Kaggle workflow, and continue to improve your score."
   ]
  },
  {
   "cell_type": "markdown",
   "metadata": {},
   "source": [
    "# Kaggle Workflow"
   ]
  },
  {
   "cell_type": "markdown",
   "metadata": {},
   "source": [
    "<b>Instructions</b><br>\n",
    "- Use the %load magic command to load the contents of functions.py into a notebook cell and read through the functions you have imported.\n",
    "- Create a new function, which:\n",
    "    - Accepts a dataframe parameter\n",
    "    - Applies the process_missing(), process_age(), process_fare(), process_titles(), and process_cabin() functions to the dataframe\n",
    "    - Applies the create_dummies() function to the \"Age_categories\", \"Fare_categories\",\"Title\", \"Cabin_type\", and \"Sex\" columns.\n",
    "    - Returns the processed dataframe\n",
    "    - Apply the newly create function on the train and holdout dataframes."
   ]
  },
  {
   "cell_type": "code",
   "execution_count": 52,
   "metadata": {},
   "outputs": [],
   "source": [
    "# %load functions.py\n",
    "def process_missing(df):\n",
    "    \"\"\"Handle various missing values from the data set\n",
    "\n",
    "    Usage\n",
    "    ------\n",
    "\n",
    "    holdout = process_missing(holdout)\n",
    "    \"\"\"\n",
    "    df[\"Fare\"] = df[\"Fare\"].fillna(train[\"Fare\"].mean())\n",
    "    df[\"Embarked\"] = df[\"Embarked\"].fillna(\"S\")\n",
    "    return df\n",
    "\n",
    "def process_age(df):\n",
    "    \"\"\"Process the Age column into pre-defined 'bins' \n",
    "\n",
    "    Usage\n",
    "    ------\n",
    "\n",
    "    train = process_age(train)\n",
    "    \"\"\"\n",
    "    df[\"Age\"] = df[\"Age\"].fillna(-0.5)\n",
    "    cut_points = [-1,0,5,12,18,35,60,100]\n",
    "    label_names = [\"Missing\",\"Infant\",\"Child\",\"Teenager\",\"Young Adult\",\"Adult\",\"Senior\"]\n",
    "    df[\"Age_categories\"] = pd.cut(df[\"Age\"],cut_points,labels=label_names)\n",
    "    return df\n",
    "\n",
    "def process_fare(df):\n",
    "    \"\"\"Process the Fare column into pre-defined 'bins' \n",
    "\n",
    "    Usage\n",
    "    ------\n",
    "\n",
    "    train = process_fare(train)\n",
    "    \"\"\"\n",
    "    cut_points = [-1,12,50,100,1000]\n",
    "    label_names = [\"0-12\",\"12-50\",\"50-100\",\"100+\"]\n",
    "    df[\"Fare_categories\"] = pd.cut(df[\"Fare\"],cut_points,labels=label_names)\n",
    "    return df\n",
    "\n",
    "def process_cabin(df):\n",
    "    \"\"\"Process the Cabin column into pre-defined 'bins' \n",
    "\n",
    "    Usage\n",
    "    ------\n",
    "\n",
    "    train process_cabin(train)\n",
    "    \"\"\"\n",
    "    df[\"Cabin_type\"] = df[\"Cabin\"].str[0]\n",
    "    df[\"Cabin_type\"] = df[\"Cabin_type\"].fillna(\"Unknown\")\n",
    "\n",
    "    # There is only one passenger with Cabin type T, so change to 'Unknown'\n",
    "    df['Cabin_type'].iloc[df[df['Cabin_type'] == 'T'].index] = 'Unknown'\n",
    "\n",
    "    df = df.drop('Cabin', axis=1)\n",
    "    return df\n",
    "\n",
    "def process_titles(df):\n",
    "    \"\"\"Extract and categorize the title from the name column \n",
    "\n",
    "    Usage\n",
    "    ------\n",
    "\n",
    "    train = process_titles(train)\n",
    "    \"\"\"\n",
    "    titles = {\n",
    "        \"Mr\" :         \"Mr\",\n",
    "        \"Mme\":         \"Mrs\",\n",
    "        \"Ms\":          \"Mrs\",\n",
    "        \"Mrs\" :        \"Mrs\",\n",
    "        \"Master\" :     \"Master\",\n",
    "        \"Mlle\":        \"Miss\",\n",
    "        \"Miss\" :       \"Miss\",\n",
    "        \"Capt\":        \"Officer\",\n",
    "        \"Col\":         \"Officer\",\n",
    "        \"Major\":       \"Officer\",\n",
    "        \"Dr\":          \"Officer\",\n",
    "        \"Rev\":         \"Officer\",\n",
    "        \"Jonkheer\":    \"Royalty\",\n",
    "        \"Don\":         \"Royalty\",\n",
    "        \"Sir\" :        \"Royalty\",\n",
    "        \"Countess\":    \"Royalty\",\n",
    "        \"Dona\":        \"Royalty\",\n",
    "        \"Lady\" :       \"Royalty\"\n",
    "    }\n",
    "    extracted_titles = df[\"Name\"].str.extract(' ([A-Za-z]+)\\.',expand=False)\n",
    "    df[\"Title\"] = extracted_titles.map(titles)\n",
    "    return df\n",
    "\n",
    "def create_dummies(df,column_name):\n",
    "    \"\"\"Create Dummy Columns (One Hot Encoding) from a single Column\n",
    "\n",
    "    Usage\n",
    "    ------\n",
    "\n",
    "    train = create_dummies(train,\"Age\")\n",
    "    \"\"\"\n",
    "    dummies = pd.get_dummies(df[column_name],prefix=column_name)\n",
    "    df = pd.concat([df,dummies],axis=1)\n",
    "    return df"
   ]
  },
  {
   "cell_type": "code",
   "execution_count": 53,
   "metadata": {},
   "outputs": [],
   "source": [
    "def process_df(df):\n",
    "    df = process_missing(df)\n",
    "    df = process_age(df)\n",
    "    df = process_fare(df)\n",
    "    df = process_titles(df)\n",
    "    df = process_cabin(df)\n",
    "    df = create_dummies(df, [\"Age_categories\", \"Fare_categories\",\"Title\", \"Cabin_type\", 'Sex'])\n",
    "    return df"
   ]
  },
  {
   "cell_type": "code",
   "execution_count": 54,
   "metadata": {},
   "outputs": [],
   "source": [
    "train = pd.read_csv('train.csv')\n",
    "holdout = pd.read_csv('test.csv')"
   ]
  },
  {
   "cell_type": "code",
   "execution_count": 55,
   "metadata": {},
   "outputs": [
    {
     "name": "stderr",
     "output_type": "stream",
     "text": [
      "/usr/local/lib/python3.6/site-packages/pandas/core/indexing.py:194: SettingWithCopyWarning: \n",
      "A value is trying to be set on a copy of a slice from a DataFrame\n",
      "\n",
      "See the caveats in the documentation: http://pandas.pydata.org/pandas-docs/stable/indexing.html#indexing-view-versus-copy\n",
      "  self._setitem_with_indexer(indexer, value)\n"
     ]
    }
   ],
   "source": [
    "train = process_df(train)\n",
    "holdout = process_df(holdout)"
   ]
  },
  {
   "cell_type": "markdown",
   "metadata": {},
   "source": [
    "In the first three missions of this course, we have done a variety of activities, mostly in isolation: Exploring the data, creating features, selecting features, selecting and tuning different models.\n",
    "\n",
    "The Kaggle workflow we are going to build will combine all of these into a process.\n",
    "\n",
    "<img src='kaggle/fig27.svg', height=500, width=500>\n",
    "\n",
    "- Data exploration, to find patterns in the data\n",
    "- Feature engineering, to create new features from those patterns or through pure experimentation\n",
    "- Feature selection, to select the best subset of our current set of features\n",
    "- Model selection/tuning, training a number of models with different hyperparameters to find the best performer.\n",
    "\n",
    "We can continue to repeat this cycle as we work to optimize our predictions. At the end of any cycle we wish, we can also use our model to make predictions on the holdout set and then Submit to Kaggle to get a leaderboard score.\n",
    "\n",
    "While the first two steps of our workflow are relatively freeform, later in this project we'll create some functions that will help automate the complexity of the latter two steps so we can move faster.\n",
    "\n",
    "For now, let's practice the first stage, exploring the data. We're going to examine the two columns that contain information about the family members each passenger had onboard: SibSp and Parch.\n",
    "\n",
    "If you need some help with techniques for exploring and visualizing data, you might like to check out our Data Analysis with Pandas and Exploratory Data Visualization courses.\n",
    "\n",
    "<b>Instructions</b><br>\n",
    "- Review the data dictionary and variable notes for the Titanic competition on Kaggle's website to familiarize yourself with the SibSp and Parch columns.\n",
    "- Use pandas and matplotlib to explore those two columns. You might like to try:\n",
    "- Inspecting the type of the columns\n",
    "- Using histograms to view the distribution of values in the columns\n",
    "- Use pivot tables to look at the survival rate for different values of the columns\n",
    "- Find a way to combine the columns and look at the resulting distribution of values and survival rate"
   ]
  },
  {
   "cell_type": "code",
   "execution_count": 56,
   "metadata": {},
   "outputs": [
    {
     "data": {
      "text/plain": [
       "0    608\n",
       "1    209\n",
       "2     28\n",
       "4     18\n",
       "3     16\n",
       "8      7\n",
       "5      5\n",
       "Name: SibSp, dtype: int64"
      ]
     },
     "execution_count": 56,
     "metadata": {},
     "output_type": "execute_result"
    }
   ],
   "source": [
    "# sibsp # of siblings and spouses aboard the Titanic\n",
    "# parch # of parents and children aboard the Titanic\n",
    "\n",
    "train['SibSp'].value_counts()"
   ]
  },
  {
   "cell_type": "code",
   "execution_count": 57,
   "metadata": {},
   "outputs": [
    {
     "data": {
      "text/plain": [
       "0    678\n",
       "1    118\n",
       "2     80\n",
       "5      5\n",
       "3      5\n",
       "4      4\n",
       "6      1\n",
       "Name: Parch, dtype: int64"
      ]
     },
     "execution_count": 57,
     "metadata": {},
     "output_type": "execute_result"
    }
   ],
   "source": [
    "train['Parch'].value_counts()"
   ]
  },
  {
   "cell_type": "code",
   "execution_count": 58,
   "metadata": {},
   "outputs": [
    {
     "data": {
      "text/plain": [
       "<matplotlib.axes._subplots.AxesSubplot at 0x109dffcf8>"
      ]
     },
     "execution_count": 58,
     "metadata": {},
     "output_type": "execute_result"
    },
    {
     "data": {
      "image/png": "[encoded data removed]",
      "text/plain": [
       "<matplotlib.figure.Figure at 0x109102d68>"
      ]
     },
     "metadata": {},
     "output_type": "display_data"
    }
   ],
   "source": [
    "sns.set_style('darkgrid')\n",
    "sns.distplot(train['SibSp'], kde=False)"
   ]
  },
  {
   "cell_type": "code",
   "execution_count": 59,
   "metadata": {},
   "outputs": [
    {
     "data": {
      "text/plain": [
       "<matplotlib.axes._subplots.AxesSubplot at 0x109dffb00>"
      ]
     },
     "execution_count": 59,
     "metadata": {},
     "output_type": "execute_result"
    },
    {
     "data": {
      "image/png": "[encoded data removed]",
      "text/plain": [
       "<matplotlib.figure.Figure at 0x109180710>"
      ]
     },
     "metadata": {},
     "output_type": "display_data"
    }
   ],
   "source": [
    "sns.distplot(train['Parch'], kde=False)"
   ]
  },
  {
   "cell_type": "code",
   "execution_count": 60,
   "metadata": {},
   "outputs": [
    {
     "data": {
      "text/html": [
       "<div>\n",
       "<style scoped>\n",
       "    .dataframe tbody tr th:only-of-type {\n",
       "        vertical-align: middle;\n",
       "    }\n",
       "\n",
       "    .dataframe tbody tr th {\n",
       "        vertical-align: top;\n",
       "    }\n",
       "\n",
       "    .dataframe thead th {\n",
       "        text-align: right;\n",
       "    }\n",
       "</style>\n",
       "<table border=\"1\" class=\"dataframe\">\n",
       "  <thead>\n",
       "    <tr style=\"text-align: right;\">\n",
       "      <th></th>\n",
       "      <th>Survived</th>\n",
       "    </tr>\n",
       "    <tr>\n",
       "      <th>SibSp</th>\n",
       "      <th></th>\n",
       "    </tr>\n",
       "  </thead>\n",
       "  <tbody>\n",
       "    <tr>\n",
       "      <th>0</th>\n",
       "      <td>0.345395</td>\n",
       "    </tr>\n",
       "    <tr>\n",
       "      <th>1</th>\n",
       "      <td>0.535885</td>\n",
       "    </tr>\n",
       "    <tr>\n",
       "      <th>2</th>\n",
       "      <td>0.464286</td>\n",
       "    </tr>\n",
       "    <tr>\n",
       "      <th>3</th>\n",
       "      <td>0.250000</td>\n",
       "    </tr>\n",
       "    <tr>\n",
       "      <th>4</th>\n",
       "      <td>0.166667</td>\n",
       "    </tr>\n",
       "    <tr>\n",
       "      <th>5</th>\n",
       "      <td>0.000000</td>\n",
       "    </tr>\n",
       "    <tr>\n",
       "      <th>8</th>\n",
       "      <td>0.000000</td>\n",
       "    </tr>\n",
       "  </tbody>\n",
       "</table>\n",
       "</div>"
      ],
      "text/plain": [
       "       Survived\n",
       "SibSp          \n",
       "0      0.345395\n",
       "1      0.535885\n",
       "2      0.464286\n",
       "3      0.250000\n",
       "4      0.166667\n",
       "5      0.000000\n",
       "8      0.000000"
      ]
     },
     "execution_count": 60,
     "metadata": {},
     "output_type": "execute_result"
    }
   ],
   "source": [
    "train.pivot_table(index='SibSp', values='Survived')"
   ]
  },
  {
   "cell_type": "code",
   "execution_count": 61,
   "metadata": {},
   "outputs": [
    {
     "data": {
      "text/html": [
       "<div>\n",
       "<style scoped>\n",
       "    .dataframe tbody tr th:only-of-type {\n",
       "        vertical-align: middle;\n",
       "    }\n",
       "\n",
       "    .dataframe tbody tr th {\n",
       "        vertical-align: top;\n",
       "    }\n",
       "\n",
       "    .dataframe thead th {\n",
       "        text-align: right;\n",
       "    }\n",
       "</style>\n",
       "<table border=\"1\" class=\"dataframe\">\n",
       "  <thead>\n",
       "    <tr style=\"text-align: right;\">\n",
       "      <th></th>\n",
       "      <th>Survived</th>\n",
       "    </tr>\n",
       "    <tr>\n",
       "      <th>Parch</th>\n",
       "      <th></th>\n",
       "    </tr>\n",
       "  </thead>\n",
       "  <tbody>\n",
       "    <tr>\n",
       "      <th>0</th>\n",
       "      <td>0.343658</td>\n",
       "    </tr>\n",
       "    <tr>\n",
       "      <th>1</th>\n",
       "      <td>0.550847</td>\n",
       "    </tr>\n",
       "    <tr>\n",
       "      <th>2</th>\n",
       "      <td>0.500000</td>\n",
       "    </tr>\n",
       "    <tr>\n",
       "      <th>3</th>\n",
       "      <td>0.600000</td>\n",
       "    </tr>\n",
       "    <tr>\n",
       "      <th>4</th>\n",
       "      <td>0.000000</td>\n",
       "    </tr>\n",
       "    <tr>\n",
       "      <th>5</th>\n",
       "      <td>0.200000</td>\n",
       "    </tr>\n",
       "    <tr>\n",
       "      <th>6</th>\n",
       "      <td>0.000000</td>\n",
       "    </tr>\n",
       "  </tbody>\n",
       "</table>\n",
       "</div>"
      ],
      "text/plain": [
       "       Survived\n",
       "Parch          \n",
       "0      0.343658\n",
       "1      0.550847\n",
       "2      0.500000\n",
       "3      0.600000\n",
       "4      0.000000\n",
       "5      0.200000\n",
       "6      0.000000"
      ]
     },
     "execution_count": 61,
     "metadata": {},
     "output_type": "execute_result"
    }
   ],
   "source": [
    "train.pivot_table(index='Parch', values='Survived')"
   ]
  },
  {
   "cell_type": "markdown",
   "metadata": {},
   "source": [
    "You should have discovered in the previous step that by combining the values of SibSp and Parch into a single column, only 30% of the passengers who had no family members onboard survived.\n",
    "\n",
    "If you didn't get this conclusion, you can use the code segment below to verify this for yourself:\n",
    "\n",
    "    explore_cols = [\"SibSp\",\"Parch\",\"Survived\"]\n",
    "    explore = train[explore_cols].copy()\n",
    "\n",
    "    explore['familysize'] = explore[[\"SibSp\",\"Parch\"]].sum(axis=1)\n",
    "    pivot = explore.pivot_table(index=col,values=\"Survived\")\n",
    "    pivot.plot.bar(ylim=(0,1),yticks=np.arange(0,1,.1))\n",
    "    plt.show()\n",
    "\n",
    "Based on this, we can come up with an idea for a new feature - was the passenger alone. This will be a binary column containing the value:\n",
    "\n",
    "- 1 if the passenger has zero family members onboard\n",
    "- 0 if the passenger has one or more family members onboard\n",
    "\n",
    "Let's go ahead and create this feature.\n",
    "\n",
    "<b>Instructions</b><br>\n",
    "- Create a function, that:\n",
    "    - Accepts a dataframe as input\n",
    "    - Adds a new column, isalone that has the value 0 if the passenger has one or more family members onboard, and 1 if the passenger has zero family members onboard.\n",
    "    - Returns the new dataframe\n",
    "- Apply the newly created function to the train and holdout dataframes."
   ]
  },
  {
   "cell_type": "code",
   "execution_count": 62,
   "metadata": {},
   "outputs": [
    {
     "data": {
      "image/png": "[encoded data removed]",
      "text/plain": [
       "<matplotlib.figure.Figure at 0x10a0b4c50>"
      ]
     },
     "metadata": {},
     "output_type": "display_data"
    }
   ],
   "source": [
    "explore_cols = [\"SibSp\", \"Parch\", \"Survived\"]\n",
    "explore = train[explore_cols].copy()\n",
    "\n",
    "explore['familysize'] = explore[[\"SibSp\", \"Parch\"]].sum(axis=1)\n",
    "pivot = explore.pivot_table(index='familysize', values=\"Survived\")\n",
    "pivot.plot.bar(ylim=(0,1), yticks=np.arange(0,1,.1))\n",
    "plt.show()"
   ]
  },
  {
   "cell_type": "code",
   "execution_count": 63,
   "metadata": {},
   "outputs": [],
   "source": [
    "def isalone(df):\n",
    "    \"\"\"Adds a new column, iszlone, that has the value 0 if the passenger has one or more family\n",
    "    members onboard, and 1 if the passenger has zero family members onboard.\"\"\"\n",
    "    \n",
    "    family_size = df['SibSp'] + df['Parch']\n",
    "    df['isalone'] = (family_size == 0) * 1\n",
    "    \n",
    "    return df"
   ]
  },
  {
   "cell_type": "code",
   "execution_count": 64,
   "metadata": {},
   "outputs": [],
   "source": [
    "train = isalone(train)\n",
    "holdout = isalone(holdout)"
   ]
  },
  {
   "cell_type": "markdown",
   "metadata": {},
   "source": [
    "The next step in our workflow is feature selection. In the Feature Preparation, Selection and Engineering mission, we used scikit-learn's feature_selection.RFECV class to automate selecting the best-performing features using recursive feature elimination.\n",
    "\n",
    "To speed up our Kaggle workflow, we can create a function that performs this step for us, which will mean we can perform feature selection by calling a self-contained function and focus our efforts on the more creative part - exploring the data and engineering new features.\n",
    "\n",
    "You may remember that the first parameter when you instantiate a RFECV() object is an estimator. At the time we used a Logistic Regression estimator, but we've since discovered in the Model Selection and Tuning mission that Random Forests seems to be a better algorithm for this Kaggle competition.\n",
    "\n",
    "Let's write a function that:\n",
    "\n",
    "- Accepts a dataframe as input\n",
    "- Performs data preparation for machine learning\n",
    "- Uses recursive feature elimination and the random forests algorithm to find the best-performing set of features\n",
    "\n",
    "<b>Instructions</b><br>\n",
    "- Import feature_selection.RFECV and ensemble.RandomForestClassifier\n",
    "- Create a function, select_features(), that:\n",
    "    - Accepts a dataframe as input\n",
    "    - Removes any non-numeric columns or columns containing null values\n",
    "    - Creates all_X and all_y variables, making sure that all_X contains neither the PassengerId or Survived columns.\n",
    "    - Uses feature_selection.RFECV and ensemble.RandomForestClassifier to perform recursive feature elimination using:\n",
    "        - all_X and all_y\n",
    "        - A random state of 1\n",
    "        - 10 fold cross validation\n",
    "    - Prints a list of the best columns from recursive feature elimination\n",
    "    - Returns a list of the best columns from recursive feature elimination\n",
    "- Run the newly created function using the train dataframe as input and assign the result to a variable."
   ]
  },
  {
   "cell_type": "code",
   "execution_count": 65,
   "metadata": {},
   "outputs": [],
   "source": [
    "def select_features(df):\n",
    "    df = df.select_dtypes(include=['float', 'int'])\n",
    "    all_X = df.drop(['PassengerId', 'Survived'], axis=1)\n",
    "    all_y = df['Survived']\n",
    "    \n",
    "    rf = RandomForestClassifier(random_state=1)\n",
    "    selector = RFECV(rf, cv=10, n_jobs=-1)\n",
    "    selector.fit(all_X, all_y)\n",
    "    print(all_X.columns[selector.support_])\n",
    "    \n",
    "    return all_X.columns[selector.support_]"
   ]
  },
  {
   "cell_type": "code",
   "execution_count": 66,
   "metadata": {},
   "outputs": [
    {
     "name": "stdout",
     "output_type": "stream",
     "text": [
      "Index(['Pclass', 'Age', 'SibSp', 'Parch', 'Fare'], dtype='object')\n"
     ]
    }
   ],
   "source": [
    "best_features = select_features(train)"
   ]
  },
  {
   "cell_type": "markdown",
   "metadata": {},
   "source": [
    "Just like we did with feature selection, we can can write a function to do the heavy lifting of model selection and tuning. The function we'll create will use three different algorithms and use grid search to train using different combinations of hyperparameters to find the best performing model.\n",
    "\n",
    "We can achieve this by creating a list of dictionaries— that is, a list where each element of the list is a dictionary. Each dictionary should contain:\n",
    "\n",
    "The name of the particular model\n",
    "An estimator object for the model\n",
    "A dictionary of hyperparameters that we'll use for grid search.\n",
    "Here's an example of what one of these dictionaries will look like:\n",
    "\n",
    "    {\n",
    "        \"name\": \"KNeighborsClassifier\",\n",
    "        \"estimator\": KNeighborsClassifier(),\n",
    "        \"hyperparameters\":\n",
    "            {\n",
    "                \"n_neighbors\": range(1,20,2),\n",
    "                \"weights\": [\"distance\", \"uniform\"],\n",
    "                \"algorithm\": [\"ball_tree\", \"kd_tree\", \"brute\"],\n",
    "                \"p\": [1,2]\n",
    "            }\n",
    "    }\n",
    "\n",
    "We can then use a for loop to iterate over the list of dictionaries, and for each one we can use scikit-learn's model_selection.GridSearchCV class to find the best set of performing parameters, and add values for both the parameter set and the score to the dictionary.\n",
    "\n",
    "Finally, we can return the list of dictionaries, which will have our trained GridSearchCV objects as well as the results so we can see which was the most accurate.\n",
    "\n",
    "<b>Instructions</b><br>\n",
    "- Import model_selection.GridSearchCV, neighbors import KNeighborsClassifier, and linear_model import LogisticRegression\n",
    "- Create a function, select_model(), that:\n",
    "    - Accepts a dataframe and a list of features as input\n",
    "    - Splits the dataframe into all_X (containing only the features in the input parameter) and all_y\n",
    "    - Contains a list of dictionaries, each containing a model name, its estimator and a dictionary of hyperparameters:\n",
    "        - LogisticRegression, using the following hyperparameters:\n",
    "            - \"solver\": [\"newton-cg\", \"lbfgs\", \"liblinear\"\n",
    "        - KNeighborsClassifier, using the following hyperparameters:\n",
    "            - \"n_neighbors\": range(1,20,2)\n",
    "            - \"weights\": [\"distance\", \"uniform\"]\n",
    "            - \"algorithm\": [\"ball_tree\", \"kd_tree\", \"brute\"]\n",
    "            - \"p\": [1,2]\n",
    "        - RandomForestClassifier, using the following hyperparameters:\n",
    "            - \"n_estimators\": [4, 6, 9]\n",
    "            - \"criterion\": [\"entropy\", \"gini\"]\n",
    "            - \"max_depth\": [2, 5, 10]\n",
    "            - \"max_features\": [\"log2\", \"sqrt\"]\n",
    "            - \"min_samples_leaf\": [1, 5, 8]\n",
    "            - \"min_samples_split\": [2, 3, 5]\n",
    "    - Iterate over that list of dictionaries, and for each dictionary:\n",
    "        - Print the name of the model.\n",
    "        - Instantiate a GridSearchCV() object using the model, the dictionary of hyperparameters and specify 10 fold cross validation.\n",
    "        - Fit the GridSearchCV() object using all_X and all_y.\n",
    "        - Assign the parameters and score for the best model to the dictionary.\n",
    "        - Assign the best estimator for the best model to the dictionary.\n",
    "        - Print the the parameters and score for the best model.\n",
    "        - Return the list of dictionaries\n",
    "- Run the newly created function using the train dataframe and the output of select_features() as inputs and assign the result to a variable."
   ]
  },
  {
   "cell_type": "code",
   "execution_count": 67,
   "metadata": {},
   "outputs": [],
   "source": [
    "def select_model(df, features):\n",
    "    all_X = df[features]\n",
    "    all_y = df['Survived']\n",
    "    \n",
    "    models = [{'name': 'LogisticRegression',\n",
    "              'estimator': LogisticRegression(),\n",
    "              'hyperparameters':\n",
    "               {\n",
    "                   'solver': ['newton-cg', 'lbfgs', 'liblinear']\n",
    "               }\n",
    "              },\n",
    "              {\"name\": \"KNeighborsClassifier\",\n",
    "               \"estimator\": KNeighborsClassifier(),\n",
    "               \"hyperparameters\":\n",
    "               {\n",
    "                   \"n_neighbors\": range(1, 20, 2),\n",
    "                   \"weights\": [\"distance\", \"uniform\"],\n",
    "                   \"algorithm\": [\"ball_tree\", \"kd_tree\", \"brute\"],\n",
    "                   \"p\": [1,2]\n",
    "               }\n",
    "              },\n",
    "             {'name': 'RandomForestClassifier',\n",
    "             'estimator': RandomForestClassifier(),\n",
    "             'hyperparameters':\n",
    "              {\n",
    "                  'n_estimators': [4, 6, 9],\n",
    "                  'criterion': ['entropy', 'gini'],\n",
    "                  'max_depth': [2, 5, 10],\n",
    "                  'max_features': ['log2', 'sqrt'],\n",
    "                  'min_samples_leaf': [1, 5, 8],\n",
    "                  'min_samples_split': [2, 3, 5]\n",
    "              }\n",
    "             }]\n",
    "    \n",
    "    for model in models:\n",
    "        print(model['name'] + ':')\n",
    "        grid = GridSearchCV(estimator=model['estimator'], param_grid=model['hyperparameters'], cv=10)\n",
    "        grid.fit(all_X, all_y)\n",
    "        model['best_params'] = grid.best_params_\n",
    "        model['best_estimator'] = grid.best_estimator_\n",
    "        model['best_score'] = grid.best_score_\n",
    "        print('\\tBest Parameters:', model['best_estimator'])\n",
    "        print('\\tBest Score:', model['best_score'])\n",
    "        \n",
    "    return models"
   ]
  },
  {
   "cell_type": "code",
   "execution_count": 68,
   "metadata": {},
   "outputs": [
    {
     "name": "stdout",
     "output_type": "stream",
     "text": [
      "LogisticRegression:\n",
      "\tBest Parameters: LogisticRegression(C=1.0, class_weight=None, dual=False, fit_intercept=True,\n",
      "          intercept_scaling=1, max_iter=100, multi_class='ovr', n_jobs=1,\n",
      "          penalty='l2', random_state=None, solver='liblinear', tol=0.0001,\n",
      "          verbose=0, warm_start=False)\n",
      "\tBest Score: 0.7014590347923682\n",
      "KNeighborsClassifier:\n",
      "\tBest Parameters: KNeighborsClassifier(algorithm='brute', leaf_size=30, metric='minkowski',\n",
      "           metric_params=None, n_jobs=1, n_neighbors=15, p=1,\n",
      "           weights='distance')\n",
      "\tBest Score: 0.6980920314253648\n",
      "RandomForestClassifier:\n",
      "\tBest Parameters: RandomForestClassifier(bootstrap=True, class_weight=None, criterion='entropy',\n",
      "            max_depth=5, max_features='log2', max_leaf_nodes=None,\n",
      "            min_impurity_decrease=0.0, min_impurity_split=None,\n",
      "            min_samples_leaf=5, min_samples_split=3,\n",
      "            min_weight_fraction_leaf=0.0, n_estimators=6, n_jobs=1,\n",
      "            oob_score=False, random_state=None, verbose=0,\n",
      "            warm_start=False)\n",
      "\tBest Score: 0.7407407407407407\n"
     ]
    }
   ],
   "source": [
    "models = select_model(train, best_features)"
   ]
  },
  {
   "cell_type": "markdown",
   "metadata": {},
   "source": [
    "After running your function, you will have three scores from three different models. At this point in the workflow you have a decision to make: Do you want to train your best model on the holdout set and make a Kaggle submission, or do you want to go back to engineering features.\n",
    "\n",
    "You may find that adding a feature to your model doesn't improve your accuracy. In that case you should go back to data exploration and repeat the cycle again.\n",
    "\n",
    "If you're going to be continually submitting to Kaggle, a function will help make this easier. Let's create a function to automate this.\n",
    "\n",
    "Note that in our Jupyter Notebook environment, the DataFrame.to_csv() method will save the CSV in the same directory as your notebook, just as it would if you are running Jupyter locally. To download the CSV from our environment, you can either click the 'download' button to download all of your project files as a tar file, or click the Jupyter logo at the top of the interface, and navigate to the CSV itself to download just that file.\n",
    "\n",
    "<b>Instructions</b>\n",
    "- Create a function, save_submission_file(), that:\n",
    "    - Accepts a trained model and a list of columns as required arguments, and an optional filename argument\n",
    "    - Uses the model to make predictions on the holdout dataframe using the columns specified.\n",
    "    - Transforms the predictions into a submission dataframe with PassenderID and Survived columns as specified by Kaggle\n",
    "    - Saves that dataframe to a CSV file with either a default filename, or the filename specified by the optional argument\n",
    "- Retrieve the best performing model from the variable returned by select_model().\n",
    "- Use save_submission_file() to save out a CSV of predictions.\n",
    "- Download that file and submit it to Kaggle."
   ]
  },
  {
   "cell_type": "code",
   "execution_count": 69,
   "metadata": {},
   "outputs": [],
   "source": [
    "def save_submission_file(model, holdout, filename='submission.csv'):\n",
    "    prediction = model.predict(holdout)\n",
    "    submission = pd.DataFrame({'PassengerId': holdout['PassengerId'],\n",
    "                              'Survived': prediction})\n",
    "    submission.to_csv(filename)"
   ]
  },
  {
   "cell_type": "code",
   "execution_count": null,
   "metadata": {},
   "outputs": [],
   "source": []
  }
 ],
 "metadata": {
  "kernelspec": {
   "display_name": "Python 3",
   "language": "python",
   "name": "python3"
  },
  "language_info": {
   "codemirror_mode": {
    "name": "ipython",
    "version": 3
   },
   "file_extension": ".py",
   "mimetype": "text/x-python",
   "name": "python",
   "nbconvert_exporter": "python",
   "pygments_lexer": "ipython3",
   "version": "3.6.3"
  }
 },
 "nbformat": 4,
 "nbformat_minor": 2
}
